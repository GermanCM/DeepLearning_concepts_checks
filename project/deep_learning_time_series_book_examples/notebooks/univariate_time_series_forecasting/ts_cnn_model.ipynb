{
 "nbformat": 4,
 "nbformat_minor": 2,
 "metadata": {
  "language_info": {
   "name": "python",
   "codemirror_mode": {
    "name": "ipython",
    "version": 3
   },
   "version": "3.7.6-final"
  },
  "orig_nbformat": 2,
  "file_extension": ".py",
  "mimetype": "text/x-python",
  "name": "python",
  "npconvert_exporter": "python",
  "pygments_lexer": "ipython3",
  "version": 3,
  "kernelspec": {
   "name": "python3",
   "display_name": "Python 3"
  }
 },
 "cells": [
  {
   "cell_type": "markdown",
   "execution_count": null,
   "metadata": {},
   "outputs": [],
   "source": [
    "### TS with CNN, ref: pag.263 Brownlee"
   ]
  },
  {
   "cell_type": "code",
   "execution_count": 2,
   "metadata": {},
   "outputs": [],
   "source": [
    "# evaluate cnn for monthly car sales dataset\n",
    "from math import sqrt\n",
    "from numpy import array\n",
    "from numpy import mean\n",
    "from numpy import std\n",
    "from pandas import DataFrame\n",
    "from pandas import concat\n",
    "from pandas import read_csv\n",
    "from sklearn.metrics import mean_squared_error\n",
    "import tensorflow\n",
    "from tensorflow.keras.models import Sequential\n",
    "from tensorflow.keras.layers import Dense\n",
    "from tensorflow.keras.layers import Flatten\n",
    "from tensorflow.keras.layers import Conv1D\n",
    "from tensorflow.keras.layers import MaxPooling1D\n",
    "from matplotlib import pyplot\n",
    "import pandas as pd "
   ]
  },
  {
   "cell_type": "markdown",
   "execution_count": null,
   "metadata": {},
   "outputs": [],
   "source": [
    "### Example with a CHINA EV sales dataset"
   ]
  },
  {
   "cell_type": "code",
   "execution_count": 3,
   "metadata": {},
   "outputs": [
    {
     "data": {
      "text/html": "<div>\n<style scoped>\n    .dataframe tbody tr th:only-of-type {\n        vertical-align: middle;\n    }\n\n    .dataframe tbody tr th {\n        vertical-align: top;\n    }\n\n    .dataframe thead th {\n        text-align: right;\n    }\n</style>\n<table border=\"1\" class=\"dataframe\">\n  <thead>\n    <tr style=\"text-align: right;\">\n      <th></th>\n      <th>BEV</th>\n      <th>sales</th>\n    </tr>\n    <tr>\n      <th>Date</th>\n      <th></th>\n      <th></th>\n    </tr>\n  </thead>\n  <tbody>\n    <tr>\n      <th>2011-01-01</th>\n      <td>588</td>\n      <td>310</td>\n    </tr>\n    <tr>\n      <th>2011-02-01</th>\n      <td>47</td>\n      <td>417</td>\n    </tr>\n    <tr>\n      <th>2011-03-01</th>\n      <td>159</td>\n      <td>286</td>\n    </tr>\n    <tr>\n      <th>2011-04-01</th>\n      <td>173</td>\n      <td>162</td>\n    </tr>\n    <tr>\n      <th>2011-05-01</th>\n      <td>305</td>\n      <td>470</td>\n    </tr>\n  </tbody>\n</table>\n</div>",
      "text/plain": "            BEV  sales\nDate                  \n2011-01-01  588    310\n2011-02-01   47    417\n2011-03-01  159    286\n2011-04-01  173    162\n2011-05-01  305    470"
     },
     "execution_count": 3,
     "metadata": {},
     "output_type": "execute_result"
    }
   ],
   "source": [
    "#data source: https://datasetsearch.research.google.com/search?query=univariate%20time%20series&docid=Z2B66b7T3lUIl0y6AAAAAA%3D%3D&filters=bm9uZQ%3D%3D&property=aXNfYWNjZXNzaWJsZV9mb3JfZnJlZQ%3D%3D\n",
    "ev_sales_data = read_csv(r'.\\datasets\\china_electric_vehicles_sales.csv')\n",
    "\n",
    "ev_sales_data['Date'] = pd.to_datetime(ev_sales_data['Year/Month'])\n",
    "ev_sales_data.set_index('Date', inplace=True)\n",
    "ev_sales_data.drop(columns=['Year/Month'], inplace=True)\n",
    "\n",
    "sales_series_values = ev_sales_data['sales'].values\n",
    "ev_sales_data.head(5)"
   ]
  },
  {
   "cell_type": "code",
   "execution_count": 4,
   "metadata": {},
   "outputs": [
    {
     "data": {
      "text/html": "<div>\n<style scoped>\n    .dataframe tbody tr th:only-of-type {\n        vertical-align: middle;\n    }\n\n    .dataframe tbody tr th {\n        vertical-align: top;\n    }\n\n    .dataframe thead th {\n        text-align: right;\n    }\n</style>\n<table border=\"1\" class=\"dataframe\">\n  <thead>\n    <tr style=\"text-align: right;\">\n      <th></th>\n      <th>BEV</th>\n      <th>sales</th>\n      <th>year</th>\n      <th>month</th>\n    </tr>\n    <tr>\n      <th>Date</th>\n      <th></th>\n      <th></th>\n      <th></th>\n      <th></th>\n    </tr>\n  </thead>\n  <tbody>\n    <tr>\n      <th>2011-01-01</th>\n      <td>588</td>\n      <td>310</td>\n      <td>2011</td>\n      <td>1</td>\n    </tr>\n    <tr>\n      <th>2011-02-01</th>\n      <td>47</td>\n      <td>417</td>\n      <td>2011</td>\n      <td>2</td>\n    </tr>\n    <tr>\n      <th>2011-03-01</th>\n      <td>159</td>\n      <td>286</td>\n      <td>2011</td>\n      <td>3</td>\n    </tr>\n    <tr>\n      <th>2011-04-01</th>\n      <td>173</td>\n      <td>162</td>\n      <td>2011</td>\n      <td>4</td>\n    </tr>\n    <tr>\n      <th>2011-05-01</th>\n      <td>305</td>\n      <td>470</td>\n      <td>2011</td>\n      <td>5</td>\n    </tr>\n  </tbody>\n</table>\n</div>",
      "text/plain": "            BEV  sales  year  month\nDate                               \n2011-01-01  588    310  2011      1\n2011-02-01   47    417  2011      2\n2011-03-01  159    286  2011      3\n2011-04-01  173    162  2011      4\n2011-05-01  305    470  2011      5"
     },
     "execution_count": 4,
     "metadata": {},
     "output_type": "execute_result"
    }
   ],
   "source": [
    "ev_sales_data['year'] = pd.Series(ev_sales_data.index).apply(lambda x: x.year).values\n",
    "ev_sales_data['month'] = pd.Series(ev_sales_data.index).apply(lambda x: x.month).values\n",
    "ev_sales_data.head(5)"
   ]
  },
  {
   "cell_type": "code",
   "execution_count": 5,
   "metadata": {},
   "outputs": [],
   "source": [
    "# split a univariate dataset into train/test sets\n",
    "def train_test_split(data, n_test):\n",
    "    return data[:-int(n_test)], data[-int(n_test):]\n",
    "\n",
    "# transform list into supervised learning format\n",
    "def series_to_supervised(data, n_in, n_out=1):\n",
    "    df = DataFrame(data)\n",
    "    cols = list()\n",
    "    # input sequence (t-n, ... t-1)\n",
    "    for i in range(n_in, 0, -1):\n",
    "        cols.append(df.shift(i))\n",
    "    # forecast sequence (t, t+1, ... t+n)\n",
    "    for i in range(0, n_out):\n",
    "        cols.append(df.shift(-i))\n",
    "    # put it all together\n",
    "    agg = concat(cols, axis=1)\n",
    "    # drop rows with NaN values\n",
    "    agg.dropna(inplace=True)\n",
    "    \n",
    "    return agg.values\n"
   ]
  },
  {
   "cell_type": "markdown",
   "execution_count": 23,
   "metadata": {},
   "outputs": [],
   "source": [
    "### Aquí se crean las series de datos que se componen de datos de cada 5 meses (n_in) del histórico"
   ]
  },
  {
   "cell_type": "code",
   "execution_count": 6,
   "metadata": {},
   "outputs": [
    {
     "data": {
      "text/html": "<div>\n<style scoped>\n    .dataframe tbody tr th:only-of-type {\n        vertical-align: middle;\n    }\n\n    .dataframe tbody tr th {\n        vertical-align: top;\n    }\n\n    .dataframe thead th {\n        text-align: right;\n    }\n</style>\n<table border=\"1\" class=\"dataframe\">\n  <thead>\n    <tr style=\"text-align: right;\">\n      <th></th>\n      <th>0</th>\n      <th>1</th>\n      <th>2</th>\n      <th>3</th>\n      <th>4</th>\n      <th>5</th>\n    </tr>\n  </thead>\n  <tbody>\n    <tr>\n      <th>0</th>\n      <td>310.0</td>\n      <td>417.0</td>\n      <td>286.0</td>\n      <td>162.0</td>\n      <td>470.0</td>\n      <td>273.0</td>\n    </tr>\n    <tr>\n      <th>1</th>\n      <td>417.0</td>\n      <td>286.0</td>\n      <td>162.0</td>\n      <td>470.0</td>\n      <td>273.0</td>\n      <td>650.0</td>\n    </tr>\n    <tr>\n      <th>2</th>\n      <td>286.0</td>\n      <td>162.0</td>\n      <td>470.0</td>\n      <td>273.0</td>\n      <td>650.0</td>\n      <td>1323.0</td>\n    </tr>\n    <tr>\n      <th>3</th>\n      <td>162.0</td>\n      <td>470.0</td>\n      <td>273.0</td>\n      <td>650.0</td>\n      <td>1323.0</td>\n      <td>688.0</td>\n    </tr>\n    <tr>\n      <th>4</th>\n      <td>470.0</td>\n      <td>273.0</td>\n      <td>650.0</td>\n      <td>1323.0</td>\n      <td>688.0</td>\n      <td>663.0</td>\n    </tr>\n    <tr>\n      <th>5</th>\n      <td>273.0</td>\n      <td>650.0</td>\n      <td>1323.0</td>\n      <td>688.0</td>\n      <td>663.0</td>\n      <td>896.0</td>\n    </tr>\n    <tr>\n      <th>6</th>\n      <td>650.0</td>\n      <td>1323.0</td>\n      <td>688.0</td>\n      <td>663.0</td>\n      <td>896.0</td>\n      <td>443.0</td>\n    </tr>\n    <tr>\n      <th>7</th>\n      <td>1323.0</td>\n      <td>688.0</td>\n      <td>663.0</td>\n      <td>896.0</td>\n      <td>443.0</td>\n      <td>216.0</td>\n    </tr>\n    <tr>\n      <th>8</th>\n      <td>688.0</td>\n      <td>663.0</td>\n      <td>896.0</td>\n      <td>443.0</td>\n      <td>216.0</td>\n      <td>512.0</td>\n    </tr>\n    <tr>\n      <th>9</th>\n      <td>663.0</td>\n      <td>896.0</td>\n      <td>443.0</td>\n      <td>216.0</td>\n      <td>512.0</td>\n      <td>826.0</td>\n    </tr>\n    <tr>\n      <th>10</th>\n      <td>896.0</td>\n      <td>443.0</td>\n      <td>216.0</td>\n      <td>512.0</td>\n      <td>826.0</td>\n      <td>635.0</td>\n    </tr>\n    <tr>\n      <th>11</th>\n      <td>443.0</td>\n      <td>216.0</td>\n      <td>512.0</td>\n      <td>826.0</td>\n      <td>635.0</td>\n      <td>746.0</td>\n    </tr>\n    <tr>\n      <th>12</th>\n      <td>216.0</td>\n      <td>512.0</td>\n      <td>826.0</td>\n      <td>635.0</td>\n      <td>746.0</td>\n      <td>1483.0</td>\n    </tr>\n    <tr>\n      <th>13</th>\n      <td>512.0</td>\n      <td>826.0</td>\n      <td>635.0</td>\n      <td>746.0</td>\n      <td>1483.0</td>\n      <td>1728.0</td>\n    </tr>\n    <tr>\n      <th>14</th>\n      <td>826.0</td>\n      <td>635.0</td>\n      <td>746.0</td>\n      <td>1483.0</td>\n      <td>1728.0</td>\n      <td>1701.0</td>\n    </tr>\n    <tr>\n      <th>15</th>\n      <td>635.0</td>\n      <td>746.0</td>\n      <td>1483.0</td>\n      <td>1728.0</td>\n      <td>1701.0</td>\n      <td>1306.0</td>\n    </tr>\n    <tr>\n      <th>16</th>\n      <td>746.0</td>\n      <td>1483.0</td>\n      <td>1728.0</td>\n      <td>1701.0</td>\n      <td>1306.0</td>\n      <td>1395.0</td>\n    </tr>\n    <tr>\n      <th>17</th>\n      <td>1483.0</td>\n      <td>1728.0</td>\n      <td>1701.0</td>\n      <td>1306.0</td>\n      <td>1395.0</td>\n      <td>1999.0</td>\n    </tr>\n    <tr>\n      <th>18</th>\n      <td>1728.0</td>\n      <td>1701.0</td>\n      <td>1306.0</td>\n      <td>1395.0</td>\n      <td>1999.0</td>\n      <td>2741.0</td>\n    </tr>\n    <tr>\n      <th>19</th>\n      <td>1701.0</td>\n      <td>1306.0</td>\n      <td>1395.0</td>\n      <td>1999.0</td>\n      <td>2741.0</td>\n      <td>436.0</td>\n    </tr>\n    <tr>\n      <th>20</th>\n      <td>1306.0</td>\n      <td>1395.0</td>\n      <td>1999.0</td>\n      <td>2741.0</td>\n      <td>436.0</td>\n      <td>197.0</td>\n    </tr>\n    <tr>\n      <th>21</th>\n      <td>1395.0</td>\n      <td>1999.0</td>\n      <td>2741.0</td>\n      <td>436.0</td>\n      <td>197.0</td>\n      <td>583.0</td>\n    </tr>\n    <tr>\n      <th>22</th>\n      <td>1999.0</td>\n      <td>2741.0</td>\n      <td>436.0</td>\n      <td>197.0</td>\n      <td>583.0</td>\n      <td>546.0</td>\n    </tr>\n    <tr>\n      <th>23</th>\n      <td>2741.0</td>\n      <td>436.0</td>\n      <td>197.0</td>\n      <td>583.0</td>\n      <td>546.0</td>\n      <td>1517.0</td>\n    </tr>\n    <tr>\n      <th>24</th>\n      <td>436.0</td>\n      <td>197.0</td>\n      <td>583.0</td>\n      <td>546.0</td>\n      <td>1517.0</td>\n      <td>488.0</td>\n    </tr>\n    <tr>\n      <th>25</th>\n      <td>197.0</td>\n      <td>583.0</td>\n      <td>546.0</td>\n      <td>1517.0</td>\n      <td>488.0</td>\n      <td>123.0</td>\n    </tr>\n    <tr>\n      <th>26</th>\n      <td>583.0</td>\n      <td>546.0</td>\n      <td>1517.0</td>\n      <td>488.0</td>\n      <td>123.0</td>\n      <td>80.0</td>\n    </tr>\n    <tr>\n      <th>27</th>\n      <td>546.0</td>\n      <td>1517.0</td>\n      <td>488.0</td>\n      <td>123.0</td>\n      <td>80.0</td>\n      <td>52.0</td>\n    </tr>\n    <tr>\n      <th>28</th>\n      <td>1517.0</td>\n      <td>488.0</td>\n      <td>123.0</td>\n      <td>80.0</td>\n      <td>52.0</td>\n      <td>1.0</td>\n    </tr>\n    <tr>\n      <th>29</th>\n      <td>488.0</td>\n      <td>123.0</td>\n      <td>80.0</td>\n      <td>52.0</td>\n      <td>1.0</td>\n      <td>58.0</td>\n    </tr>\n    <tr>\n      <th>30</th>\n      <td>123.0</td>\n      <td>80.0</td>\n      <td>52.0</td>\n      <td>1.0</td>\n      <td>58.0</td>\n      <td>1373.0</td>\n    </tr>\n    <tr>\n      <th>31</th>\n      <td>80.0</td>\n      <td>52.0</td>\n      <td>1.0</td>\n      <td>58.0</td>\n      <td>1373.0</td>\n      <td>523.0</td>\n    </tr>\n    <tr>\n      <th>32</th>\n      <td>52.0</td>\n      <td>1.0</td>\n      <td>58.0</td>\n      <td>1373.0</td>\n      <td>523.0</td>\n      <td>387.0</td>\n    </tr>\n    <tr>\n      <th>33</th>\n      <td>1.0</td>\n      <td>58.0</td>\n      <td>1373.0</td>\n      <td>523.0</td>\n      <td>387.0</td>\n      <td>1589.0</td>\n    </tr>\n    <tr>\n      <th>34</th>\n      <td>58.0</td>\n      <td>1373.0</td>\n      <td>523.0</td>\n      <td>387.0</td>\n      <td>1589.0</td>\n      <td>1136.0</td>\n    </tr>\n    <tr>\n      <th>35</th>\n      <td>1373.0</td>\n      <td>523.0</td>\n      <td>387.0</td>\n      <td>1589.0</td>\n      <td>1136.0</td>\n      <td>1767.0</td>\n    </tr>\n    <tr>\n      <th>36</th>\n      <td>523.0</td>\n      <td>387.0</td>\n      <td>1589.0</td>\n      <td>1136.0</td>\n      <td>1767.0</td>\n      <td>1037.0</td>\n    </tr>\n    <tr>\n      <th>37</th>\n      <td>387.0</td>\n      <td>1589.0</td>\n      <td>1136.0</td>\n      <td>1767.0</td>\n      <td>1037.0</td>\n      <td>1709.0</td>\n    </tr>\n    <tr>\n      <th>38</th>\n      <td>1589.0</td>\n      <td>1136.0</td>\n      <td>1767.0</td>\n      <td>1037.0</td>\n      <td>1709.0</td>\n      <td>2460.0</td>\n    </tr>\n    <tr>\n      <th>39</th>\n      <td>1136.0</td>\n      <td>1767.0</td>\n      <td>1037.0</td>\n      <td>1709.0</td>\n      <td>2460.0</td>\n      <td>4358.0</td>\n    </tr>\n    <tr>\n      <th>40</th>\n      <td>1767.0</td>\n      <td>1037.0</td>\n      <td>1709.0</td>\n      <td>2460.0</td>\n      <td>4358.0</td>\n      <td>3160.0</td>\n    </tr>\n    <tr>\n      <th>41</th>\n      <td>1037.0</td>\n      <td>1709.0</td>\n      <td>2460.0</td>\n      <td>4358.0</td>\n      <td>3160.0</td>\n      <td>4346.0</td>\n    </tr>\n    <tr>\n      <th>42</th>\n      <td>1709.0</td>\n      <td>2460.0</td>\n      <td>4358.0</td>\n      <td>3160.0</td>\n      <td>4346.0</td>\n      <td>6897.0</td>\n    </tr>\n    <tr>\n      <th>43</th>\n      <td>2460.0</td>\n      <td>4358.0</td>\n      <td>3160.0</td>\n      <td>4346.0</td>\n      <td>6897.0</td>\n      <td>3148.0</td>\n    </tr>\n    <tr>\n      <th>44</th>\n      <td>4358.0</td>\n      <td>3160.0</td>\n      <td>4346.0</td>\n      <td>6897.0</td>\n      <td>3148.0</td>\n      <td>6334.0</td>\n    </tr>\n  </tbody>\n</table>\n</div>",
      "text/plain": "         0       1       2       3       4       5\n0    310.0   417.0   286.0   162.0   470.0   273.0\n1    417.0   286.0   162.0   470.0   273.0   650.0\n2    286.0   162.0   470.0   273.0   650.0  1323.0\n3    162.0   470.0   273.0   650.0  1323.0   688.0\n4    470.0   273.0   650.0  1323.0   688.0   663.0\n5    273.0   650.0  1323.0   688.0   663.0   896.0\n6    650.0  1323.0   688.0   663.0   896.0   443.0\n7   1323.0   688.0   663.0   896.0   443.0   216.0\n8    688.0   663.0   896.0   443.0   216.0   512.0\n9    663.0   896.0   443.0   216.0   512.0   826.0\n10   896.0   443.0   216.0   512.0   826.0   635.0\n11   443.0   216.0   512.0   826.0   635.0   746.0\n12   216.0   512.0   826.0   635.0   746.0  1483.0\n13   512.0   826.0   635.0   746.0  1483.0  1728.0\n14   826.0   635.0   746.0  1483.0  1728.0  1701.0\n15   635.0   746.0  1483.0  1728.0  1701.0  1306.0\n16   746.0  1483.0  1728.0  1701.0  1306.0  1395.0\n17  1483.0  1728.0  1701.0  1306.0  1395.0  1999.0\n18  1728.0  1701.0  1306.0  1395.0  1999.0  2741.0\n19  1701.0  1306.0  1395.0  1999.0  2741.0   436.0\n20  1306.0  1395.0  1999.0  2741.0   436.0   197.0\n21  1395.0  1999.0  2741.0   436.0   197.0   583.0\n22  1999.0  2741.0   436.0   197.0   583.0   546.0\n23  2741.0   436.0   197.0   583.0   546.0  1517.0\n24   436.0   197.0   583.0   546.0  1517.0   488.0\n25   197.0   583.0   546.0  1517.0   488.0   123.0\n26   583.0   546.0  1517.0   488.0   123.0    80.0\n27   546.0  1517.0   488.0   123.0    80.0    52.0\n28  1517.0   488.0   123.0    80.0    52.0     1.0\n29   488.0   123.0    80.0    52.0     1.0    58.0\n30   123.0    80.0    52.0     1.0    58.0  1373.0\n31    80.0    52.0     1.0    58.0  1373.0   523.0\n32    52.0     1.0    58.0  1373.0   523.0   387.0\n33     1.0    58.0  1373.0   523.0   387.0  1589.0\n34    58.0  1373.0   523.0   387.0  1589.0  1136.0\n35  1373.0   523.0   387.0  1589.0  1136.0  1767.0\n36   523.0   387.0  1589.0  1136.0  1767.0  1037.0\n37   387.0  1589.0  1136.0  1767.0  1037.0  1709.0\n38  1589.0  1136.0  1767.0  1037.0  1709.0  2460.0\n39  1136.0  1767.0  1037.0  1709.0  2460.0  4358.0\n40  1767.0  1037.0  1709.0  2460.0  4358.0  3160.0\n41  1037.0  1709.0  2460.0  4358.0  3160.0  4346.0\n42  1709.0  2460.0  4358.0  3160.0  4346.0  6897.0\n43  2460.0  4358.0  3160.0  4346.0  6897.0  3148.0\n44  4358.0  3160.0  4346.0  6897.0  3148.0  6334.0"
     },
     "execution_count": 6,
     "metadata": {},
     "output_type": "execute_result"
    }
   ],
   "source": [
    "train, test = train_test_split(sales_series_values, 10)\n",
    "n_in = 5 #5 meses por ej\n",
    "agg_values = series_to_supervised(train, n_in, n_out=1)\n",
    "\n",
    "import pandas as pd \n",
    "pd.DataFrame(agg_values)\n"
   ]
  },
  {
   "cell_type": "markdown",
   "execution_count": null,
   "metadata": {},
   "outputs": [],
   "source": [
    "### me salen 45 porque tenemos 10 meses de test, nos quedan 50 meses de train, que en batches de 5 meses son 45 registros de 5 meses each"
   ]
  },
  {
   "cell_type": "code",
   "execution_count": 7,
   "metadata": {},
   "outputs": [],
   "source": [
    "# root mean squared error or rmse\n",
    "def measure_rmse(actual, predicted):\n",
    "    return sqrt(mean_squared_error(actual, predicted))\n",
    "\n",
    "# fit a model\n",
    "def model_fit(train, config):\n",
    "    # unpack config\n",
    "    n_input, n_filters, n_kernel, n_epochs, n_batch = config\n",
    "    # prepare data\n",
    "    data = series_to_supervised(train, n_input)\n",
    "    train_x, train_y = data[:, :-1], data[:, -1]\n",
    "    train_x = train_x.reshape((train_x.shape[0], train_x.shape[1], 1))\n",
    "    # define model\n",
    "    model = Sequential()\n",
    "    model.add(Conv1D(filters=n_filters, kernel_size=n_kernel, activation='relu',\n",
    "              input_shape=(n_input, 1)))\n",
    "    model.add(Conv1D(filters=n_filters, kernel_size=n_kernel, activation='relu'))\n",
    "    model.add(MaxPooling1D(pool_size=2))\n",
    "    model.add(Flatten())\n",
    "    model.add(Dense(1))\n",
    "    model.compile(loss='mse', optimizer='adam')\n",
    "    # fit\n",
    "    model.fit(train_x, train_y, epochs=n_epochs, batch_size=n_batch, verbose=0)\n",
    "\n",
    "\n",
    "    return model\n",
    "\n",
    "# forecast with a pre-fit model\n",
    "def model_predict(model, history, config):\n",
    "    # unpack config\n",
    "    n_input, _, _, _, _ = config\n",
    "    # prepare data\n",
    "    x_input = array(history[-n_input:]).reshape((1, n_input, 1))\n",
    "    # forecast\n",
    "    yhat = model.predict(x_input, verbose=0)\n",
    "    return yhat[0]"
   ]
  },
  {
   "cell_type": "code",
   "execution_count": 8,
   "metadata": {},
   "outputs": [],
   "source": [
    "# walk-forward validation for univariate data\n",
    "def walk_forward_validation(data, n_test, cfg):\n",
    "    predictions = list()\n",
    "    # split dataset\n",
    "    train, test = train_test_split(data, n_test)\n",
    "    # fit model\n",
    "    model = model_fit(train, cfg)\n",
    "    # seed history with training dataset\n",
    "    history = [x for x in train]\n",
    "    # step over each time-step in the test set\n",
    "    for i in range(len(test)):\n",
    "        # fit model and make forecast for history\n",
    "        yhat = model_predict(model, history, cfg)\n",
    "        # store forecast in list of predictions\n",
    "        predictions.append(yhat)\n",
    "        # add actual observation to history for the next loop\n",
    "        history.append(test[i])\n",
    "    # estimate prediction error\n",
    "    error = measure_rmse(test, predictions)\n",
    "    print(' > %.3f' % error)\n",
    "\n",
    "    return error\n",
    "\n",
    "# repeat evaluation of a config\n",
    "def repeat_evaluate(data, config, n_test, n_repeats=30):\n",
    "    # fit and evaluate the model n times\n",
    "    predictions_matrix = []\n",
    "    scores = []\n",
    "    scores = [walk_forward_validation(data, n_test, config) for _ in range(n_repeats)]\n",
    "    '''\n",
    "    for _ in range(n_repeats):\n",
    "        score, predictions = walk_forward_validation(data, n_test, config) \n",
    "        scores.append(score)\n",
    "        predictions_matrix.append(predictions)\n",
    "    '''\n",
    "    return scores #, predictions_matrix\n",
    "\n",
    "# summarize model performance\n",
    "def summarize_scores(name, scores):\n",
    "    # print a summary\n",
    "    scores_m, score_std = mean(scores), std(scores)\n",
    "    print('%s: %.3f RMSE (+/- %.3f)' % (name, scores_m, score_std))\n",
    "    # box and whisker plot\n",
    "    pyplot.boxplot(scores)\n",
    "    pyplot.show()\n"
   ]
  },
  {
   "cell_type": "code",
   "execution_count": 11,
   "metadata": {},
   "outputs": [
    {
     "name": "stdout",
     "output_type": "stream",
     "text": "> 2218.214\n > 2307.200\n > 2111.429\n > 2078.953\n > 2052.709\n > 2090.165\n > 2154.809\n > 2010.615\n > 2164.505\n > 2116.451\n > 2103.951\n > 2236.652\n > 1960.107\n > 2216.249\n > 2141.966\n > 2162.868\n > 2210.134\n > 2201.634\n > 2059.303\n > 2182.909\n > 2246.286\n > 2166.302\n > 2251.157\n > 2233.676\n > 2208.650\n > 2167.452\n > 2127.296\n > 2216.315\n > 2138.943\n > 2045.110\n"
    }
   ],
   "source": [
    "# data split\n",
    "n_test = 10.0 #int(0.1*len(sales_series_values))\n",
    "# define config\n",
    "config = [6, 256, 2, 50, 100]\n",
    "# grid search\n",
    "scores = repeat_evaluate([tensorflow.cast(x, tensorflow.float32) for x in sales_series_values], config, n_test)\n"
   ]
  },
  {
   "cell_type": "code",
   "execution_count": 12,
   "metadata": {},
   "outputs": [
    {
     "name": "stdout",
     "output_type": "stream",
     "text": "cnn: 2152.734 RMSE (+/- 77.880)\n"
    },
    {
     "data": {
      "image/png": "[encoded data removed]",
      "image/svg+xml": "<?xml version=\"1.0\" encoding=\"utf-8\" standalone=\"no\"?>\r\n<!DOCTYPE svg PUBLIC \"-//W3C//DTD SVG 1.1//EN\"\r\n  \"http://www.w3.org/Graphics/SVG/1.1/DTD/svg11.dtd\">\r\n<!-- Created with matplotlib (https://matplotlib.org/) -->\r\n<svg height=\"248.518125pt\" version=\"1.1\" viewBox=\"0 0 381.65 248.518125\" width=\"381.65pt\" xmlns=\"http://www.w3.org/2000/svg\" xmlns:xlink=\"http://www.w3.org/1999/xlink\">\r\n <defs>\r\n  <style type=\"text/css\">\r\n*{stroke-linecap:butt;stroke-linejoin:round;}\r\n  </style>\r\n </defs>\r\n <g id=\"figure_1\">\r\n  <g id=\"patch_1\">\r\n   <path d=\"M -0 248.518125 \r\nL 381.65 248.518125 \r\nL 381.65 0 \r\nL -0 0 \r\nz\r\n\" style=\"fill:none;\"/>\r\n  </g>\r\n  <g id=\"axes_1\">\r\n   <g id=\"patch_2\">\r\n    <path d=\"M 39.65 224.64 \r\nL 374.45 224.64 \r\nL 374.45 7.2 \r\nL 39.65 7.2 \r\nz\r\n\" style=\"fill:#ffffff;\"/>\r\n   </g>\r\n   <g id=\"matplotlib.axis_1\">\r\n    <g id=\"xtick_1\">\r\n     <g id=\"line2d_1\">\r\n      <defs>\r\n       <path d=\"M 0 0 \r\nL 0 3.5 \r\n\" id=\"m982f62ba4f\" style=\"stroke:#000000;stroke-width:0.8;\"/>\r\n      </defs>\r\n      <g>\r\n       <use style=\"stroke:#000000;stroke-width:0.8;\" x=\"207.05\" xlink:href=\"#m982f62ba4f\" y=\"224.64\"/>\r\n      </g>\r\n     </g>\r\n     <g id=\"text_1\">\r\n      <!-- 1 -->\r\n      <defs>\r\n       <path d=\"M 12.40625 8.296875 \r\nL 28.515625 8.296875 \r\nL 28.515625 63.921875 \r\nL 10.984375 60.40625 \r\nL 10.984375 69.390625 \r\nL 28.421875 72.90625 \r\nL 38.28125 72.90625 \r\nL 38.28125 8.296875 \r\nL 54.390625 8.296875 \r\nL 54.390625 0 \r\nL 12.40625 0 \r\nz\r\n\" id=\"DejaVuSans-49\"/>\r\n      </defs>\r\n      <g transform=\"translate(203.86875 239.238438)scale(0.1 -0.1)\">\r\n       <use xlink:href=\"#DejaVuSans-49\"/>\r\n      </g>\r\n     </g>\r\n    </g>\r\n   </g>\r\n   <g id=\"matplotlib.axis_2\">\r\n    <g id=\"ytick_1\">\r\n     <g id=\"line2d_2\">\r\n      <defs>\r\n       <path d=\"M 0 0 \r\nL -3.5 0 \r\n\" id=\"ma7a2f95d2d\" style=\"stroke:#000000;stroke-width:0.8;\"/>\r\n      </defs>\r\n      <g>\r\n       <use style=\"stroke:#000000;stroke-width:0.8;\" x=\"39.65\" xlink:href=\"#ma7a2f95d2d\" y=\"220.512548\"/>\r\n      </g>\r\n     </g>\r\n     <g id=\"text_2\">\r\n      <!-- 1950 -->\r\n      <defs>\r\n       <path d=\"M 10.984375 1.515625 \r\nL 10.984375 10.5 \r\nQ 14.703125 8.734375 18.5 7.8125 \r\nQ 22.3125 6.890625 25.984375 6.890625 \r\nQ 35.75 6.890625 40.890625 13.453125 \r\nQ 46.046875 20.015625 46.78125 33.40625 \r\nQ 43.953125 29.203125 39.59375 26.953125 \r\nQ 35.25 24.703125 29.984375 24.703125 \r\nQ 19.046875 24.703125 12.671875 31.3125 \r\nQ 6.296875 37.9375 6.296875 49.421875 \r\nQ 6.296875 60.640625 12.9375 67.421875 \r\nQ 19.578125 74.21875 30.609375 74.21875 \r\nQ 43.265625 74.21875 49.921875 64.515625 \r\nQ 56.59375 54.828125 56.59375 36.375 \r\nQ 56.59375 19.140625 48.40625 8.859375 \r\nQ 40.234375 -1.421875 26.421875 -1.421875 \r\nQ 22.703125 -1.421875 18.890625 -0.6875 \r\nQ 15.09375 0.046875 10.984375 1.515625 \r\nz\r\nM 30.609375 32.421875 \r\nQ 37.25 32.421875 41.125 36.953125 \r\nQ 45.015625 41.5 45.015625 49.421875 \r\nQ 45.015625 57.28125 41.125 61.84375 \r\nQ 37.25 66.40625 30.609375 66.40625 \r\nQ 23.96875 66.40625 20.09375 61.84375 \r\nQ 16.21875 57.28125 16.21875 49.421875 \r\nQ 16.21875 41.5 20.09375 36.953125 \r\nQ 23.96875 32.421875 30.609375 32.421875 \r\nz\r\n\" id=\"DejaVuSans-57\"/>\r\n       <path d=\"M 10.796875 72.90625 \r\nL 49.515625 72.90625 \r\nL 49.515625 64.59375 \r\nL 19.828125 64.59375 \r\nL 19.828125 46.734375 \r\nQ 21.96875 47.46875 24.109375 47.828125 \r\nQ 26.265625 48.1875 28.421875 48.1875 \r\nQ 40.625 48.1875 47.75 41.5 \r\nQ 54.890625 34.8125 54.890625 23.390625 \r\nQ 54.890625 11.625 47.5625 5.09375 \r\nQ 40.234375 -1.421875 26.90625 -1.421875 \r\nQ 22.3125 -1.421875 17.546875 -0.640625 \r\nQ 12.796875 0.140625 7.71875 1.703125 \r\nL 7.71875 11.625 \r\nQ 12.109375 9.234375 16.796875 8.0625 \r\nQ 21.484375 6.890625 26.703125 6.890625 \r\nQ 35.15625 6.890625 40.078125 11.328125 \r\nQ 45.015625 15.765625 45.015625 23.390625 \r\nQ 45.015625 31 40.078125 35.4375 \r\nQ 35.15625 39.890625 26.703125 39.890625 \r\nQ 22.75 39.890625 18.8125 39.015625 \r\nQ 14.890625 38.140625 10.796875 36.28125 \r\nz\r\n\" id=\"DejaVuSans-53\"/>\r\n       <path d=\"M 31.78125 66.40625 \r\nQ 24.171875 66.40625 20.328125 58.90625 \r\nQ 16.5 51.421875 16.5 36.375 \r\nQ 16.5 21.390625 20.328125 13.890625 \r\nQ 24.171875 6.390625 31.78125 6.390625 \r\nQ 39.453125 6.390625 43.28125 13.890625 \r\nQ 47.125 21.390625 47.125 36.375 \r\nQ 47.125 51.421875 43.28125 58.90625 \r\nQ 39.453125 66.40625 31.78125 66.40625 \r\nz\r\nM 31.78125 74.21875 \r\nQ 44.046875 74.21875 50.515625 64.515625 \r\nQ 56.984375 54.828125 56.984375 36.375 \r\nQ 56.984375 17.96875 50.515625 8.265625 \r\nQ 44.046875 -1.421875 31.78125 -1.421875 \r\nQ 19.53125 -1.421875 13.0625 8.265625 \r\nQ 6.59375 17.96875 6.59375 36.375 \r\nQ 6.59375 54.828125 13.0625 64.515625 \r\nQ 19.53125 74.21875 31.78125 74.21875 \r\nz\r\n\" id=\"DejaVuSans-48\"/>\r\n      </defs>\r\n      <g transform=\"translate(7.2 224.311767)scale(0.1 -0.1)\">\r\n       <use xlink:href=\"#DejaVuSans-49\"/>\r\n       <use x=\"63.623047\" xlink:href=\"#DejaVuSans-57\"/>\r\n       <use x=\"127.246094\" xlink:href=\"#DejaVuSans-53\"/>\r\n       <use x=\"190.869141\" xlink:href=\"#DejaVuSans-48\"/>\r\n      </g>\r\n     </g>\r\n    </g>\r\n    <g id=\"ytick_2\">\r\n     <g id=\"line2d_3\">\r\n      <g>\r\n       <use style=\"stroke:#000000;stroke-width:0.8;\" x=\"39.65\" xlink:href=\"#ma7a2f95d2d\" y=\"192.037076\"/>\r\n      </g>\r\n     </g>\r\n     <g id=\"text_3\">\r\n      <!-- 2000 -->\r\n      <defs>\r\n       <path d=\"M 19.1875 8.296875 \r\nL 53.609375 8.296875 \r\nL 53.609375 0 \r\nL 7.328125 0 \r\nL 7.328125 8.296875 \r\nQ 12.9375 14.109375 22.625 23.890625 \r\nQ 32.328125 33.6875 34.8125 36.53125 \r\nQ 39.546875 41.84375 41.421875 45.53125 \r\nQ 43.3125 49.21875 43.3125 52.78125 \r\nQ 43.3125 58.59375 39.234375 62.25 \r\nQ 35.15625 65.921875 28.609375 65.921875 \r\nQ 23.96875 65.921875 18.8125 64.3125 \r\nQ 13.671875 62.703125 7.8125 59.421875 \r\nL 7.8125 69.390625 \r\nQ 13.765625 71.78125 18.9375 73 \r\nQ 24.125 74.21875 28.421875 74.21875 \r\nQ 39.75 74.21875 46.484375 68.546875 \r\nQ 53.21875 62.890625 53.21875 53.421875 \r\nQ 53.21875 48.921875 51.53125 44.890625 \r\nQ 49.859375 40.875 45.40625 35.40625 \r\nQ 44.1875 33.984375 37.640625 27.21875 \r\nQ 31.109375 20.453125 19.1875 8.296875 \r\nz\r\n\" id=\"DejaVuSans-50\"/>\r\n      </defs>\r\n      <g transform=\"translate(7.2 195.836295)scale(0.1 -0.1)\">\r\n       <use xlink:href=\"#DejaVuSans-50\"/>\r\n       <use x=\"63.623047\" xlink:href=\"#DejaVuSans-48\"/>\r\n       <use x=\"127.246094\" xlink:href=\"#DejaVuSans-48\"/>\r\n       <use x=\"190.869141\" xlink:href=\"#DejaVuSans-48\"/>\r\n      </g>\r\n     </g>\r\n    </g>\r\n    <g id=\"ytick_3\">\r\n     <g id=\"line2d_4\">\r\n      <g>\r\n       <use style=\"stroke:#000000;stroke-width:0.8;\" x=\"39.65\" xlink:href=\"#ma7a2f95d2d\" y=\"163.561605\"/>\r\n      </g>\r\n     </g>\r\n     <g id=\"text_4\">\r\n      <!-- 2050 -->\r\n      <g transform=\"translate(7.2 167.360824)scale(0.1 -0.1)\">\r\n       <use xlink:href=\"#DejaVuSans-50\"/>\r\n       <use x=\"63.623047\" xlink:href=\"#DejaVuSans-48\"/>\r\n       <use x=\"127.246094\" xlink:href=\"#DejaVuSans-53\"/>\r\n       <use x=\"190.869141\" xlink:href=\"#DejaVuSans-48\"/>\r\n      </g>\r\n     </g>\r\n    </g>\r\n    <g id=\"ytick_4\">\r\n     <g id=\"line2d_5\">\r\n      <g>\r\n       <use style=\"stroke:#000000;stroke-width:0.8;\" x=\"39.65\" xlink:href=\"#ma7a2f95d2d\" y=\"135.086133\"/>\r\n      </g>\r\n     </g>\r\n     <g id=\"text_5\">\r\n      <!-- 2100 -->\r\n      <g transform=\"translate(7.2 138.885352)scale(0.1 -0.1)\">\r\n       <use xlink:href=\"#DejaVuSans-50\"/>\r\n       <use x=\"63.623047\" xlink:href=\"#DejaVuSans-49\"/>\r\n       <use x=\"127.246094\" xlink:href=\"#DejaVuSans-48\"/>\r\n       <use x=\"190.869141\" xlink:href=\"#DejaVuSans-48\"/>\r\n      </g>\r\n     </g>\r\n    </g>\r\n    <g id=\"ytick_5\">\r\n     <g id=\"line2d_6\">\r\n      <g>\r\n       <use style=\"stroke:#000000;stroke-width:0.8;\" x=\"39.65\" xlink:href=\"#ma7a2f95d2d\" y=\"106.610662\"/>\r\n      </g>\r\n     </g>\r\n     <g id=\"text_6\">\r\n      <!-- 2150 -->\r\n      <g transform=\"translate(7.2 110.409881)scale(0.1 -0.1)\">\r\n       <use xlink:href=\"#DejaVuSans-50\"/>\r\n       <use x=\"63.623047\" xlink:href=\"#DejaVuSans-49\"/>\r\n       <use x=\"127.246094\" xlink:href=\"#DejaVuSans-53\"/>\r\n       <use x=\"190.869141\" xlink:href=\"#DejaVuSans-48\"/>\r\n      </g>\r\n     </g>\r\n    </g>\r\n    <g id=\"ytick_6\">\r\n     <g id=\"line2d_7\">\r\n      <g>\r\n       <use style=\"stroke:#000000;stroke-width:0.8;\" x=\"39.65\" xlink:href=\"#ma7a2f95d2d\" y=\"78.13519\"/>\r\n      </g>\r\n     </g>\r\n     <g id=\"text_7\">\r\n      <!-- 2200 -->\r\n      <g transform=\"translate(7.2 81.934409)scale(0.1 -0.1)\">\r\n       <use xlink:href=\"#DejaVuSans-50\"/>\r\n       <use x=\"63.623047\" xlink:href=\"#DejaVuSans-50\"/>\r\n       <use x=\"127.246094\" xlink:href=\"#DejaVuSans-48\"/>\r\n       <use x=\"190.869141\" xlink:href=\"#DejaVuSans-48\"/>\r\n      </g>\r\n     </g>\r\n    </g>\r\n    <g id=\"ytick_7\">\r\n     <g id=\"line2d_8\">\r\n      <g>\r\n       <use style=\"stroke:#000000;stroke-width:0.8;\" x=\"39.65\" xlink:href=\"#ma7a2f95d2d\" y=\"49.659719\"/>\r\n      </g>\r\n     </g>\r\n     <g id=\"text_8\">\r\n      <!-- 2250 -->\r\n      <g transform=\"translate(7.2 53.458938)scale(0.1 -0.1)\">\r\n       <use xlink:href=\"#DejaVuSans-50\"/>\r\n       <use x=\"63.623047\" xlink:href=\"#DejaVuSans-50\"/>\r\n       <use x=\"127.246094\" xlink:href=\"#DejaVuSans-53\"/>\r\n       <use x=\"190.869141\" xlink:href=\"#DejaVuSans-48\"/>\r\n      </g>\r\n     </g>\r\n    </g>\r\n    <g id=\"ytick_8\">\r\n     <g id=\"line2d_9\">\r\n      <g>\r\n       <use style=\"stroke:#000000;stroke-width:0.8;\" x=\"39.65\" xlink:href=\"#ma7a2f95d2d\" y=\"21.184247\"/>\r\n      </g>\r\n     </g>\r\n     <g id=\"text_9\">\r\n      <!-- 2300 -->\r\n      <defs>\r\n       <path d=\"M 40.578125 39.3125 \r\nQ 47.65625 37.796875 51.625 33 \r\nQ 55.609375 28.21875 55.609375 21.1875 \r\nQ 55.609375 10.40625 48.1875 4.484375 \r\nQ 40.765625 -1.421875 27.09375 -1.421875 \r\nQ 22.515625 -1.421875 17.65625 -0.515625 \r\nQ 12.796875 0.390625 7.625 2.203125 \r\nL 7.625 11.71875 \r\nQ 11.71875 9.328125 16.59375 8.109375 \r\nQ 21.484375 6.890625 26.8125 6.890625 \r\nQ 36.078125 6.890625 40.9375 10.546875 \r\nQ 45.796875 14.203125 45.796875 21.1875 \r\nQ 45.796875 27.640625 41.28125 31.265625 \r\nQ 36.765625 34.90625 28.71875 34.90625 \r\nL 20.21875 34.90625 \r\nL 20.21875 43.015625 \r\nL 29.109375 43.015625 \r\nQ 36.375 43.015625 40.234375 45.921875 \r\nQ 44.09375 48.828125 44.09375 54.296875 \r\nQ 44.09375 59.90625 40.109375 62.90625 \r\nQ 36.140625 65.921875 28.71875 65.921875 \r\nQ 24.65625 65.921875 20.015625 65.03125 \r\nQ 15.375 64.15625 9.8125 62.3125 \r\nL 9.8125 71.09375 \r\nQ 15.4375 72.65625 20.34375 73.4375 \r\nQ 25.25 74.21875 29.59375 74.21875 \r\nQ 40.828125 74.21875 47.359375 69.109375 \r\nQ 53.90625 64.015625 53.90625 55.328125 \r\nQ 53.90625 49.265625 50.4375 45.09375 \r\nQ 46.96875 40.921875 40.578125 39.3125 \r\nz\r\n\" id=\"DejaVuSans-51\"/>\r\n      </defs>\r\n      <g transform=\"translate(7.2 24.983466)scale(0.1 -0.1)\">\r\n       <use xlink:href=\"#DejaVuSans-50\"/>\r\n       <use x=\"63.623047\" xlink:href=\"#DejaVuSans-51\"/>\r\n       <use x=\"127.246094\" xlink:href=\"#DejaVuSans-48\"/>\r\n       <use x=\"190.869141\" xlink:href=\"#DejaVuSans-48\"/>\r\n      </g>\r\n     </g>\r\n    </g>\r\n   </g>\r\n   <g id=\"line2d_10\">\r\n    <path clip-path=\"url(#p1eff0713c2)\" d=\"M 181.94 131.771383 \r\nL 232.16 131.771383 \r\nL 232.16 69.751907 \r\nL 181.94 69.751907 \r\nL 181.94 131.771383 \r\n\" style=\"fill:none;stroke:#000000;stroke-linecap:square;\"/>\r\n   </g>\r\n   <g id=\"line2d_11\">\r\n    <path clip-path=\"url(#p1eff0713c2)\" d=\"M 207.05 131.771383 \r\nL 207.05 214.756364 \r\n\" style=\"fill:none;stroke:#000000;stroke-linecap:square;\"/>\r\n   </g>\r\n   <g id=\"line2d_12\">\r\n    <path clip-path=\"url(#p1eff0713c2)\" d=\"M 207.05 69.751907 \r\nL 207.05 17.083636 \r\n\" style=\"fill:none;stroke:#000000;stroke-linecap:square;\"/>\r\n   </g>\r\n   <g id=\"line2d_13\">\r\n    <path clip-path=\"url(#p1eff0713c2)\" d=\"M 194.495 214.756364 \r\nL 219.605 214.756364 \r\n\" style=\"fill:none;stroke:#000000;stroke-linecap:square;\"/>\r\n   </g>\r\n   <g id=\"line2d_14\">\r\n    <path clip-path=\"url(#p1eff0713c2)\" d=\"M 194.495 17.083636 \r\nL 219.605 17.083636 \r\n\" style=\"fill:none;stroke:#000000;stroke-linecap:square;\"/>\r\n   </g>\r\n   <g id=\"line2d_15\"/>\r\n   <g id=\"line2d_16\">\r\n    <path clip-path=\"url(#p1eff0713c2)\" d=\"M 181.94 98.81603 \r\nL 232.16 98.81603 \r\n\" style=\"fill:none;stroke:#ff7f0e;stroke-linecap:square;\"/>\r\n   </g>\r\n   <g id=\"patch_3\">\r\n    <path d=\"M 39.65 224.64 \r\nL 39.65 7.2 \r\n\" style=\"fill:none;stroke:#000000;stroke-linecap:square;stroke-linejoin:miter;stroke-width:0.8;\"/>\r\n   </g>\r\n   <g id=\"patch_4\">\r\n    <path d=\"M 374.45 224.64 \r\nL 374.45 7.2 \r\n\" style=\"fill:none;stroke:#000000;stroke-linecap:square;stroke-linejoin:miter;stroke-width:0.8;\"/>\r\n   </g>\r\n   <g id=\"patch_5\">\r\n    <path d=\"M 39.65 224.64 \r\nL 374.45 224.64 \r\n\" style=\"fill:none;stroke:#000000;stroke-linecap:square;stroke-linejoin:miter;stroke-width:0.8;\"/>\r\n   </g>\r\n   <g id=\"patch_6\">\r\n    <path d=\"M 39.65 7.2 \r\nL 374.45 7.2 \r\n\" style=\"fill:none;stroke:#000000;stroke-linecap:square;stroke-linejoin:miter;stroke-width:0.8;\"/>\r\n   </g>\r\n  </g>\r\n </g>\r\n <defs>\r\n  <clipPath id=\"p1eff0713c2\">\r\n   <rect height=\"217.44\" width=\"334.8\" x=\"39.65\" y=\"7.2\"/>\r\n  </clipPath>\r\n </defs>\r\n</svg>\r\n",
      "text/plain": "<Figure size 432x288 with 1 Axes>"
     },
     "metadata": {
      "needs_background": "light"
     },
     "output_type": "display_data"
    }
   ],
   "source": [
    "# summarize scores\n",
    "summarize_scores('cnn', scores)\n"
   ]
  },
  {
   "cell_type": "markdown",
   "execution_count": null,
   "metadata": {},
   "outputs": [],
   "source": [
    "### HEMOS REDUCIDO A MENOS DE LA MITAD EL ERROR OBTENIDO CON EL MLP"
   ]
  },
  {
   "cell_type": "code",
   "execution_count": null,
   "metadata": {},
   "outputs": [],
   "source": []
  }
 ]
}