{
 "nbformat": 4,
 "nbformat_minor": 2,
 "metadata": {
  "language_info": {
   "name": "python",
   "codemirror_mode": {
    "name": "ipython",
    "version": 3
   },
   "version": "3.7.6-final"
  },
  "orig_nbformat": 2,
  "file_extension": ".py",
  "mimetype": "text/x-python",
  "name": "python",
  "npconvert_exporter": "python",
  "pygments_lexer": "ipython3",
  "version": 3,
  "kernelspec": {
   "name": "python3",
   "display_name": "Python 3"
  }
 },
 "cells": [
  {
   "cell_type": "markdown",
   "execution_count": null,
   "metadata": {},
   "outputs": [],
   "source": [
    "## Baseline univariate time-series model  "
   ]
  },
  {
   "cell_type": "markdown",
   "execution_count": null,
   "metadata": {},
   "outputs": [],
   "source": [
    "### example: persistence forecast for monthly car sales dataset"
   ]
  },
  {
   "cell_type": "code",
   "execution_count": 6,
   "metadata": {},
   "outputs": [],
   "source": [
    "from math import sqrt\n",
    "from numpy import median, mean, std\n",
    "from pandas import read_csv\n",
    "from sklearn.metrics import mean_squared_error\n",
    "from matplotlib import pyplot"
   ]
  },
  {
   "cell_type": "markdown",
   "execution_count": null,
   "metadata": {},
   "outputs": [],
   "source": [
    "### Methods for splitting the dataset into train and test + evaluation metric calculation + model fit&predict"
   ]
  },
  {
   "cell_type": "code",
   "execution_count": 48,
   "metadata": {},
   "outputs": [],
   "source": [
    "# split a univariate dataset into train/test sets\n",
    "def train_test_split(data, n_test):\n",
    "    return data[:-n_test], data[-n_test:]\n",
    "\n",
    "# root mean squared error or rmse\n",
    "def measure_rmse(actual, predicted):\n",
    "    return sqrt(mean_squared_error(actual, predicted))\n",
    "\n",
    "# difference dataset\n",
    "def difference(data, interval):\n",
    "    return [data[i] - data[i - interval] for i in range(interval, len(data))]\n",
    "\n",
    "# fit a model\n",
    "def model_fit(train, config):\n",
    "    return None\n",
    "\n",
    "# forecast with a pre-fit model\n",
    "# naive model: median of values: sales at 1, 2 and 3 years ago\n",
    "def model_predict(model, history, config):\n",
    "    values = list()\n",
    "    for offset in config:\n",
    "        values.append(history[-offset])\n",
    "    return median(values)\n"
   ]
  },
  {
   "cell_type": "markdown",
   "execution_count": null,
   "metadata": {},
   "outputs": [],
   "source": [
    "### Methods for model evaluation "
   ]
  },
  {
   "cell_type": "code",
   "execution_count": 177,
   "metadata": {},
   "outputs": [],
   "source": [
    "# walk-forward validation for univariate data\n",
    "def walk_forward_validation(data, n_test, cfg):\n",
    "    predictions = list()\n",
    "    # split dataset\n",
    "    train, test = train_test_split(data, n_test)\n",
    "    # fit model\n",
    "    model = model_fit(train, cfg)\n",
    "    # seed history with training dataset\n",
    "    history = [x for x in train]\n",
    "    # step over each time-step in the test set\n",
    "    for i in range(len(test)):\n",
    "        # fit model and make forecast for history\n",
    "        yhat = model_predict(model, history, cfg)\n",
    "        # store forecast in list of predictions\n",
    "        predictions.append(yhat)\n",
    "        # add actual observation to history for the next loop\n",
    "        history.append(test[i])\n",
    "    # estimate prediction error\n",
    "    error = measure_rmse(test, predictions)\n",
    "    print(' > %.3f' % error)\n",
    "    \n",
    "    return error, predictions\n",
    "\n",
    "# repeat evaluation of a config\n",
    "def repeat_evaluate(data, config, n_test, n_repeats=30):\n",
    "    # fit and evaluate the model n times\n",
    "    predictions_matrix = []\n",
    "    scores = []\n",
    "    #scores = [walk_forward_validation(data, n_test, config) for _ in range(n_repeats)]\n",
    "    for _ in range(n_repeats):\n",
    "        score, predictions = walk_forward_validation(data, n_test, config) \n",
    "        scores.append(score)\n",
    "        predictions_matrix.append(predictions)\n",
    "    \n",
    "    return scores, predictions_matrix\n",
    "\n",
    "# summarize model performance\n",
    "def summarize_scores(name, scores):\n",
    "    # print a summary\n",
    "    scores_m, score_std = mean(scores), std(scores)\n",
    "    print('%s: %.3f RMSE (+/- %.3f)' % (name, scores_m, score_std))\n",
    "    # box and whisker plot\n",
    "    pyplot.boxplot(scores)\n",
    "    pyplot.show()\n"
   ]
  },
  {
   "cell_type": "code",
   "execution_count": 194,
   "metadata": {},
   "outputs": [],
   "source": [
    "def make_line_plots(title, dataset, attributes_to_plot=[], x_axis_label='x', y_axis_label='y', \n",
    "                        background_color=None, legend_location=\"top_left\", line_colors=['red']):\n",
    "        try:\n",
    "            from bokeh.plotting import figure, show, output_file\n",
    "            from bokeh.models import HoverTool\n",
    "            from bokeh.io import output_notebook\n",
    "\n",
    "            output_notebook()\n",
    "\n",
    "            p = figure(title=title, tools='', background_fill_color=background_color)\n",
    "            p.legend.location = legend_location\n",
    "\n",
    "            x_values = dataset.index\n",
    "            i = 0\n",
    "            for attribute in attributes_to_plot:\n",
    "                    attribute_values = dataset[attribute]\n",
    "                    p.line(x_values, attribute_values, legend=attribute, line_dash=[4, 4], line_color=line_colors[i], \n",
    "                            line_width=2)\n",
    "                    i += 1\n",
    "\n",
    "\n",
    "            p.y_range.start = 0\n",
    "            #p.legend.location = \"center_right\"\n",
    "            p.legend.background_fill_color = background_color\n",
    "            p.xaxis.axis_label = x_axis_label\n",
    "            p.yaxis.axis_label = y_axis_label\n",
    "            p.grid.grid_line_color=\"white\"\n",
    "\n",
    "            p.add_tools(HoverTool())\n",
    "            p.select_one(HoverTool).tooltips = [\n",
    "                                    (x_axis_label, '@x'),\n",
    "                                    (y_axis_label, '@y'),\n",
    "                                ]\n",
    "            p.legend.click_policy=\"hide\"\n",
    "\n",
    "            show(p)\n",
    "\n",
    "        except Exception as exc:\n",
    "            logger.exception('raised exception at {}: {}'.format(logger.name+'.'+make_line_plots.__name__, exc))\n"
   ]
  },
  {
   "cell_type": "markdown",
   "execution_count": null,
   "metadata": {},
   "outputs": [],
   "source": [
    "### Example with a CHINA EV sales dataset "
   ]
  },
  {
   "cell_type": "code",
   "execution_count": 195,
   "metadata": {},
   "outputs": [
    {
     "data": {
      "text/html": "<div>\n<style scoped>\n    .dataframe tbody tr th:only-of-type {\n        vertical-align: middle;\n    }\n\n    .dataframe tbody tr th {\n        vertical-align: top;\n    }\n\n    .dataframe thead th {\n        text-align: right;\n    }\n</style>\n<table border=\"1\" class=\"dataframe\">\n  <thead>\n    <tr style=\"text-align: right;\">\n      <th></th>\n      <th>Year/Month</th>\n      <th>BEV</th>\n      <th>sales</th>\n    </tr>\n  </thead>\n  <tbody>\n    <tr>\n      <th>0</th>\n      <td>2011/01</td>\n      <td>588</td>\n      <td>310</td>\n    </tr>\n    <tr>\n      <th>1</th>\n      <td>2011/02</td>\n      <td>47</td>\n      <td>417</td>\n    </tr>\n    <tr>\n      <th>2</th>\n      <td>2011/03</td>\n      <td>159</td>\n      <td>286</td>\n    </tr>\n    <tr>\n      <th>3</th>\n      <td>2011/04</td>\n      <td>173</td>\n      <td>162</td>\n    </tr>\n    <tr>\n      <th>4</th>\n      <td>2011/05</td>\n      <td>305</td>\n      <td>470</td>\n    </tr>\n    <tr>\n      <th>5</th>\n      <td>2011/06</td>\n      <td>319</td>\n      <td>273</td>\n    </tr>\n  </tbody>\n</table>\n</div>",
      "text/plain": "  Year/Month  BEV  sales\n0    2011/01  588    310\n1    2011/02   47    417\n2    2011/03  159    286\n3    2011/04  173    162\n4    2011/05  305    470\n5    2011/06  319    273"
     },
     "execution_count": 195,
     "metadata": {},
     "output_type": "execute_result"
    }
   ],
   "source": [
    "#data source: https://datasetsearch.research.google.com/search?query=univariate%20time%20series&docid=Z2B66b7T3lUIl0y6AAAAAA%3D%3D&filters=bm9uZQ%3D%3D&property=aXNfYWNjZXNzaWJsZV9mb3JfZnJlZQ%3D%3D\n",
    "ev_sales_data = read_csv(r'.\\datasets\\china_electric_vehicles_sales.csv')\n",
    "\n",
    "ev_sales_data.iloc[:6]"
   ]
  },
  {
   "cell_type": "code",
   "execution_count": 196,
   "metadata": {},
   "outputs": [
    {
     "data": {
      "text/html": "<div>\n<style scoped>\n    .dataframe tbody tr th:only-of-type {\n        vertical-align: middle;\n    }\n\n    .dataframe tbody tr th {\n        vertical-align: top;\n    }\n\n    .dataframe thead th {\n        text-align: right;\n    }\n</style>\n<table border=\"1\" class=\"dataframe\">\n  <thead>\n    <tr style=\"text-align: right;\">\n      <th></th>\n      <th>BEV</th>\n      <th>sales</th>\n    </tr>\n    <tr>\n      <th>Date</th>\n      <th></th>\n      <th></th>\n    </tr>\n  </thead>\n  <tbody>\n    <tr>\n      <th>2011-01-01</th>\n      <td>588</td>\n      <td>310</td>\n    </tr>\n    <tr>\n      <th>2011-02-01</th>\n      <td>47</td>\n      <td>417</td>\n    </tr>\n    <tr>\n      <th>2011-03-01</th>\n      <td>159</td>\n      <td>286</td>\n    </tr>\n    <tr>\n      <th>2011-04-01</th>\n      <td>173</td>\n      <td>162</td>\n    </tr>\n    <tr>\n      <th>2011-05-01</th>\n      <td>305</td>\n      <td>470</td>\n    </tr>\n  </tbody>\n</table>\n</div>",
      "text/plain": "            BEV  sales\nDate                  \n2011-01-01  588    310\n2011-02-01   47    417\n2011-03-01  159    286\n2011-04-01  173    162\n2011-05-01  305    470"
     },
     "execution_count": 196,
     "metadata": {},
     "output_type": "execute_result"
    }
   ],
   "source": [
    "ev_sales_data['Date'] = pd.to_datetime(ev_sales_data['Year/Month'])\n",
    "ev_sales_data.set_index('Date', inplace=True)\n",
    "ev_sales_data.drop(columns=['Year/Month'], inplace=True)\n",
    "\n",
    "sales_series_values = ev_sales_data['sales'].values\n",
    "ev_sales_data.head(5)"
   ]
  },
  {
   "cell_type": "code",
   "execution_count": 197,
   "metadata": {},
   "outputs": [
    {
     "data": {
      "text/html": "<div>\n<style scoped>\n    .dataframe tbody tr th:only-of-type {\n        vertical-align: middle;\n    }\n\n    .dataframe tbody tr th {\n        vertical-align: top;\n    }\n\n    .dataframe thead th {\n        text-align: right;\n    }\n</style>\n<table border=\"1\" class=\"dataframe\">\n  <thead>\n    <tr style=\"text-align: right;\">\n      <th></th>\n      <th>BEV</th>\n      <th>sales</th>\n      <th>year</th>\n      <th>month</th>\n    </tr>\n    <tr>\n      <th>Date</th>\n      <th></th>\n      <th></th>\n      <th></th>\n      <th></th>\n    </tr>\n  </thead>\n  <tbody>\n    <tr>\n      <th>2011-01-01</th>\n      <td>588</td>\n      <td>310</td>\n      <td>2011</td>\n      <td>1</td>\n    </tr>\n    <tr>\n      <th>2011-02-01</th>\n      <td>47</td>\n      <td>417</td>\n      <td>2011</td>\n      <td>2</td>\n    </tr>\n    <tr>\n      <th>2011-03-01</th>\n      <td>159</td>\n      <td>286</td>\n      <td>2011</td>\n      <td>3</td>\n    </tr>\n    <tr>\n      <th>2011-04-01</th>\n      <td>173</td>\n      <td>162</td>\n      <td>2011</td>\n      <td>4</td>\n    </tr>\n    <tr>\n      <th>2011-05-01</th>\n      <td>305</td>\n      <td>470</td>\n      <td>2011</td>\n      <td>5</td>\n    </tr>\n  </tbody>\n</table>\n</div>",
      "text/plain": "            BEV  sales  year  month\nDate                               \n2011-01-01  588    310  2011      1\n2011-02-01   47    417  2011      2\n2011-03-01  159    286  2011      3\n2011-04-01  173    162  2011      4\n2011-05-01  305    470  2011      5"
     },
     "execution_count": 197,
     "metadata": {},
     "output_type": "execute_result"
    }
   ],
   "source": [
    "ev_sales_data['year'] = pd.Series(ev_sales_data.index).apply(lambda x: x.year).values\n",
    "ev_sales_data['month'] = pd.Series(ev_sales_data.index).apply(lambda x: x.month).values\n",
    "ev_sales_data.head(5)"
   ]
  },
  {
   "cell_type": "code",
   "execution_count": 198,
   "metadata": {},
   "outputs": [
    {
     "data": {
      "text/html": "\n    <div class=\"bk-root\">\n        <a href=\"https://bokeh.org\" target=\"_blank\" class=\"bk-logo bk-logo-small bk-logo-notebook\"></a>\n        <span id=\"2014\">Loading BokehJS ...</span>\n    </div>"
     },
     "metadata": {},
     "output_type": "display_data"
    },
    {
     "data": {
      "application/javascript": "\n(function(root) {\n  function now() {\n    return new Date();\n  }\n\n  var force = true;\n\n  if (typeof root._bokeh_onload_callbacks === \"undefined\" || force === true) {\n    root._bokeh_onload_callbacks = [];\n    root._bokeh_is_loading = undefined;\n  }\n\n  var JS_MIME_TYPE = 'application/javascript';\n  var HTML_MIME_TYPE = 'text/html';\n  var EXEC_MIME_TYPE = 'application/vnd.bokehjs_exec.v0+json';\n  var CLASS_NAME = 'output_bokeh rendered_html';\n\n  /**\n   * Render data to the DOM node\n   */\n  function render(props, node) {\n    var script = document.createElement(\"script\");\n    node.appendChild(script);\n  }\n\n  /**\n   * Handle when an output is cleared or removed\n   */\n  function handleClearOutput(event, handle) {\n    var cell = handle.cell;\n\n    var id = cell.output_area._bokeh_element_id;\n    var server_id = cell.output_area._bokeh_server_id;\n    // Clean up Bokeh references\n    if (id != null && id in Bokeh.index) {\n      Bokeh.index[id].model.document.clear();\n      delete Bokeh.index[id];\n    }\n\n    if (server_id !== undefined) {\n      // Clean up Bokeh references\n      var cmd = \"from bokeh.io.state import curstate; print(curstate().uuid_to_server['\" + server_id + \"'].get_sessions()[0].document.roots[0]._id)\";\n      cell.notebook.kernel.execute(cmd, {\n        iopub: {\n          output: function(msg) {\n            var id = msg.content.text.trim();\n            if (id in Bokeh.index) {\n              Bokeh.index[id].model.document.clear();\n              delete Bokeh.index[id];\n            }\n          }\n        }\n      });\n      // Destroy server and session\n      var cmd = \"import bokeh.io.notebook as ion; ion.destroy_server('\" + server_id + \"')\";\n      cell.notebook.kernel.execute(cmd);\n    }\n  }\n\n  /**\n   * Handle when a new output is added\n   */\n  function handleAddOutput(event, handle) {\n    var output_area = handle.output_area;\n    var output = handle.output;\n\n    // limit handleAddOutput to display_data with EXEC_MIME_TYPE content only\n    if ((output.output_type != \"display_data\") || (!output.data.hasOwnProperty(EXEC_MIME_TYPE))) {\n      return\n    }\n\n    var toinsert = output_area.element.find(\".\" + CLASS_NAME.split(' ')[0]);\n\n    if (output.metadata[EXEC_MIME_TYPE][\"id\"] !== undefined) {\n      toinsert[toinsert.length - 1].firstChild.textContent = output.data[JS_MIME_TYPE];\n      // store reference to embed id on output_area\n      output_area._bokeh_element_id = output.metadata[EXEC_MIME_TYPE][\"id\"];\n    }\n    if (output.metadata[EXEC_MIME_TYPE][\"server_id\"] !== undefined) {\n      var bk_div = document.createElement(\"div\");\n      bk_div.innerHTML = output.data[HTML_MIME_TYPE];\n      var script_attrs = bk_div.children[0].attributes;\n      for (var i = 0; i < script_attrs.length; i++) {\n        toinsert[toinsert.length - 1].firstChild.setAttribute(script_attrs[i].name, script_attrs[i].value);\n      }\n      // store reference to server id on output_area\n      output_area._bokeh_server_id = output.metadata[EXEC_MIME_TYPE][\"server_id\"];\n    }\n  }\n\n  function register_renderer(events, OutputArea) {\n\n    function append_mime(data, metadata, element) {\n      // create a DOM node to render to\n      var toinsert = this.create_output_subarea(\n        metadata,\n        CLASS_NAME,\n        EXEC_MIME_TYPE\n      );\n      this.keyboard_manager.register_events(toinsert);\n      // Render to node\n      var props = {data: data, metadata: metadata[EXEC_MIME_TYPE]};\n      render(props, toinsert[toinsert.length - 1]);\n      element.append(toinsert);\n      return toinsert\n    }\n\n    /* Handle when an output is cleared or removed */\n    events.on('clear_output.CodeCell', handleClearOutput);\n    events.on('delete.Cell', handleClearOutput);\n\n    /* Handle when a new output is added */\n    events.on('output_added.OutputArea', handleAddOutput);\n\n    /**\n     * Register the mime type and append_mime function with output_area\n     */\n    OutputArea.prototype.register_mime_type(EXEC_MIME_TYPE, append_mime, {\n      /* Is output safe? */\n      safe: true,\n      /* Index of renderer in `output_area.display_order` */\n      index: 0\n    });\n  }\n\n  // register the mime type if in Jupyter Notebook environment and previously unregistered\n  if (root.Jupyter !== undefined) {\n    var events = require('base/js/events');\n    var OutputArea = require('notebook/js/outputarea').OutputArea;\n\n    if (OutputArea.prototype.mime_types().indexOf(EXEC_MIME_TYPE) == -1) {\n      register_renderer(events, OutputArea);\n    }\n  }\n\n  \n  if (typeof (root._bokeh_timeout) === \"undefined\" || force === true) {\n    root._bokeh_timeout = Date.now() + 5000;\n    root._bokeh_failed_load = false;\n  }\n\n  var NB_LOAD_WARNING = {'data': {'text/html':\n     \"<div style='background-color: #fdd'>\\n\"+\n     \"<p>\\n\"+\n     \"BokehJS does not appear to have successfully loaded. If loading BokehJS from CDN, this \\n\"+\n     \"may be due to a slow or bad network connection. Possible fixes:\\n\"+\n     \"</p>\\n\"+\n     \"<ul>\\n\"+\n     \"<li>re-rerun `output_notebook()` to attempt to load from CDN again, or</li>\\n\"+\n     \"<li>use INLINE resources instead, as so:</li>\\n\"+\n     \"</ul>\\n\"+\n     \"<code>\\n\"+\n     \"from bokeh.resources import INLINE\\n\"+\n     \"output_notebook(resources=INLINE)\\n\"+\n     \"</code>\\n\"+\n     \"</div>\"}};\n\n  function display_loaded() {\n    var el = document.getElementById(\"2014\");\n    if (el != null) {\n      el.textContent = \"BokehJS is loading...\";\n    }\n    if (root.Bokeh !== undefined) {\n      if (el != null) {\n        el.textContent = \"BokehJS \" + root.Bokeh.version + \" successfully loaded.\";\n      }\n    } else if (Date.now() < root._bokeh_timeout) {\n      setTimeout(display_loaded, 100)\n    }\n  }\n\n\n  function run_callbacks() {\n    try {\n      root._bokeh_onload_callbacks.forEach(function(callback) {\n        if (callback != null)\n          callback();\n      });\n    } finally {\n      delete root._bokeh_onload_callbacks\n    }\n    console.debug(\"Bokeh: all callbacks have finished\");\n  }\n\n  function load_libs(css_urls, js_urls, callback) {\n    if (css_urls == null) css_urls = [];\n    if (js_urls == null) js_urls = [];\n\n    root._bokeh_onload_callbacks.push(callback);\n    if (root._bokeh_is_loading > 0) {\n      console.debug(\"Bokeh: BokehJS is being loaded, scheduling callback at\", now());\n      return null;\n    }\n    if (js_urls == null || js_urls.length === 0) {\n      run_callbacks();\n      return null;\n    }\n    console.debug(\"Bokeh: BokehJS not loaded, scheduling load and callback at\", now());\n    root._bokeh_is_loading = css_urls.length + js_urls.length;\n\n    function on_load() {\n      root._bokeh_is_loading--;\n      if (root._bokeh_is_loading === 0) {\n        console.debug(\"Bokeh: all BokehJS libraries/stylesheets loaded\");\n        run_callbacks()\n      }\n    }\n\n    function on_error() {\n      console.error(\"failed to load \" + url);\n    }\n\n    for (var i = 0; i < css_urls.length; i++) {\n      var url = css_urls[i];\n      const element = document.createElement(\"link\");\n      element.onload = on_load;\n      element.onerror = on_error;\n      element.rel = \"stylesheet\";\n      element.type = \"text/css\";\n      element.href = url;\n      console.debug(\"Bokeh: injecting link tag for BokehJS stylesheet: \", url);\n      document.body.appendChild(element);\n    }\n\n    for (var i = 0; i < js_urls.length; i++) {\n      var url = js_urls[i];\n      var element = document.createElement('script');\n      element.onload = on_load;\n      element.onerror = on_error;\n      element.async = false;\n      element.src = url;\n      console.debug(\"Bokeh: injecting script tag for BokehJS library: \", url);\n      document.head.appendChild(element);\n    }\n  };var element = document.getElementById(\"2014\");\n  if (element == null) {\n    console.error(\"Bokeh: ERROR: autoload.js configured with elementid '2014' but no matching script tag was found. \")\n    return false;\n  }\n\n  function inject_raw_css(css) {\n    const element = document.createElement(\"style\");\n    element.appendChild(document.createTextNode(css));\n    document.body.appendChild(element);\n  }\n\n  \n  var js_urls = [\"https://cdn.pydata.org/bokeh/release/bokeh-1.4.0.min.js\", \"https://cdn.pydata.org/bokeh/release/bokeh-widgets-1.4.0.min.js\", \"https://cdn.pydata.org/bokeh/release/bokeh-tables-1.4.0.min.js\", \"https://cdn.pydata.org/bokeh/release/bokeh-gl-1.4.0.min.js\"];\n  var css_urls = [];\n  \n\n  var inline_js = [\n    function(Bokeh) {\n      Bokeh.set_log_level(\"info\");\n    },\n    function(Bokeh) {\n    \n    \n    }\n  ];\n\n  function run_inline_js() {\n    \n    if (root.Bokeh !== undefined || force === true) {\n      \n    for (var i = 0; i < inline_js.length; i++) {\n      inline_js[i].call(root, root.Bokeh);\n    }\n    if (force === true) {\n        display_loaded();\n      }} else if (Date.now() < root._bokeh_timeout) {\n      setTimeout(run_inline_js, 100);\n    } else if (!root._bokeh_failed_load) {\n      console.log(\"Bokeh: BokehJS failed to load within specified timeout.\");\n      root._bokeh_failed_load = true;\n    } else if (force !== true) {\n      var cell = $(document.getElementById(\"2014\")).parents('.cell').data().cell;\n      cell.output_area.append_execute_result(NB_LOAD_WARNING)\n    }\n\n  }\n\n  if (root._bokeh_is_loading === 0) {\n    console.debug(\"Bokeh: BokehJS loaded, going straight to plotting\");\n    run_inline_js();\n  } else {\n    load_libs(css_urls, js_urls, function() {\n      console.debug(\"Bokeh: BokehJS plotting callback run at\", now());\n      run_inline_js();\n    });\n  }\n}(window));",
      "application/vnd.bokehjs_load.v0+json": "\n(function(root) {\n  function now() {\n    return new Date();\n  }\n\n  var force = true;\n\n  if (typeof root._bokeh_onload_callbacks === \"undefined\" || force === true) {\n    root._bokeh_onload_callbacks = [];\n    root._bokeh_is_loading = undefined;\n  }\n\n  \n\n  \n  if (typeof (root._bokeh_timeout) === \"undefined\" || force === true) {\n    root._bokeh_timeout = Date.now() + 5000;\n    root._bokeh_failed_load = false;\n  }\n\n  var NB_LOAD_WARNING = {'data': {'text/html':\n     \"<div style='background-color: #fdd'>\\n\"+\n     \"<p>\\n\"+\n     \"BokehJS does not appear to have successfully loaded. If loading BokehJS from CDN, this \\n\"+\n     \"may be due to a slow or bad network connection. Possible fixes:\\n\"+\n     \"</p>\\n\"+\n     \"<ul>\\n\"+\n     \"<li>re-rerun `output_notebook()` to attempt to load from CDN again, or</li>\\n\"+\n     \"<li>use INLINE resources instead, as so:</li>\\n\"+\n     \"</ul>\\n\"+\n     \"<code>\\n\"+\n     \"from bokeh.resources import INLINE\\n\"+\n     \"output_notebook(resources=INLINE)\\n\"+\n     \"</code>\\n\"+\n     \"</div>\"}};\n\n  function display_loaded() {\n    var el = document.getElementById(\"2014\");\n    if (el != null) {\n      el.textContent = \"BokehJS is loading...\";\n    }\n    if (root.Bokeh !== undefined) {\n      if (el != null) {\n        el.textContent = \"BokehJS \" + root.Bokeh.version + \" successfully loaded.\";\n      }\n    } else if (Date.now() < root._bokeh_timeout) {\n      setTimeout(display_loaded, 100)\n    }\n  }\n\n\n  function run_callbacks() {\n    try {\n      root._bokeh_onload_callbacks.forEach(function(callback) {\n        if (callback != null)\n          callback();\n      });\n    } finally {\n      delete root._bokeh_onload_callbacks\n    }\n    console.debug(\"Bokeh: all callbacks have finished\");\n  }\n\n  function load_libs(css_urls, js_urls, callback) {\n    if (css_urls == null) css_urls = [];\n    if (js_urls == null) js_urls = [];\n\n    root._bokeh_onload_callbacks.push(callback);\n    if (root._bokeh_is_loading > 0) {\n      console.debug(\"Bokeh: BokehJS is being loaded, scheduling callback at\", now());\n      return null;\n    }\n    if (js_urls == null || js_urls.length === 0) {\n      run_callbacks();\n      return null;\n    }\n    console.debug(\"Bokeh: BokehJS not loaded, scheduling load and callback at\", now());\n    root._bokeh_is_loading = css_urls.length + js_urls.length;\n\n    function on_load() {\n      root._bokeh_is_loading--;\n      if (root._bokeh_is_loading === 0) {\n        console.debug(\"Bokeh: all BokehJS libraries/stylesheets loaded\");\n        run_callbacks()\n      }\n    }\n\n    function on_error() {\n      console.error(\"failed to load \" + url);\n    }\n\n    for (var i = 0; i < css_urls.length; i++) {\n      var url = css_urls[i];\n      const element = document.createElement(\"link\");\n      element.onload = on_load;\n      element.onerror = on_error;\n      element.rel = \"stylesheet\";\n      element.type = \"text/css\";\n      element.href = url;\n      console.debug(\"Bokeh: injecting link tag for BokehJS stylesheet: \", url);\n      document.body.appendChild(element);\n    }\n\n    for (var i = 0; i < js_urls.length; i++) {\n      var url = js_urls[i];\n      var element = document.createElement('script');\n      element.onload = on_load;\n      element.onerror = on_error;\n      element.async = false;\n      element.src = url;\n      console.debug(\"Bokeh: injecting script tag for BokehJS library: \", url);\n      document.head.appendChild(element);\n    }\n  };var element = document.getElementById(\"2014\");\n  if (element == null) {\n    console.error(\"Bokeh: ERROR: autoload.js configured with elementid '2014' but no matching script tag was found. \")\n    return false;\n  }\n\n  function inject_raw_css(css) {\n    const element = document.createElement(\"style\");\n    element.appendChild(document.createTextNode(css));\n    document.body.appendChild(element);\n  }\n\n  \n  var js_urls = [\"https://cdn.pydata.org/bokeh/release/bokeh-1.4.0.min.js\", \"https://cdn.pydata.org/bokeh/release/bokeh-widgets-1.4.0.min.js\", \"https://cdn.pydata.org/bokeh/release/bokeh-tables-1.4.0.min.js\", \"https://cdn.pydata.org/bokeh/release/bokeh-gl-1.4.0.min.js\"];\n  var css_urls = [];\n  \n\n  var inline_js = [\n    function(Bokeh) {\n      Bokeh.set_log_level(\"info\");\n    },\n    function(Bokeh) {\n    \n    \n    }\n  ];\n\n  function run_inline_js() {\n    \n    if (root.Bokeh !== undefined || force === true) {\n      \n    for (var i = 0; i < inline_js.length; i++) {\n      inline_js[i].call(root, root.Bokeh);\n    }\n    if (force === true) {\n        display_loaded();\n      }} else if (Date.now() < root._bokeh_timeout) {\n      setTimeout(run_inline_js, 100);\n    } else if (!root._bokeh_failed_load) {\n      console.log(\"Bokeh: BokehJS failed to load within specified timeout.\");\n      root._bokeh_failed_load = true;\n    } else if (force !== true) {\n      var cell = $(document.getElementById(\"2014\")).parents('.cell').data().cell;\n      cell.output_area.append_execute_result(NB_LOAD_WARNING)\n    }\n\n  }\n\n  if (root._bokeh_is_loading === 0) {\n    console.debug(\"Bokeh: BokehJS loaded, going straight to plotting\");\n    run_inline_js();\n  } else {\n    load_libs(css_urls, js_urls, function() {\n      console.debug(\"Bokeh: BokehJS plotting callback run at\", now());\n      run_inline_js();\n    });\n  }\n}(window));"
     },
     "metadata": {},
     "output_type": "display_data"
    },
    {
     "name": "stderr",
     "output_type": "stream",
     "text": "BokehDeprecationWarning: 'legend' keyword is deprecated, use explicit 'legend_label', 'legend_field', or 'legend_group' keywords instead\n"
    },
    {
     "data": {
      "text/html": "\n\n\n\n\n\n  <div class=\"bk-root\" id=\"f3397402-84ff-4206-9108-b73571388fb7\" data-root-id=\"2015\"></div>\n"
     },
     "metadata": {},
     "output_type": "display_data"
    },
    {
     "data": {
      "application/javascript": "(function(root) {\n  function embed_document(root) {\n    \n  var docs_json = {\"c4501bf9-b266-4d17-86cd-5e943ba1d481\":{\"roots\":{\"references\":[{\"attributes\":{\"background_fill_color\":{\"value\":null},\"below\":[{\"id\":\"2026\",\"type\":\"LinearAxis\"}],\"center\":[{\"id\":\"2030\",\"type\":\"Grid\"},{\"id\":\"2035\",\"type\":\"Grid\"},{\"id\":\"2047\",\"type\":\"Legend\"}],\"left\":[{\"id\":\"2031\",\"type\":\"LinearAxis\"}],\"renderers\":[{\"id\":\"2040\",\"type\":\"GlyphRenderer\"}],\"title\":{\"id\":\"2016\",\"type\":\"Title\"},\"toolbar\":{\"id\":\"2036\",\"type\":\"Toolbar\"},\"x_range\":{\"id\":\"2018\",\"type\":\"DataRange1d\"},\"x_scale\":{\"id\":\"2022\",\"type\":\"LinearScale\"},\"y_range\":{\"id\":\"2020\",\"type\":\"DataRange1d\"},\"y_scale\":{\"id\":\"2024\",\"type\":\"LinearScale\"}},\"id\":\"2015\",\"subtype\":\"Figure\",\"type\":\"Plot\"},{\"attributes\":{\"line_alpha\":0.1,\"line_color\":\"#1f77b4\",\"line_dash\":[4,4],\"line_width\":2,\"x\":{\"field\":\"x\"},\"y\":{\"field\":\"y\"}},\"id\":\"2039\",\"type\":\"Line\"},{\"attributes\":{},\"id\":\"2046\",\"type\":\"BasicTickFormatter\"},{\"attributes\":{},\"id\":\"2024\",\"type\":\"LinearScale\"},{\"attributes\":{\"label\":{\"value\":\"sales\"},\"renderers\":[{\"id\":\"2040\",\"type\":\"GlyphRenderer\"}]},\"id\":\"2048\",\"type\":\"LegendItem\"},{\"attributes\":{},\"id\":\"2056\",\"type\":\"Selection\"},{\"attributes\":{\"grid_line_color\":\"white\",\"ticker\":{\"id\":\"2027\",\"type\":\"BasicTicker\"}},\"id\":\"2030\",\"type\":\"Grid\"},{\"attributes\":{\"line_color\":\"red\",\"line_dash\":[4,4],\"line_width\":2,\"x\":{\"field\":\"x\"},\"y\":{\"field\":\"y\"}},\"id\":\"2038\",\"type\":\"Line\"},{\"attributes\":{\"background_fill_color\":{\"value\":null},\"click_policy\":\"hide\",\"items\":[{\"id\":\"2048\",\"type\":\"LegendItem\"}]},\"id\":\"2047\",\"type\":\"Legend\"},{\"attributes\":{\"text\":\"EV monthly sales\"},\"id\":\"2016\",\"type\":\"Title\"},{\"attributes\":{},\"id\":\"2032\",\"type\":\"BasicTicker\"},{\"attributes\":{\"active_drag\":\"auto\",\"active_inspect\":\"auto\",\"active_multi\":null,\"active_scroll\":\"auto\",\"active_tap\":\"auto\",\"tools\":[{\"id\":\"2049\",\"type\":\"HoverTool\"}]},\"id\":\"2036\",\"type\":\"Toolbar\"},{\"attributes\":{\"dimension\":1,\"grid_line_color\":\"white\",\"ticker\":{\"id\":\"2032\",\"type\":\"BasicTicker\"}},\"id\":\"2035\",\"type\":\"Grid\"},{\"attributes\":{\"callback\":null,\"start\":0},\"id\":\"2020\",\"type\":\"DataRange1d\"},{\"attributes\":{\"axis_label\":\"Month\",\"formatter\":{\"id\":\"2044\",\"type\":\"BasicTickFormatter\"},\"ticker\":{\"id\":\"2027\",\"type\":\"BasicTicker\"}},\"id\":\"2026\",\"type\":\"LinearAxis\"},{\"attributes\":{},\"id\":\"2027\",\"type\":\"BasicTicker\"},{\"attributes\":{\"source\":{\"id\":\"2037\",\"type\":\"ColumnDataSource\"}},\"id\":\"2041\",\"type\":\"CDSView\"},{\"attributes\":{\"data_source\":{\"id\":\"2037\",\"type\":\"ColumnDataSource\"},\"glyph\":{\"id\":\"2038\",\"type\":\"Line\"},\"hover_glyph\":null,\"muted_glyph\":null,\"nonselection_glyph\":{\"id\":\"2039\",\"type\":\"Line\"},\"selection_glyph\":null,\"view\":{\"id\":\"2041\",\"type\":\"CDSView\"}},\"id\":\"2040\",\"type\":\"GlyphRenderer\"},{\"attributes\":{},\"id\":\"2057\",\"type\":\"UnionRenderers\"},{\"attributes\":{\"callback\":null,\"data\":{\"x\":{\"__ndarray__\":\"AABA+u3TckIAAIBM6N1yQgAAgG3r5nJCAADAv+XwckIAAECsjfpyQgAAgP6HBHNCAAAA6y8Oc0IAAEA9KhhzQgAAgI8kInNCAAAAfMwrc0IAAEDOxjVzQgAAwLpuP3NCAAAADWlJc0IAAEBfY1NzQgAAAOa4XHNCAABAOLNmc0IAAMAkW3BzQgAAAHdVenNCAACAY/2Dc0IAAMC1941zQgAAAAjyl3NCAACA9Jmhc0IAAMBGlKtzQgAAQDM8tXNCAACAhTa/c0IAAMDXMMlzQgAAwPgz0nNCAAAASy7cc0IAAIA31uVzQgAAwInQ73NCAABAdnj5c0IAAIDIcgN0QgAAwBptDXRCAABABxUXdEIAAIBZDyF0QgAAAEa3KnRCAABAmLE0dEIAAIDqqz50QgAAgAuvR3RCAADAXalRdEIAAEBKUVt0QgAAgJxLZXRCAAAAifNudEIAAEDb7Xh0QgAAgC3ognRCAAAAGpCMdEIAAEBsipZ0QgAAwFgyoHRCAAAAqyyqdEIAAED9JrR0QgAAQB4qvXRCAACAcCTHdEIAAABdzNB0QgAAQK/G2nRCAADAm27kdEIAAADuaO50QgAAQEBj+HRCAADALAsCdUIAAAB/BQx1QgAAgGutFXVC\",\"dtype\":\"float64\",\"shape\":[60]},\"y\":[310,417,286,162,470,273,650,1323,688,663,896,443,216,512,826,635,746,1483,1728,1701,1306,1395,1999,2741,436,197,583,546,1517,488,123,80,52,1,58,1373,523,387,1589,1136,1767,1037,1709,2460,4358,3160,4346,6897,3148,6334,4079,5730,6354,8308,7338,12085,12736,11384,11402,16225]},\"selected\":{\"id\":\"2056\",\"type\":\"Selection\"},\"selection_policy\":{\"id\":\"2057\",\"type\":\"UnionRenderers\"}},\"id\":\"2037\",\"type\":\"ColumnDataSource\"},{\"attributes\":{\"callback\":null,\"tooltips\":[[\"Month\",\"@x\"],[\"Sales\",\"@y\"]]},\"id\":\"2049\",\"type\":\"HoverTool\"},{\"attributes\":{},\"id\":\"2022\",\"type\":\"LinearScale\"},{\"attributes\":{\"callback\":null},\"id\":\"2018\",\"type\":\"DataRange1d\"},{\"attributes\":{},\"id\":\"2044\",\"type\":\"BasicTickFormatter\"},{\"attributes\":{\"axis_label\":\"Sales\",\"formatter\":{\"id\":\"2046\",\"type\":\"BasicTickFormatter\"},\"ticker\":{\"id\":\"2032\",\"type\":\"BasicTicker\"}},\"id\":\"2031\",\"type\":\"LinearAxis\"}],\"root_ids\":[\"2015\"]},\"title\":\"Bokeh Application\",\"version\":\"1.4.0\"}};\n  var render_items = [{\"docid\":\"c4501bf9-b266-4d17-86cd-5e943ba1d481\",\"roots\":{\"2015\":\"f3397402-84ff-4206-9108-b73571388fb7\"}}];\n  root.Bokeh.embed.embed_items_notebook(docs_json, render_items);\n\n  }\n  if (root.Bokeh !== undefined) {\n    embed_document(root);\n  } else {\n    var attempts = 0;\n    var timer = setInterval(function(root) {\n      if (root.Bokeh !== undefined) {\n        clearInterval(timer);\n        embed_document(root);\n      } else {\n        attempts++;\n        if (attempts > 100) {\n          clearInterval(timer);\n          console.log(\"Bokeh: ERROR: Unable to run BokehJS code because BokehJS library is missing\");\n        }\n      }\n    }, 10, root)\n  }\n})(window);",
      "application/vnd.bokehjs_exec.v0+json": ""
     },
     "metadata": {
      "application/vnd.bokehjs_exec.v0+json": {
       "id": "2015"
      }
     },
     "output_type": "display_data"
    }
   ],
   "source": [
    "make_line_plots('EV monthly sales', ev_sales_data, attributes_to_plot=['sales'], x_axis_label='Month', y_axis_label='Sales')"
   ]
  },
  {
   "cell_type": "code",
   "execution_count": 200,
   "metadata": {},
   "outputs": [
    {
     "name": "stdout",
     "output_type": "stream",
     "text": "> 8142.991\n > 8142.991\n > 8142.991\n > 8142.991\n > 8142.991\n > 8142.991\n > 8142.991\n > 8142.991\n > 8142.991\n > 8142.991\n > 8142.991\n > 8142.991\n > 8142.991\n > 8142.991\n > 8142.991\n > 8142.991\n > 8142.991\n > 8142.991\n > 8142.991\n > 8142.991\n > 8142.991\n > 8142.991\n > 8142.991\n > 8142.991\n > 8142.991\n > 8142.991\n > 8142.991\n > 8142.991\n > 8142.991\n > 8142.991\n"
    }
   ],
   "source": [
    "# data split\n",
    "n_test = 12\n",
    "# define config\n",
    "config = [12, 24, 36]\n",
    "# grid search\n",
    "scores, predictions_matrix = repeat_evaluate(sales_series_values, config, n_test)\n"
   ]
  },
  {
   "cell_type": "code",
   "execution_count": null,
   "metadata": {},
   "outputs": [],
   "source": [
    "# summarize scores\n",
    "summarize_scores('persistence', scores)"
   ]
  },
  {
   "cell_type": "markdown",
   "execution_count": null,
   "metadata": {},
   "outputs": [],
   "source": [
    "#### Vemos que lo que ocurre es que nuestro modelo es determinista, así que aunque utilicemos varias veces el walk-forward validation method con el consiguiente entrenamiento del modelo, obtenemos las mismas predicciones y los mismos errores medios cuadráticos <p>\n",
    "Formamos el dataset con los valores a predecir VS predichos"
   ]
  },
  {
   "cell_type": "code",
   "execution_count": 201,
   "metadata": {},
   "outputs": [
    {
     "data": {
      "text/html": "<div>\n<style scoped>\n    .dataframe tbody tr th:only-of-type {\n        vertical-align: middle;\n    }\n\n    .dataframe tbody tr th {\n        vertical-align: top;\n    }\n\n    .dataframe thead th {\n        text-align: right;\n    }\n</style>\n<table border=\"1\" class=\"dataframe\">\n  <thead>\n    <tr style=\"text-align: right;\">\n      <th></th>\n      <th>sales_test_values</th>\n      <th>sales_baseline_predictions</th>\n    </tr>\n    <tr>\n      <th>Date</th>\n      <th></th>\n      <th></th>\n    </tr>\n  </thead>\n  <tbody>\n    <tr>\n      <th>2015-01-01</th>\n      <td>3148</td>\n      <td>436.0</td>\n    </tr>\n    <tr>\n      <th>2015-02-01</th>\n      <td>6334</td>\n      <td>387.0</td>\n    </tr>\n    <tr>\n      <th>2015-03-01</th>\n      <td>4079</td>\n      <td>826.0</td>\n    </tr>\n    <tr>\n      <th>2015-04-01</th>\n      <td>5730</td>\n      <td>635.0</td>\n    </tr>\n    <tr>\n      <th>2015-05-01</th>\n      <td>6354</td>\n      <td>1517.0</td>\n    </tr>\n    <tr>\n      <th>2015-06-01</th>\n      <td>8308</td>\n      <td>1037.0</td>\n    </tr>\n    <tr>\n      <th>2015-07-01</th>\n      <td>7338</td>\n      <td>1709.0</td>\n    </tr>\n    <tr>\n      <th>2015-08-01</th>\n      <td>12085</td>\n      <td>1701.0</td>\n    </tr>\n    <tr>\n      <th>2015-09-01</th>\n      <td>12736</td>\n      <td>1306.0</td>\n    </tr>\n    <tr>\n      <th>2015-10-01</th>\n      <td>11384</td>\n      <td>1395.0</td>\n    </tr>\n    <tr>\n      <th>2015-11-01</th>\n      <td>11402</td>\n      <td>1999.0</td>\n    </tr>\n    <tr>\n      <th>2015-12-01</th>\n      <td>16225</td>\n      <td>2741.0</td>\n    </tr>\n  </tbody>\n</table>\n</div>",
      "text/plain": "            sales_test_values  sales_baseline_predictions\nDate                                                     \n2015-01-01               3148                       436.0\n2015-02-01               6334                       387.0\n2015-03-01               4079                       826.0\n2015-04-01               5730                       635.0\n2015-05-01               6354                      1517.0\n2015-06-01               8308                      1037.0\n2015-07-01               7338                      1709.0\n2015-08-01              12085                      1701.0\n2015-09-01              12736                      1306.0\n2015-10-01              11384                      1395.0\n2015-11-01              11402                      1999.0\n2015-12-01              16225                      2741.0"
     },
     "execution_count": 201,
     "metadata": {},
     "output_type": "execute_result"
    }
   ],
   "source": [
    "ev_sales_forecast_df = pd.DataFrame()\n",
    "\n",
    "test_rmse = measure_rmse(ev_sales_data['sales'][-n_test:].values, predictions_matrix[-1])\n",
    "if int(test_rmse) == int(scores[-1]): \n",
    "    ev_sales_forecast_df['sales_test_values'] = ev_sales_data['sales'][-n_test:]\n",
    "    ev_sales_forecast_df['sales_baseline_predictions'] = predictions_matrix[-1]\n",
    "\n",
    "ev_sales_forecast_df"
   ]
  },
  {
   "cell_type": "markdown",
   "execution_count": 191,
   "metadata": {},
   "outputs": [
    {
     "data": {
      "text/plain": "8142.990748695061"
     },
     "execution_count": 191,
     "metadata": {},
     "output_type": "execute_result"
    }
   ],
   "source": [
    "### plot real values VS predicted ones"
   ]
  },
  {
   "cell_type": "code",
   "execution_count": 202,
   "metadata": {},
   "outputs": [
    {
     "data": {
      "text/html": "\n    <div class=\"bk-root\">\n        <a href=\"https://bokeh.org\" target=\"_blank\" class=\"bk-logo bk-logo-small bk-logo-notebook\"></a>\n        <span id=\"2165\">Loading BokehJS ...</span>\n    </div>"
     },
     "metadata": {},
     "output_type": "display_data"
    },
    {
     "data": {
      "application/javascript": "\n(function(root) {\n  function now() {\n    return new Date();\n  }\n\n  var force = true;\n\n  if (typeof root._bokeh_onload_callbacks === \"undefined\" || force === true) {\n    root._bokeh_onload_callbacks = [];\n    root._bokeh_is_loading = undefined;\n  }\n\n  var JS_MIME_TYPE = 'application/javascript';\n  var HTML_MIME_TYPE = 'text/html';\n  var EXEC_MIME_TYPE = 'application/vnd.bokehjs_exec.v0+json';\n  var CLASS_NAME = 'output_bokeh rendered_html';\n\n  /**\n   * Render data to the DOM node\n   */\n  function render(props, node) {\n    var script = document.createElement(\"script\");\n    node.appendChild(script);\n  }\n\n  /**\n   * Handle when an output is cleared or removed\n   */\n  function handleClearOutput(event, handle) {\n    var cell = handle.cell;\n\n    var id = cell.output_area._bokeh_element_id;\n    var server_id = cell.output_area._bokeh_server_id;\n    // Clean up Bokeh references\n    if (id != null && id in Bokeh.index) {\n      Bokeh.index[id].model.document.clear();\n      delete Bokeh.index[id];\n    }\n\n    if (server_id !== undefined) {\n      // Clean up Bokeh references\n      var cmd = \"from bokeh.io.state import curstate; print(curstate().uuid_to_server['\" + server_id + \"'].get_sessions()[0].document.roots[0]._id)\";\n      cell.notebook.kernel.execute(cmd, {\n        iopub: {\n          output: function(msg) {\n            var id = msg.content.text.trim();\n            if (id in Bokeh.index) {\n              Bokeh.index[id].model.document.clear();\n              delete Bokeh.index[id];\n            }\n          }\n        }\n      });\n      // Destroy server and session\n      var cmd = \"import bokeh.io.notebook as ion; ion.destroy_server('\" + server_id + \"')\";\n      cell.notebook.kernel.execute(cmd);\n    }\n  }\n\n  /**\n   * Handle when a new output is added\n   */\n  function handleAddOutput(event, handle) {\n    var output_area = handle.output_area;\n    var output = handle.output;\n\n    // limit handleAddOutput to display_data with EXEC_MIME_TYPE content only\n    if ((output.output_type != \"display_data\") || (!output.data.hasOwnProperty(EXEC_MIME_TYPE))) {\n      return\n    }\n\n    var toinsert = output_area.element.find(\".\" + CLASS_NAME.split(' ')[0]);\n\n    if (output.metadata[EXEC_MIME_TYPE][\"id\"] !== undefined) {\n      toinsert[toinsert.length - 1].firstChild.textContent = output.data[JS_MIME_TYPE];\n      // store reference to embed id on output_area\n      output_area._bokeh_element_id = output.metadata[EXEC_MIME_TYPE][\"id\"];\n    }\n    if (output.metadata[EXEC_MIME_TYPE][\"server_id\"] !== undefined) {\n      var bk_div = document.createElement(\"div\");\n      bk_div.innerHTML = output.data[HTML_MIME_TYPE];\n      var script_attrs = bk_div.children[0].attributes;\n      for (var i = 0; i < script_attrs.length; i++) {\n        toinsert[toinsert.length - 1].firstChild.setAttribute(script_attrs[i].name, script_attrs[i].value);\n      }\n      // store reference to server id on output_area\n      output_area._bokeh_server_id = output.metadata[EXEC_MIME_TYPE][\"server_id\"];\n    }\n  }\n\n  function register_renderer(events, OutputArea) {\n\n    function append_mime(data, metadata, element) {\n      // create a DOM node to render to\n      var toinsert = this.create_output_subarea(\n        metadata,\n        CLASS_NAME,\n        EXEC_MIME_TYPE\n      );\n      this.keyboard_manager.register_events(toinsert);\n      // Render to node\n      var props = {data: data, metadata: metadata[EXEC_MIME_TYPE]};\n      render(props, toinsert[toinsert.length - 1]);\n      element.append(toinsert);\n      return toinsert\n    }\n\n    /* Handle when an output is cleared or removed */\n    events.on('clear_output.CodeCell', handleClearOutput);\n    events.on('delete.Cell', handleClearOutput);\n\n    /* Handle when a new output is added */\n    events.on('output_added.OutputArea', handleAddOutput);\n\n    /**\n     * Register the mime type and append_mime function with output_area\n     */\n    OutputArea.prototype.register_mime_type(EXEC_MIME_TYPE, append_mime, {\n      /* Is output safe? */\n      safe: true,\n      /* Index of renderer in `output_area.display_order` */\n      index: 0\n    });\n  }\n\n  // register the mime type if in Jupyter Notebook environment and previously unregistered\n  if (root.Jupyter !== undefined) {\n    var events = require('base/js/events');\n    var OutputArea = require('notebook/js/outputarea').OutputArea;\n\n    if (OutputArea.prototype.mime_types().indexOf(EXEC_MIME_TYPE) == -1) {\n      register_renderer(events, OutputArea);\n    }\n  }\n\n  \n  if (typeof (root._bokeh_timeout) === \"undefined\" || force === true) {\n    root._bokeh_timeout = Date.now() + 5000;\n    root._bokeh_failed_load = false;\n  }\n\n  var NB_LOAD_WARNING = {'data': {'text/html':\n     \"<div style='background-color: #fdd'>\\n\"+\n     \"<p>\\n\"+\n     \"BokehJS does not appear to have successfully loaded. If loading BokehJS from CDN, this \\n\"+\n     \"may be due to a slow or bad network connection. Possible fixes:\\n\"+\n     \"</p>\\n\"+\n     \"<ul>\\n\"+\n     \"<li>re-rerun `output_notebook()` to attempt to load from CDN again, or</li>\\n\"+\n     \"<li>use INLINE resources instead, as so:</li>\\n\"+\n     \"</ul>\\n\"+\n     \"<code>\\n\"+\n     \"from bokeh.resources import INLINE\\n\"+\n     \"output_notebook(resources=INLINE)\\n\"+\n     \"</code>\\n\"+\n     \"</div>\"}};\n\n  function display_loaded() {\n    var el = document.getElementById(\"2165\");\n    if (el != null) {\n      el.textContent = \"BokehJS is loading...\";\n    }\n    if (root.Bokeh !== undefined) {\n      if (el != null) {\n        el.textContent = \"BokehJS \" + root.Bokeh.version + \" successfully loaded.\";\n      }\n    } else if (Date.now() < root._bokeh_timeout) {\n      setTimeout(display_loaded, 100)\n    }\n  }\n\n\n  function run_callbacks() {\n    try {\n      root._bokeh_onload_callbacks.forEach(function(callback) {\n        if (callback != null)\n          callback();\n      });\n    } finally {\n      delete root._bokeh_onload_callbacks\n    }\n    console.debug(\"Bokeh: all callbacks have finished\");\n  }\n\n  function load_libs(css_urls, js_urls, callback) {\n    if (css_urls == null) css_urls = [];\n    if (js_urls == null) js_urls = [];\n\n    root._bokeh_onload_callbacks.push(callback);\n    if (root._bokeh_is_loading > 0) {\n      console.debug(\"Bokeh: BokehJS is being loaded, scheduling callback at\", now());\n      return null;\n    }\n    if (js_urls == null || js_urls.length === 0) {\n      run_callbacks();\n      return null;\n    }\n    console.debug(\"Bokeh: BokehJS not loaded, scheduling load and callback at\", now());\n    root._bokeh_is_loading = css_urls.length + js_urls.length;\n\n    function on_load() {\n      root._bokeh_is_loading--;\n      if (root._bokeh_is_loading === 0) {\n        console.debug(\"Bokeh: all BokehJS libraries/stylesheets loaded\");\n        run_callbacks()\n      }\n    }\n\n    function on_error() {\n      console.error(\"failed to load \" + url);\n    }\n\n    for (var i = 0; i < css_urls.length; i++) {\n      var url = css_urls[i];\n      const element = document.createElement(\"link\");\n      element.onload = on_load;\n      element.onerror = on_error;\n      element.rel = \"stylesheet\";\n      element.type = \"text/css\";\n      element.href = url;\n      console.debug(\"Bokeh: injecting link tag for BokehJS stylesheet: \", url);\n      document.body.appendChild(element);\n    }\n\n    for (var i = 0; i < js_urls.length; i++) {\n      var url = js_urls[i];\n      var element = document.createElement('script');\n      element.onload = on_load;\n      element.onerror = on_error;\n      element.async = false;\n      element.src = url;\n      console.debug(\"Bokeh: injecting script tag for BokehJS library: \", url);\n      document.head.appendChild(element);\n    }\n  };var element = document.getElementById(\"2165\");\n  if (element == null) {\n    console.error(\"Bokeh: ERROR: autoload.js configured with elementid '2165' but no matching script tag was found. \")\n    return false;\n  }\n\n  function inject_raw_css(css) {\n    const element = document.createElement(\"style\");\n    element.appendChild(document.createTextNode(css));\n    document.body.appendChild(element);\n  }\n\n  \n  var js_urls = [\"https://cdn.pydata.org/bokeh/release/bokeh-1.4.0.min.js\", \"https://cdn.pydata.org/bokeh/release/bokeh-widgets-1.4.0.min.js\", \"https://cdn.pydata.org/bokeh/release/bokeh-tables-1.4.0.min.js\", \"https://cdn.pydata.org/bokeh/release/bokeh-gl-1.4.0.min.js\"];\n  var css_urls = [];\n  \n\n  var inline_js = [\n    function(Bokeh) {\n      Bokeh.set_log_level(\"info\");\n    },\n    function(Bokeh) {\n    \n    \n    }\n  ];\n\n  function run_inline_js() {\n    \n    if (root.Bokeh !== undefined || force === true) {\n      \n    for (var i = 0; i < inline_js.length; i++) {\n      inline_js[i].call(root, root.Bokeh);\n    }\n    if (force === true) {\n        display_loaded();\n      }} else if (Date.now() < root._bokeh_timeout) {\n      setTimeout(run_inline_js, 100);\n    } else if (!root._bokeh_failed_load) {\n      console.log(\"Bokeh: BokehJS failed to load within specified timeout.\");\n      root._bokeh_failed_load = true;\n    } else if (force !== true) {\n      var cell = $(document.getElementById(\"2165\")).parents('.cell').data().cell;\n      cell.output_area.append_execute_result(NB_LOAD_WARNING)\n    }\n\n  }\n\n  if (root._bokeh_is_loading === 0) {\n    console.debug(\"Bokeh: BokehJS loaded, going straight to plotting\");\n    run_inline_js();\n  } else {\n    load_libs(css_urls, js_urls, function() {\n      console.debug(\"Bokeh: BokehJS plotting callback run at\", now());\n      run_inline_js();\n    });\n  }\n}(window));",
      "application/vnd.bokehjs_load.v0+json": "\n(function(root) {\n  function now() {\n    return new Date();\n  }\n\n  var force = true;\n\n  if (typeof root._bokeh_onload_callbacks === \"undefined\" || force === true) {\n    root._bokeh_onload_callbacks = [];\n    root._bokeh_is_loading = undefined;\n  }\n\n  \n\n  \n  if (typeof (root._bokeh_timeout) === \"undefined\" || force === true) {\n    root._bokeh_timeout = Date.now() + 5000;\n    root._bokeh_failed_load = false;\n  }\n\n  var NB_LOAD_WARNING = {'data': {'text/html':\n     \"<div style='background-color: #fdd'>\\n\"+\n     \"<p>\\n\"+\n     \"BokehJS does not appear to have successfully loaded. If loading BokehJS from CDN, this \\n\"+\n     \"may be due to a slow or bad network connection. Possible fixes:\\n\"+\n     \"</p>\\n\"+\n     \"<ul>\\n\"+\n     \"<li>re-rerun `output_notebook()` to attempt to load from CDN again, or</li>\\n\"+\n     \"<li>use INLINE resources instead, as so:</li>\\n\"+\n     \"</ul>\\n\"+\n     \"<code>\\n\"+\n     \"from bokeh.resources import INLINE\\n\"+\n     \"output_notebook(resources=INLINE)\\n\"+\n     \"</code>\\n\"+\n     \"</div>\"}};\n\n  function display_loaded() {\n    var el = document.getElementById(\"2165\");\n    if (el != null) {\n      el.textContent = \"BokehJS is loading...\";\n    }\n    if (root.Bokeh !== undefined) {\n      if (el != null) {\n        el.textContent = \"BokehJS \" + root.Bokeh.version + \" successfully loaded.\";\n      }\n    } else if (Date.now() < root._bokeh_timeout) {\n      setTimeout(display_loaded, 100)\n    }\n  }\n\n\n  function run_callbacks() {\n    try {\n      root._bokeh_onload_callbacks.forEach(function(callback) {\n        if (callback != null)\n          callback();\n      });\n    } finally {\n      delete root._bokeh_onload_callbacks\n    }\n    console.debug(\"Bokeh: all callbacks have finished\");\n  }\n\n  function load_libs(css_urls, js_urls, callback) {\n    if (css_urls == null) css_urls = [];\n    if (js_urls == null) js_urls = [];\n\n    root._bokeh_onload_callbacks.push(callback);\n    if (root._bokeh_is_loading > 0) {\n      console.debug(\"Bokeh: BokehJS is being loaded, scheduling callback at\", now());\n      return null;\n    }\n    if (js_urls == null || js_urls.length === 0) {\n      run_callbacks();\n      return null;\n    }\n    console.debug(\"Bokeh: BokehJS not loaded, scheduling load and callback at\", now());\n    root._bokeh_is_loading = css_urls.length + js_urls.length;\n\n    function on_load() {\n      root._bokeh_is_loading--;\n      if (root._bokeh_is_loading === 0) {\n        console.debug(\"Bokeh: all BokehJS libraries/stylesheets loaded\");\n        run_callbacks()\n      }\n    }\n\n    function on_error() {\n      console.error(\"failed to load \" + url);\n    }\n\n    for (var i = 0; i < css_urls.length; i++) {\n      var url = css_urls[i];\n      const element = document.createElement(\"link\");\n      element.onload = on_load;\n      element.onerror = on_error;\n      element.rel = \"stylesheet\";\n      element.type = \"text/css\";\n      element.href = url;\n      console.debug(\"Bokeh: injecting link tag for BokehJS stylesheet: \", url);\n      document.body.appendChild(element);\n    }\n\n    for (var i = 0; i < js_urls.length; i++) {\n      var url = js_urls[i];\n      var element = document.createElement('script');\n      element.onload = on_load;\n      element.onerror = on_error;\n      element.async = false;\n      element.src = url;\n      console.debug(\"Bokeh: injecting script tag for BokehJS library: \", url);\n      document.head.appendChild(element);\n    }\n  };var element = document.getElementById(\"2165\");\n  if (element == null) {\n    console.error(\"Bokeh: ERROR: autoload.js configured with elementid '2165' but no matching script tag was found. \")\n    return false;\n  }\n\n  function inject_raw_css(css) {\n    const element = document.createElement(\"style\");\n    element.appendChild(document.createTextNode(css));\n    document.body.appendChild(element);\n  }\n\n  \n  var js_urls = [\"https://cdn.pydata.org/bokeh/release/bokeh-1.4.0.min.js\", \"https://cdn.pydata.org/bokeh/release/bokeh-widgets-1.4.0.min.js\", \"https://cdn.pydata.org/bokeh/release/bokeh-tables-1.4.0.min.js\", \"https://cdn.pydata.org/bokeh/release/bokeh-gl-1.4.0.min.js\"];\n  var css_urls = [];\n  \n\n  var inline_js = [\n    function(Bokeh) {\n      Bokeh.set_log_level(\"info\");\n    },\n    function(Bokeh) {\n    \n    \n    }\n  ];\n\n  function run_inline_js() {\n    \n    if (root.Bokeh !== undefined || force === true) {\n      \n    for (var i = 0; i < inline_js.length; i++) {\n      inline_js[i].call(root, root.Bokeh);\n    }\n    if (force === true) {\n        display_loaded();\n      }} else if (Date.now() < root._bokeh_timeout) {\n      setTimeout(run_inline_js, 100);\n    } else if (!root._bokeh_failed_load) {\n      console.log(\"Bokeh: BokehJS failed to load within specified timeout.\");\n      root._bokeh_failed_load = true;\n    } else if (force !== true) {\n      var cell = $(document.getElementById(\"2165\")).parents('.cell').data().cell;\n      cell.output_area.append_execute_result(NB_LOAD_WARNING)\n    }\n\n  }\n\n  if (root._bokeh_is_loading === 0) {\n    console.debug(\"Bokeh: BokehJS loaded, going straight to plotting\");\n    run_inline_js();\n  } else {\n    load_libs(css_urls, js_urls, function() {\n      console.debug(\"Bokeh: BokehJS plotting callback run at\", now());\n      run_inline_js();\n    });\n  }\n}(window));"
     },
     "metadata": {},
     "output_type": "display_data"
    },
    {
     "name": "stderr",
     "output_type": "stream",
     "text": "C:\\Users\\gcabreram\\AppData\\Local\\Continuum\\anaconda3\\envs\\deep_learning_tf2_env\\lib\\site-packages\\bokeh\\models\\plots.py:767: UserWarning: \nYou are attempting to set `plot.legend.location` on a plot that has zero legends added, this will have no effect.\n\nBefore legend properties can be set, you must add a Legend explicitly, or call a glyph method with a legend parameter set.\n\n  warnings.warn(_LEGEND_EMPTY_WARNING % attr)\nBokehDeprecationWarning: 'legend' keyword is deprecated, use explicit 'legend_label', 'legend_field', or 'legend_group' keywords instead\nBokehDeprecationWarning: 'legend' keyword is deprecated, use explicit 'legend_label', 'legend_field', or 'legend_group' keywords instead\n"
    },
    {
     "data": {
      "text/html": "\n\n\n\n\n\n  <div class=\"bk-root\" id=\"a8a050b2-b760-4be7-8208-ce97687e5e9a\" data-root-id=\"2166\"></div>\n"
     },
     "metadata": {},
     "output_type": "display_data"
    },
    {
     "data": {
      "application/javascript": "(function(root) {\n  function embed_document(root) {\n    \n  var docs_json = {\"c7b72f9a-62fc-407e-beb3-8b782210efbf\":{\"roots\":{\"references\":[{\"attributes\":{\"background_fill_color\":{\"value\":null},\"below\":[{\"id\":\"2177\",\"type\":\"LinearAxis\"}],\"center\":[{\"id\":\"2181\",\"type\":\"Grid\"},{\"id\":\"2186\",\"type\":\"Grid\"},{\"id\":\"2198\",\"type\":\"Legend\"}],\"left\":[{\"id\":\"2182\",\"type\":\"LinearAxis\"}],\"renderers\":[{\"id\":\"2191\",\"type\":\"GlyphRenderer\"},{\"id\":\"2203\",\"type\":\"GlyphRenderer\"}],\"title\":{\"id\":\"2167\",\"type\":\"Title\"},\"toolbar\":{\"id\":\"2187\",\"type\":\"Toolbar\"},\"x_range\":{\"id\":\"2169\",\"type\":\"DataRange1d\"},\"x_scale\":{\"id\":\"2173\",\"type\":\"LinearScale\"},\"y_range\":{\"id\":\"2171\",\"type\":\"DataRange1d\"},\"y_scale\":{\"id\":\"2175\",\"type\":\"LinearScale\"}},\"id\":\"2166\",\"subtype\":\"Figure\",\"type\":\"Plot\"},{\"attributes\":{\"callback\":null,\"tooltips\":[[\"Month\",\"@x\"],[\"Sales\",\"@y\"]]},\"id\":\"2213\",\"type\":\"HoverTool\"},{\"attributes\":{\"grid_line_color\":\"white\",\"ticker\":{\"id\":\"2178\",\"type\":\"BasicTicker\"}},\"id\":\"2181\",\"type\":\"Grid\"},{\"attributes\":{\"label\":{\"value\":\"sales_test_values\"},\"renderers\":[{\"id\":\"2191\",\"type\":\"GlyphRenderer\"}]},\"id\":\"2199\",\"type\":\"LegendItem\"},{\"attributes\":{\"background_fill_color\":{\"value\":null},\"click_policy\":\"hide\",\"items\":[{\"id\":\"2199\",\"type\":\"LegendItem\"},{\"id\":\"2212\",\"type\":\"LegendItem\"}]},\"id\":\"2198\",\"type\":\"Legend\"},{\"attributes\":{\"callback\":null},\"id\":\"2169\",\"type\":\"DataRange1d\"},{\"attributes\":{\"callback\":null,\"data\":{\"x\":{\"__ndarray__\":\"AAAAqyyqdEIAAED9JrR0QgAAQB4qvXRCAACAcCTHdEIAAABdzNB0QgAAQK/G2nRCAADAm27kdEIAAADuaO50QgAAQEBj+HRCAADALAsCdUIAAAB/BQx1QgAAgGutFXVC\",\"dtype\":\"float64\",\"shape\":[12]},\"y\":{\"__ndarray__\":\"AAAAAABAe0AAAAAAADB4QAAAAAAA0IlAAAAAAADYg0AAAAAAALSXQAAAAAAANJBAAAAAAAC0mkAAAAAAAJSaQAAAAAAAaJRAAAAAAADMlUAAAAAAADyfQAAAAAAAaqVA\",\"dtype\":\"float64\",\"shape\":[12]}},\"selected\":{\"id\":\"2222\",\"type\":\"Selection\"},\"selection_policy\":{\"id\":\"2223\",\"type\":\"UnionRenderers\"}},\"id\":\"2200\",\"type\":\"ColumnDataSource\"},{\"attributes\":{},\"id\":\"2197\",\"type\":\"BasicTickFormatter\"},{\"attributes\":{\"data_source\":{\"id\":\"2200\",\"type\":\"ColumnDataSource\"},\"glyph\":{\"id\":\"2201\",\"type\":\"Line\"},\"hover_glyph\":null,\"muted_glyph\":null,\"nonselection_glyph\":{\"id\":\"2202\",\"type\":\"Line\"},\"selection_glyph\":null,\"view\":{\"id\":\"2204\",\"type\":\"CDSView\"}},\"id\":\"2203\",\"type\":\"GlyphRenderer\"},{\"attributes\":{\"source\":{\"id\":\"2200\",\"type\":\"ColumnDataSource\"}},\"id\":\"2204\",\"type\":\"CDSView\"},{\"attributes\":{},\"id\":\"2173\",\"type\":\"LinearScale\"},{\"attributes\":{\"dimension\":1,\"grid_line_color\":\"white\",\"ticker\":{\"id\":\"2183\",\"type\":\"BasicTicker\"}},\"id\":\"2186\",\"type\":\"Grid\"},{\"attributes\":{\"source\":{\"id\":\"2188\",\"type\":\"ColumnDataSource\"}},\"id\":\"2192\",\"type\":\"CDSView\"},{\"attributes\":{},\"id\":\"2195\",\"type\":\"BasicTickFormatter\"},{\"attributes\":{},\"id\":\"2210\",\"type\":\"Selection\"},{\"attributes\":{},\"id\":\"2175\",\"type\":\"LinearScale\"},{\"attributes\":{\"label\":{\"value\":\"sales_baseline_predictions\"},\"renderers\":[{\"id\":\"2203\",\"type\":\"GlyphRenderer\"}]},\"id\":\"2212\",\"type\":\"LegendItem\"},{\"attributes\":{\"line_color\":\"blue\",\"line_dash\":[4,4],\"line_width\":2,\"x\":{\"field\":\"x\"},\"y\":{\"field\":\"y\"}},\"id\":\"2189\",\"type\":\"Line\"},{\"attributes\":{\"text\":\"EV monthly sales predictions\"},\"id\":\"2167\",\"type\":\"Title\"},{\"attributes\":{\"line_alpha\":0.1,\"line_color\":\"#1f77b4\",\"line_dash\":[4,4],\"line_width\":2,\"x\":{\"field\":\"x\"},\"y\":{\"field\":\"y\"}},\"id\":\"2190\",\"type\":\"Line\"},{\"attributes\":{\"callback\":null,\"start\":0},\"id\":\"2171\",\"type\":\"DataRange1d\"},{\"attributes\":{},\"id\":\"2222\",\"type\":\"Selection\"},{\"attributes\":{},\"id\":\"2178\",\"type\":\"BasicTicker\"},{\"attributes\":{},\"id\":\"2211\",\"type\":\"UnionRenderers\"},{\"attributes\":{\"active_drag\":\"auto\",\"active_inspect\":\"auto\",\"active_multi\":null,\"active_scroll\":\"auto\",\"active_tap\":\"auto\",\"tools\":[{\"id\":\"2213\",\"type\":\"HoverTool\"}]},\"id\":\"2187\",\"type\":\"Toolbar\"},{\"attributes\":{\"callback\":null,\"data\":{\"x\":{\"__ndarray__\":\"AAAAqyyqdEIAAED9JrR0QgAAQB4qvXRCAACAcCTHdEIAAABdzNB0QgAAQK/G2nRCAADAm27kdEIAAADuaO50QgAAQEBj+HRCAADALAsCdUIAAAB/BQx1QgAAgGutFXVC\",\"dtype\":\"float64\",\"shape\":[12]},\"y\":[3148,6334,4079,5730,6354,8308,7338,12085,12736,11384,11402,16225]},\"selected\":{\"id\":\"2210\",\"type\":\"Selection\"},\"selection_policy\":{\"id\":\"2211\",\"type\":\"UnionRenderers\"}},\"id\":\"2188\",\"type\":\"ColumnDataSource\"},{\"attributes\":{\"data_source\":{\"id\":\"2188\",\"type\":\"ColumnDataSource\"},\"glyph\":{\"id\":\"2189\",\"type\":\"Line\"},\"hover_glyph\":null,\"muted_glyph\":null,\"nonselection_glyph\":{\"id\":\"2190\",\"type\":\"Line\"},\"selection_glyph\":null,\"view\":{\"id\":\"2192\",\"type\":\"CDSView\"}},\"id\":\"2191\",\"type\":\"GlyphRenderer\"},{\"attributes\":{\"axis_label\":\"Sales\",\"formatter\":{\"id\":\"2197\",\"type\":\"BasicTickFormatter\"},\"ticker\":{\"id\":\"2183\",\"type\":\"BasicTicker\"}},\"id\":\"2182\",\"type\":\"LinearAxis\"},{\"attributes\":{\"line_alpha\":0.1,\"line_color\":\"#1f77b4\",\"line_dash\":[4,4],\"line_width\":2,\"x\":{\"field\":\"x\"},\"y\":{\"field\":\"y\"}},\"id\":\"2202\",\"type\":\"Line\"},{\"attributes\":{\"axis_label\":\"Month\",\"formatter\":{\"id\":\"2195\",\"type\":\"BasicTickFormatter\"},\"ticker\":{\"id\":\"2178\",\"type\":\"BasicTicker\"}},\"id\":\"2177\",\"type\":\"LinearAxis\"},{\"attributes\":{\"line_color\":\"red\",\"line_dash\":[4,4],\"line_width\":2,\"x\":{\"field\":\"x\"},\"y\":{\"field\":\"y\"}},\"id\":\"2201\",\"type\":\"Line\"},{\"attributes\":{},\"id\":\"2183\",\"type\":\"BasicTicker\"},{\"attributes\":{},\"id\":\"2223\",\"type\":\"UnionRenderers\"}],\"root_ids\":[\"2166\"]},\"title\":\"Bokeh Application\",\"version\":\"1.4.0\"}};\n  var render_items = [{\"docid\":\"c7b72f9a-62fc-407e-beb3-8b782210efbf\",\"roots\":{\"2166\":\"a8a050b2-b760-4be7-8208-ce97687e5e9a\"}}];\n  root.Bokeh.embed.embed_items_notebook(docs_json, render_items);\n\n  }\n  if (root.Bokeh !== undefined) {\n    embed_document(root);\n  } else {\n    var attempts = 0;\n    var timer = setInterval(function(root) {\n      if (root.Bokeh !== undefined) {\n        clearInterval(timer);\n        embed_document(root);\n      } else {\n        attempts++;\n        if (attempts > 100) {\n          clearInterval(timer);\n          console.log(\"Bokeh: ERROR: Unable to run BokehJS code because BokehJS library is missing\");\n        }\n      }\n    }, 10, root)\n  }\n})(window);",
      "application/vnd.bokehjs_exec.v0+json": ""
     },
     "metadata": {
      "application/vnd.bokehjs_exec.v0+json": {
       "id": "2166"
      }
     },
     "output_type": "display_data"
    }
   ],
   "source": [
    "make_line_plots('EV monthly sales predictions', ev_sales_forecast_df, attributes_to_plot=['sales_test_values', 'sales_baseline_predictions'], x_axis_label='Month',        y_axis_label='Sales', line_colors=['blue', 'red'])"
   ]
  }
 ]
}