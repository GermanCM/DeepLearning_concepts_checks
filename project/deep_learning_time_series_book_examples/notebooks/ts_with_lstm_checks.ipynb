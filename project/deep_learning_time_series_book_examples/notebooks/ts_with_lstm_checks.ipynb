{
 "cells": [
  {
   "cell_type": "markdown",
   "metadata": {},
   "source": [
    "## Manual prediction VS Simple RNN output-to-output recurrence style\n",
    "#### fuente: pag. 579 Python ML book"
   ]
  },
  {
   "cell_type": "code",
   "execution_count": 1,
   "metadata": {},
   "outputs": [
    {
     "data": {
      "text/plain": "'2.0.0'"
     },
     "execution_count": 1,
     "metadata": {},
     "output_type": "execute_result"
    }
   ],
   "source": [
    "import tensorflow as tf\n",
    "\n",
    "tf.__version__"
   ]
  },
  {
   "cell_type": "markdown",
   "metadata": {},
   "source": [
    "### Simple RNN with tensorflow keras"
   ]
  },
  {
   "cell_type": "code",
   "execution_count": 15,
   "metadata": {},
   "outputs": [
    {
     "name": "stdout",
     "output_type": "stream",
     "text": "W_xh shape: (5, 2)\nW_oo shape: (2, 2)\n"
    }
   ],
   "source": [
    "import tensorflow as tf\n",
    "\n",
    "tf.random.set_seed(1)\n",
    "\n",
    "# https://keras.io/layers/recurrent/\n",
    "rnn_layer = tf.keras.layers.SimpleRNN(units=2, use_bias=True, return_sequences=True)\n",
    "rnn_layer.build(input_shape=(None, None, 5))\n",
    "w_xh, w_oo, b_h = rnn_layer.weights\n",
    "\n",
    "print('W_xh shape:', w_xh.shape)\n",
    "print('W_oo shape:', w_oo.shape)"
   ]
  },
  {
   "cell_type": "code",
   "execution_count": 3,
   "metadata": {},
   "outputs": [
    {
     "name": "stdout",
     "output_type": "stream",
     "text": "Model: \"sequential\"\n_________________________________________________________________\nLayer (type)                 Output Shape              Param #   \n=================================================================\nsimple_rnn (SimpleRNN)       multiple                  78        \n_________________________________________________________________\ndense (Dense)                multiple                  7         \n=================================================================\nTotal params: 85\nTrainable params: 85\nNon-trainable params: 0\n_________________________________________________________________\n"
    }
   ],
   "source": [
    "from tensorflow.keras.layers import Dense\n",
    "from tensorflow.keras.layers import SimpleRNN\n",
    "from tensorflow.keras.models import Sequential\n",
    "\n",
    "model = Sequential()\n",
    "#>>> model.add(Embedding(input_dim=1000, output_dim=32))\n",
    "model.add(SimpleRNN(units=6, return_sequences=True))\n",
    "#>>> model.add(SimpleRNN(32))\n",
    "model.add(Dense(1))\n",
    "model.build(input_shape=(None, None, 6))\n",
    "model.summary()"
   ]
  },
  {
   "cell_type": "code",
   "execution_count": 7,
   "metadata": {},
   "outputs": [
    {
     "name": "stdout",
     "output_type": "stream",
     "text": "Model: \"sequential_2\"\n_________________________________________________________________\nLayer (type)                 Output Shape              Param #   \n=================================================================\nembedding_1 (Embedding)      (None, None, 32)          32000     \n_________________________________________________________________\nsimple_rnn_3 (SimpleRNN)     (None, None, 32)          2080      \n_________________________________________________________________\nsimple_rnn_4 (SimpleRNN)     (None, 32)                2080      \n_________________________________________________________________\ndense_1 (Dense)              (None, 1)                 33        \n=================================================================\nTotal params: 36,193\nTrainable params: 36,193\nNon-trainable params: 0\n_________________________________________________________________\n"
    }
   ],
   "source": [
    ">>> from tensorflow.keras import Sequential\n",
    ">>> from tensorflow.keras.layers import Embedding\n",
    ">>> from tensorflow.keras.layers import SimpleRNN\n",
    ">>> from tensorflow.keras.layers import Dense\n",
    ">>> model = Sequential()\n",
    ">>> model.add(Embedding(input_dim=1000, output_dim=32))\n",
    ">>> model.add(SimpleRNN(32, return_sequences=True))\n",
    ">>> model.add(SimpleRNN(32))\n",
    ">>> model.add(Dense(1))\n",
    ">>> model.summary()"
   ]
  },
  {
   "cell_type": "code",
   "execution_count": 16,
   "metadata": {},
   "outputs": [
    {
     "data": {
      "text/plain": "2"
     },
     "execution_count": 16,
     "metadata": {},
     "output_type": "execute_result"
    }
   ],
   "source": [
    "rnn_layer.units"
   ]
  },
  {
   "cell_type": "code",
   "execution_count": 17,
   "metadata": {},
   "outputs": [
    {
     "data": {
      "text/plain": "[<tf.Variable 'kernel:0' shape=(5, 2) dtype=float32, numpy=\n array([[-0.6200572 ,  0.7433989 ],\n        [ 0.242517  , -0.12119704],\n        [-0.38525409,  0.2638626 ],\n        [ 0.8809836 , -0.12017238],\n        [ 0.2964511 ,  0.19422936]], dtype=float32)>,\n <tf.Variable 'recurrent_kernel:0' shape=(2, 2) dtype=float32, numpy=\n array([[ 0.98796964,  0.15464693],\n        [-0.15464693,  0.9879698 ]], dtype=float32)>,\n <tf.Variable 'bias:0' shape=(2,) dtype=float32, numpy=array([0., 0.], dtype=float32)>]"
     },
     "execution_count": 17,
     "metadata": {},
     "output_type": "execute_result"
    }
   ],
   "source": [
    "rnn_layer.weights"
   ]
  },
  {
   "cell_type": "code",
   "execution_count": 18,
   "metadata": {},
   "outputs": [
    {
     "data": {
      "text/plain": "<tf.Variable 'kernel:0' shape=(5, 2) dtype=float32, numpy=\narray([[-0.6200572 ,  0.7433989 ],\n       [ 0.242517  , -0.12119704],\n       [-0.38525409,  0.2638626 ],\n       [ 0.8809836 , -0.12017238],\n       [ 0.2964511 ,  0.19422936]], dtype=float32)>"
     },
     "execution_count": 18,
     "metadata": {},
     "output_type": "execute_result"
    }
   ],
   "source": [
    "w_xh"
   ]
  },
  {
   "cell_type": "markdown",
   "execution_count": null,
   "metadata": {},
   "outputs": [],
   "source": [
    "## Entrenamiento ejemplo"
   ]
  },
  {
   "cell_type": "code",
   "execution_count": 44,
   "metadata": {},
   "outputs": [
    {
     "data": {
      "text/plain": "array([[ 10,  15,  25],\n       [ 20,  25,  45],\n       [ 30,  35,  65],\n       [ 40,  45,  85],\n       [ 50,  55, 105],\n       [ 60,  65, 125],\n       [ 70,  75, 145],\n       [ 80,  85, 165],\n       [ 90,  95, 185],\n       [100, 105, 205],\n       [110, 115, 225],\n       [120, 125, 245],\n       [130, 135, 265],\n       [140, 145, 285],\n       [150, 155, 305],\n       [160, 165, 325],\n       [170, 175, 345],\n       [180, 185, 365],\n       [190, 195, 385],\n       [200, 205, 405]])"
     },
     "execution_count": 44,
     "metadata": {},
     "output_type": "execute_result"
    }
   ],
   "source": [
    "from numpy import array, hstack\n",
    "\n",
    "# define input sequence\n",
    "in_seq1 = array([10, 20, 30, 40, 50, 60, 70, 80, 90, 100, 110, 120, 130, 140, 150, 160, 170, 180, 190, 200])\n",
    "in_seq2 = array([15, 25, 35, 45, 55, 65, 75, 85, 95, 105, 115, 125, 135, 145, 155, 165, 175, 185, 195, 205])\n",
    "\n",
    "out_seq = array([in_seq1[i]+in_seq2[i] for i in range(len(in_seq1))])\n",
    "\n",
    "# convert to [rows, columns] structure\n",
    "in_seq1 = in_seq1.reshape((len(in_seq1), 1))\n",
    "in_seq2 = in_seq2.reshape((len(in_seq2), 1))\n",
    "out_seq = out_seq.reshape((len(out_seq), 1))\n",
    "\n",
    "# horizontally stack columns\n",
    "dataset = hstack((in_seq1, in_seq2, out_seq))\n",
    "dataset"
   ]
  },
  {
   "cell_type": "code",
   "execution_count": 45,
   "metadata": {},
   "outputs": [
    {
     "name": "stdout",
     "output_type": "stream",
     "text": "training X: [[[10 15]\n  [20 25]\n  [30 35]]\n\n [[20 25]\n  [30 35]\n  [40 45]]\n\n [[30 35]\n  [40 45]\n  [50 55]]]\ntraining y: [ 65  85 105]\n"
    }
   ],
   "source": [
    "# split a multivariate sequence into samples\n",
    "def split_sequences(sequences, n_steps):\n",
    "    X, y = list(), list()\n",
    "    for i in range(len(sequences)):\n",
    "        # find the end of this pattern\n",
    "        end_ix = i + n_steps\n",
    "        # check if we are beyond the dataset\n",
    "        if end_ix > len(sequences):\n",
    "            break\n",
    "        # gather input and output parts of the pattern\n",
    "        seq_x, seq_y = sequences[i:end_ix, :-1], sequences[end_ix-1, -1]\n",
    "        X.append(seq_x)\n",
    "        y.append(seq_y)\n",
    "\n",
    "    return array(X), array(y)\n",
    "\n",
    "# choose a number of time steps\n",
    "n_steps = 3\n",
    "# convert into input/output\n",
    "X, y = split_sequences(dataset, n_steps)\n",
    "print('training X: {}'.format(X[:3]))\n",
    "print('training y: {}'.format(y[:3]))"
   ]
  },
  {
   "cell_type": "code",
   "execution_count": 46,
   "metadata": {},
   "outputs": [
    {
     "data": {
      "text/plain": "array([[ 10,  15,  20,  25,  30,  35],\n       [ 20,  25,  30,  35,  40,  45],\n       [ 30,  35,  40,  45,  50,  55],\n       [ 40,  45,  50,  55,  60,  65],\n       [ 50,  55,  60,  65,  70,  75],\n       [ 60,  65,  70,  75,  80,  85],\n       [ 70,  75,  80,  85,  90,  95],\n       [ 80,  85,  90,  95, 100, 105],\n       [ 90,  95, 100, 105, 110, 115],\n       [100, 105, 110, 115, 120, 125],\n       [110, 115, 120, 125, 130, 135],\n       [120, 125, 130, 135, 140, 145],\n       [130, 135, 140, 145, 150, 155],\n       [140, 145, 150, 155, 160, 165],\n       [150, 155, 160, 165, 170, 175],\n       [160, 165, 170, 175, 180, 185],\n       [170, 175, 180, 185, 190, 195],\n       [180, 185, 190, 195, 200, 205]])"
     },
     "execution_count": 46,
     "metadata": {},
     "output_type": "execute_result"
    }
   ],
   "source": [
    "# flatten input\n",
    "n_input = X.shape[1] * X.shape[2]\n",
    "X = X.reshape((X.shape[0], n_input))\n",
    "X"
   ]
  },
  {
   "cell_type": "code",
   "execution_count": 47,
   "metadata": {},
   "outputs": [],
   "source": [
    "############\n",
    "model = Sequential()\n",
    "model.add(Dense(100, activation='relu', input_dim=n_input))\n",
    "model.add(Dense(1))\n",
    "model.compile(optimizer='adam', loss='mse')\n",
    "############\n",
    "\n",
    "# define model\n",
    "model = Sequential()\n",
    "model.add(rnn_layer)\n",
    "\n",
    "model.compile(optimizer='adam', loss='mse')"
   ]
  },
  {
   "cell_type": "code",
   "execution_count": 48,
   "metadata": {},
   "outputs": [
    {
     "data": {
      "text/plain": "array([[10, 15, 20, 25, 30, 35],\n       [20, 25, 30, 35, 40, 45],\n       [30, 35, 40, 45, 50, 55],\n       [40, 45, 50, 55, 60, 65],\n       [50, 55, 60, 65, 70, 75]])"
     },
     "execution_count": 48,
     "metadata": {},
     "output_type": "execute_result"
    }
   ],
   "source": [
    "X[:5]"
   ]
  },
  {
   "cell_type": "markdown",
   "metadata": {},
   "source": [
    "### Para visualizar la red con plot_model o con model_to_dot"
   ]
  },
  {
   "cell_type": "code",
   "execution_count": 6,
   "metadata": {},
   "outputs": [
    {
     "name": "stdout",
     "output_type": "stream",
     "text": "Model: \"sequential_2\"\n_________________________________________________________________\nLayer (type)                 Output Shape              Param #   \n=================================================================\nembedding_1 (Embedding)      (None, None, 32)          32000     \n_________________________________________________________________\nsimple_rnn_3 (SimpleRNN)     (None, None, 32)          2080      \n_________________________________________________________________\nsimple_rnn_4 (SimpleRNN)     (None, 32)                2080      \n_________________________________________________________________\ndense_2 (Dense)              (None, 1)                 33        \n=================================================================\nTotal params: 36,193\nTrainable params: 36,193\nNon-trainable params: 0\n_________________________________________________________________\n"
    }
   ],
   "source": [
    ">>> from tensorflow.keras import Sequential\n",
    ">>> from tensorflow.keras.layers import Embedding\n",
    ">>> from tensorflow.keras.layers import SimpleRNN\n",
    ">>> from tensorflow.keras.layers import Dense\n",
    "\n",
    ">>> model = Sequential()\n",
    ">>> model.add(Embedding(input_dim=1000, output_dim=32))\n",
    ">>> model.add(SimpleRNN(32, return_sequences=True))\n",
    ">>> model.add(SimpleRNN(32))\n",
    ">>> model.add(Dense(1))\n",
    "model.build()\n",
    ">>> model.summary()"
   ]
  },
  {
   "cell_type": "code",
   "execution_count": 10,
   "metadata": {},
   "outputs": [
    {
     "data": {
      "text/plain": "array([[ 0.00057121,  0.04447179, -0.02791776, ...,  0.02469783,\n         0.00666325,  0.03649095],\n       [ 0.02756082, -0.03304199,  0.02174928, ...,  0.01371039,\n         0.04897871,  0.04140252],\n       [-0.04316049,  0.01917192,  0.03580166, ..., -0.03328196,\n         0.02047714, -0.02889384],\n       ...,\n       [ 0.01478156, -0.00599943,  0.02673432, ...,  0.00123544,\n         0.02674986, -0.01686921],\n       [-0.01009636,  0.0102376 , -0.02970246, ...,  0.02563289,\n         0.0439522 ,  0.02339336],\n       [ 0.02980993,  0.02302817,  0.01509162, ...,  0.03312122,\n         0.02988101, -0.01605256]], dtype=float32)"
     },
     "execution_count": 10,
     "metadata": {},
     "output_type": "execute_result"
    }
   ],
   "source": [
    "model.get_weights()[0]"
   ]
  },
  {
   "cell_type": "code",
   "execution_count": 7,
   "metadata": {},
   "outputs": [
    {
     "data": {
      "image/png": "[encoded data removed]",
      "text/plain": "<IPython.core.display.Image object>"
     },
     "execution_count": 7,
     "metadata": {},
     "output_type": "execute_result"
    }
   ],
   "source": [
    "from tensorflow.keras.utils import plot_model\n",
    "\n",
    "plot_model(model, to_file='rnn_layer.png')\n"
   ]
  },
  {
   "cell_type": "markdown",
   "metadata": {},
   "source": [
    "### Dataset para entrenar la red y visualizar la red con tensorboard"
   ]
  },
  {
   "cell_type": "code",
   "execution_count": 15,
   "metadata": {},
   "outputs": [],
   "source": [
    "%load_ext tensorboard"
   ]
  },
  {
   "cell_type": "markdown",
   "metadata": {},
   "source": []
  },
  {
   "cell_type": "markdown",
   "metadata": {},
   "source": [
    "### Manual RNN, para comprobar el funcionamiento de la SimpleRNN a la hora de realizar una predicción para cierta mueetra (en este caso, de 3 timestamps)"
   ]
  },
  {
   "cell_type": "code",
   "execution_count": 19,
   "metadata": {},
   "outputs": [
    {
     "data": {
      "text/plain": "<tf.Tensor: id=1098, shape=(3, 5), dtype=float32, numpy=\narray([[1., 1., 1., 1., 1.],\n       [2., 2., 2., 2., 2.],\n       [3., 3., 3., 3., 3.]], dtype=float32)>"
     },
     "execution_count": 19,
     "metadata": {},
     "output_type": "execute_result"
    }
   ],
   "source": [
    "x_seq = tf.convert_to_tensor([[1.0]*5, [2.0]*5, [3.0]*5], dtype=tf.float32)\n",
    "x_seq"
   ]
  },
  {
   "cell_type": "code",
   "execution_count": 20,
   "metadata": {},
   "outputs": [
    {
     "data": {
      "text/plain": "<tf.Tensor: id=1100, shape=(1, 3, 5), dtype=float32, numpy=\narray([[[1., 1., 1., 1., 1.],\n        [2., 2., 2., 2., 2.],\n        [3., 3., 3., 3., 3.]]], dtype=float32)>"
     },
     "execution_count": 20,
     "metadata": {},
     "output_type": "execute_result"
    }
   ],
   "source": [
    "# single sequence of 3 timesteps with 5 attributes\n",
    "tf.reshape(x_seq, shape=(1, 3, 5))"
   ]
  },
  {
   "cell_type": "code",
   "execution_count": 22,
   "metadata": {},
   "outputs": [
    {
     "data": {
      "text/plain": "<tf.Tensor: id=1256, shape=(1, 3, 2), dtype=float32, numpy=\narray([[[0.39240566, 0.74433106],\n        [0.80116504, 0.9912947 ],\n        [0.95468265, 0.9993069 ]]], dtype=float32)>"
     },
     "execution_count": 22,
     "metadata": {},
     "output_type": "execute_result"
    }
   ],
   "source": [
    "# output of SimepleRNN:\n",
    "output = rnn_layer(tf.reshape(x_seq, shape=(1, 3, 5)))\n",
    "output"
   ]
  },
  {
   "cell_type": "markdown",
   "execution_count": null,
   "metadata": {},
   "outputs": [],
   "source": [
    "### Probamos manualmente, con unos pesos aleatorios (generados con SImpleRNN), el proceso de predicción, sin entrenamiento:"
   ]
  },
  {
   "cell_type": "code",
   "execution_count": 28,
   "metadata": {},
   "outputs": [
    {
     "name": "stdout",
     "output_type": "stream",
     "text": "Time step 0 =>\n Input : [[1. 1. 1. 1. 1.]]\n Hidden : [[0.41464037 0.96012145]]\nOutput (manual) : [[0.39240566 0.74433106]]\nSimpleRNN output: [0.39240566 0.74433106]\n\nTime step 1 =>\n Input : [[2. 2. 2. 2. 2.]]\n Hidden : [[0.82928073 1.9202429 ]]\nOutput (manual) : [[0.80116504 0.9912947 ]]\nSimpleRNN output: [0.80116504 0.9912947 ]\n\nTime step 2 =>\n Input : [[3. 3. 3. 3. 3.]]\n Hidden : [[1.243921  2.8803642]]\nOutput (manual) : [[0.95468265 0.9993069 ]]\nSimpleRNN output: [0.95468265 0.9993069 ]\n\n"
    }
   ],
   "source": [
    "# manually computing the output:\n",
    "out_man = []\n",
    "for t in range(len(x_seq)):\n",
    "    xt = tf.reshape(x_seq[t], (1, 5))\n",
    "    print('Time step {} =>'.format(t))\n",
    "    print(' Input :', xt.numpy())\n",
    "    \n",
    "    ht = tf.matmul(xt, w_xh) + b_h #https://www.tensorflow.org/api_docs/python/tf/linalg/matmul\n",
    "    print(' Hidden :', ht.numpy())\n",
    "    \n",
    "    # output-to-output recurrence:\n",
    "    if t>0:\n",
    "        prev_o = out_man[t-1]\n",
    "    else:\n",
    "        prev_o = tf.zeros(shape=(ht.shape))\n",
    "    ot = ht + tf.matmul(prev_o, w_oo)\n",
    "    ot = tf.math.tanh(ot)\n",
    "    out_man.append(ot)\n",
    "    print('Output (manual) :', ot.numpy())\n",
    "    print('SimpleRNN output:'.format(t), output[0][t].numpy())\n",
    "    print()"
   ]
  },
  {
   "cell_type": "code",
   "execution_count": null,
   "metadata": {},
   "outputs": [],
   "source": []
  },
  {
   "cell_type": "code",
   "execution_count": null,
   "metadata": {},
   "outputs": [],
   "source": []
  },
  {
   "cell_type": "code",
   "execution_count": null,
   "metadata": {},
   "outputs": [],
   "source": []
  }
 ],
 "metadata": {
  "kernelspec": {
   "display_name": "Python 3",
   "language": "python",
   "name": "python3"
  },
  "language_info": {
   "codemirror_mode": {
    "name": "ipython",
    "version": 3
   },
   "file_extension": ".py",
   "mimetype": "text/x-python",
   "name": "python",
   "nbconvert_exporter": "python",
   "pygments_lexer": "ipython3",
   "version": "3.7.6-final"
  }
 },
 "nbformat": 4,
 "nbformat_minor": 4
}