{
 "cells": [
  {
   "cell_type": "markdown",
   "metadata": {},
   "source": [
    "### Time series MLP, ref: pag.62 Brownlee"
   ]
  },
  {
   "cell_type": "code",
   "execution_count": 1,
   "metadata": {},
   "outputs": [
    {
     "name": "stdout",
     "output_type": "stream",
     "text": [
      "Collecting package metadata (current_repodata.json): ...working... done\n",
      "Solving environment: ...working... done\n",
      "\n",
      "# All requested packages already installed.\n",
      "\n",
      "\n",
      "Note: you may need to restart the kernel to use updated packages.\n"
     ]
    }
   ],
   "source": [
    "conda install tensorflow-gpu"
   ]
  },
  {
   "cell_type": "code",
   "execution_count": 2,
   "metadata": {},
   "outputs": [
    {
     "name": "stdout",
     "output_type": "stream",
     "text": [
      "# packages in environment at C:\\Users\\gcabreram\\.conda\\envs\\deep_learning_env:\n",
      "#\n",
      "# Name                    Version                   Build  Channel\n",
      "_tflow_select             2.1.0                       gpu    defaults\n",
      "absl-py                   0.8.1                    py36_0    defaults\n",
      "astor                     0.8.0                    py36_0    defaults\n",
      "attrs                     19.3.0                     py_0    defaults\n",
      "backcall                  0.1.0                    py36_0    defaults\n",
      "blas                      1.0                         mkl    defaults\n",
      "bleach                    3.1.0                    py36_0    defaults\n",
      "ca-certificates           2019.11.27                    0    defaults\n",
      "certifi                   2019.11.28               py36_0    defaults\n",
      "colorama                  0.4.3                      py_0    defaults\n",
      "cudatoolkit               10.0.130                      0    defaults\n",
      "cudnn                     7.6.5                cuda10.0_0    defaults\n",
      "decorator                 4.4.1                      py_0    defaults\n",
      "defusedxml                0.6.0                      py_0    defaults\n",
      "entrypoints               0.3                      py36_0    defaults\n",
      "gast                      0.2.2                    py36_0    defaults\n",
      "google-pasta              0.1.8                      py_0    defaults\n",
      "grpcio                    1.16.1           py36h351948d_1    defaults\n",
      "h5py                      2.9.0            py36h5e291fa_0    defaults\n",
      "hdf5                      1.10.4               h7ebc959_0    defaults\n",
      "icc_rt                    2019.0.0             h0cc432a_1    defaults\n",
      "importlib_metadata        1.3.0                    py36_0    defaults\n",
      "intel-openmp              2019.4                      245    defaults\n",
      "ipykernel                 5.1.3            py36h39e3cac_1    defaults\n",
      "ipython                   7.11.1           py36h39e3cac_0    defaults\n",
      "ipython_genutils          0.2.0                    py36_0    defaults\n",
      "jedi                      0.15.2                   py36_0    defaults\n",
      "jinja2                    2.10.3                     py_0    defaults\n",
      "jsonschema                3.2.0                    py36_0    defaults\n",
      "jupyter_client            5.3.4                    py36_0    defaults\n",
      "jupyter_core              4.6.1                    py36_0    defaults\n",
      "keras                     2.2.4                         0    defaults\n",
      "keras-applications        1.0.8                      py_0    defaults\n",
      "keras-base                2.2.4                    py36_0    defaults\n",
      "keras-preprocessing       1.1.0                      py_1    defaults\n",
      "libprotobuf               3.11.2               h7bd577a_0    defaults\n",
      "libsodium                 1.0.16               h9d3ae62_0    defaults\n",
      "llvmlite                  0.31.0           py36h6538335_0    numba\n",
      "m2w64-gcc-libgfortran     5.3.0                         6    defaults\n",
      "m2w64-gcc-libs            5.3.0                         7    defaults\n",
      "m2w64-gcc-libs-core       5.3.0                         7    defaults\n",
      "m2w64-gmp                 6.1.0                         2    defaults\n",
      "m2w64-libwinpthread-git   5.0.0.4634.697f757               2    defaults\n",
      "markdown                  3.1.1                    py36_0    defaults\n",
      "markupsafe                1.1.1            py36he774522_0    defaults\n",
      "mistune                   0.8.4            py36he774522_0    defaults\n",
      "mkl                       2019.4                      245    defaults\n",
      "mkl-service               2.3.0            py36hb782905_0    defaults\n",
      "mkl_fft                   1.0.15           py36h14836fe_0    defaults\n",
      "mkl_random                1.1.0            py36h675688f_0    defaults\n",
      "more-itertools            8.0.2                      py_0    defaults\n",
      "msys2-conda-epoch         20160418                      1    defaults\n",
      "nbconvert                 5.6.1                    py36_0    defaults\n",
      "nbformat                  4.4.0                    py36_0    defaults\n",
      "notebook                  6.0.2                    py36_0    defaults\n",
      "numba                     0.48.0rc1       np1.11py3.6h830ac7b_g8a7704a_0    numba\n",
      "numpy                     1.18.1           py36h93ca92e_0    defaults\n",
      "numpy-base                1.18.1           py36hc3f5095_0    defaults\n",
      "openssl                   1.1.1d               he774522_3    defaults\n",
      "opt_einsum                3.1.0                      py_0    defaults\n",
      "pandas                    0.25.3           py36ha925a31_0    defaults\n",
      "pandoc                    2.2.3.2                       0    defaults\n",
      "pandocfilters             1.4.2                    py36_1    defaults\n",
      "parso                     0.5.2                      py_0    defaults\n",
      "pickleshare               0.7.5                    py36_0    defaults\n",
      "pip                       19.3.1                   py36_0    defaults\n",
      "prometheus_client         0.7.1                      py_0    defaults\n",
      "prompt_toolkit            3.0.2                      py_0    defaults\n",
      "protobuf                  3.11.2           py36h33f27b4_0    defaults\n",
      "pycodestyle               2.5.0                    py36_0    defaults\n",
      "pygments                  2.5.2                      py_0    defaults\n",
      "pyreadline                2.1                      py36_1    defaults\n",
      "pyrsistent                0.15.6           py36he774522_0    defaults\n",
      "python                    3.6.10               h9f7ef89_0    defaults\n",
      "python-dateutil           2.8.1                      py_0    defaults\n",
      "pytz                      2019.3                     py_0    defaults\n",
      "pywin32                   227              py36he774522_1    defaults\n",
      "pywinpty                  0.5.7                    py36_0    defaults\n",
      "pyyaml                    5.2              py36he774522_0    defaults\n",
      "pyzmq                     18.1.0           py36ha925a31_0    defaults\n",
      "scipy                     1.3.2            py36h29ff71c_0    defaults\n",
      "send2trash                1.5.0                    py36_0    defaults\n",
      "setuptools                44.0.0                   py36_0    defaults\n",
      "six                       1.13.0                   py36_0    defaults\n",
      "sqlite                    3.30.1               he774522_0    defaults\n",
      "tbb                       2019.4               h74a9793_0    defaults\n",
      "tensorboard               2.0.0              pyhb38c66f_1    defaults\n",
      "tensorflow                1.15.0          gpu_py36h2b26d6b_0    defaults\n",
      "tensorflow-base           1.15.0          gpu_py36h1afeea4_0    defaults\n",
      "tensorflow-estimator      1.15.1             pyh2649769_0    defaults\n",
      "tensorflow-gpu            1.15.0               h0d30ee6_0    defaults\n",
      "termcolor                 1.1.0                    py36_1    defaults\n",
      "terminado                 0.8.3                    py36_0    defaults\n",
      "testpath                  0.4.4                      py_0    defaults\n",
      "tornado                   6.0.3            py36he774522_0    defaults\n",
      "traitlets                 4.3.3                    py36_0    defaults\n",
      "vc                        14.1                 h0510ff6_4    defaults\n",
      "vs2015_runtime            14.16.27012          hf0eaf9b_1    defaults\n",
      "wcwidth                   0.1.7                    py36_0    defaults\n",
      "webencodings              0.5.1                    py36_1    defaults\n",
      "werkzeug                  0.16.0                     py_0    defaults\n",
      "wheel                     0.33.6                   py36_0    defaults\n",
      "wincertstore              0.2              py36h7fe50ca_0    defaults\n",
      "winpty                    0.4.3                         4    defaults\n",
      "wrapt                     1.11.2           py36he774522_0    defaults\n",
      "yaml                      0.1.7                hc54c509_2    defaults\n",
      "zeromq                    4.3.1                h33f27b4_3    defaults\n",
      "zipp                      0.6.0                      py_0    defaults\n",
      "zlib                      1.2.11               h62dcd97_3    defaults\n",
      "\n",
      "Note: you may need to restart the kernel to use updated packages.\n"
     ]
    }
   ],
   "source": [
    "conda list"
   ]
  },
  {
   "cell_type": "code",
   "execution_count": 3,
   "metadata": {},
   "outputs": [
    {
     "name": "stderr",
     "output_type": "stream",
     "text": [
      "Using TensorFlow backend.\n"
     ]
    }
   ],
   "source": [
    "# multivariate mlp example\n",
    "from numpy import array\n",
    "from numpy import hstack\n",
    "from keras.models import Sequential\n",
    "from keras.layers import Dense\n",
    "# split a multivariate sequence into samples\n",
    "def split_sequences(sequences, n_steps):\n",
    "    X, y = list(), list()\n",
    "    for i in range(len(sequences)):\n",
    "        # find the end of this pattern\n",
    "        end_ix = i + n_steps\n",
    "        # check if we are beyond the dataset\n",
    "        if end_ix > len(sequences):\n",
    "            break\n",
    "        # gather input and output parts of the pattern\n",
    "        seq_x, seq_y = sequences[i:end_ix, :-1], sequences[end_ix-1, -1]\n",
    "        X.append(seq_x)\n",
    "        y.append(seq_y)\n",
    "\n",
    "    return array(X), array(y)\n"
   ]
  },
  {
   "cell_type": "markdown",
   "metadata": {},
   "source": [
    "### Input data:"
   ]
  },
  {
   "cell_type": "code",
   "execution_count": 4,
   "metadata": {},
   "outputs": [],
   "source": [
    "# define input sequence\n",
    "in_seq1 = array([10, 20, 30, 40, 50, 60, 70, 80, 90, 100, 110, 120, 130, 140])\n",
    "in_seq2 = array([15, 25, 35, 45, 55, 65, 75, 85, 95, 105, 115, 125, 135, 145])"
   ]
  },
  {
   "cell_type": "code",
   "execution_count": 5,
   "metadata": {},
   "outputs": [
    {
     "data": {
      "text/plain": [
       "array([[ 10,  15,  25],\n",
       "       [ 20,  25,  45],\n",
       "       [ 30,  35,  65],\n",
       "       [ 40,  45,  85],\n",
       "       [ 50,  55, 105],\n",
       "       [ 60,  65, 125],\n",
       "       [ 70,  75, 145],\n",
       "       [ 80,  85, 165],\n",
       "       [ 90,  95, 185],\n",
       "       [100, 105, 205],\n",
       "       [110, 115, 225],\n",
       "       [120, 125, 245],\n",
       "       [130, 135, 265],\n",
       "       [140, 145, 285]])"
      ]
     },
     "execution_count": 5,
     "metadata": {},
     "output_type": "execute_result"
    }
   ],
   "source": [
    "out_seq = array([in_seq1[i]+in_seq2[i] for i in range(len(in_seq1))])\n",
    "\n",
    "# convert to [rows, columns] structure\n",
    "in_seq1 = in_seq1.reshape((len(in_seq1), 1))\n",
    "in_seq2 = in_seq2.reshape((len(in_seq2), 1))\n",
    "out_seq = out_seq.reshape((len(out_seq), 1))\n",
    "\n",
    "# horizontally stack columns\n",
    "dataset = hstack((in_seq1, in_seq2, out_seq))\n",
    "dataset"
   ]
  },
  {
   "cell_type": "code",
   "execution_count": 6,
   "metadata": {},
   "outputs": [
    {
     "data": {
      "text/html": [
       "<div>\n",
       "<style scoped>\n",
       "    .dataframe tbody tr th:only-of-type {\n",
       "        vertical-align: middle;\n",
       "    }\n",
       "\n",
       "    .dataframe tbody tr th {\n",
       "        vertical-align: top;\n",
       "    }\n",
       "\n",
       "    .dataframe thead th {\n",
       "        text-align: right;\n",
       "    }\n",
       "</style>\n",
       "<table border=\"1\" class=\"dataframe\">\n",
       "  <thead>\n",
       "    <tr style=\"text-align: right;\">\n",
       "      <th></th>\n",
       "      <th>0</th>\n",
       "      <th>1</th>\n",
       "      <th>2</th>\n",
       "    </tr>\n",
       "  </thead>\n",
       "  <tbody>\n",
       "    <tr>\n",
       "      <th>0</th>\n",
       "      <td>10</td>\n",
       "      <td>15</td>\n",
       "      <td>25</td>\n",
       "    </tr>\n",
       "    <tr>\n",
       "      <th>1</th>\n",
       "      <td>20</td>\n",
       "      <td>25</td>\n",
       "      <td>45</td>\n",
       "    </tr>\n",
       "    <tr>\n",
       "      <th>2</th>\n",
       "      <td>30</td>\n",
       "      <td>35</td>\n",
       "      <td>65</td>\n",
       "    </tr>\n",
       "    <tr>\n",
       "      <th>3</th>\n",
       "      <td>40</td>\n",
       "      <td>45</td>\n",
       "      <td>85</td>\n",
       "    </tr>\n",
       "    <tr>\n",
       "      <th>4</th>\n",
       "      <td>50</td>\n",
       "      <td>55</td>\n",
       "      <td>105</td>\n",
       "    </tr>\n",
       "  </tbody>\n",
       "</table>\n",
       "</div>"
      ],
      "text/plain": [
       "    0   1    2\n",
       "0  10  15   25\n",
       "1  20  25   45\n",
       "2  30  35   65\n",
       "3  40  45   85\n",
       "4  50  55  105"
      ]
     },
     "execution_count": 6,
     "metadata": {},
     "output_type": "execute_result"
    }
   ],
   "source": [
    "import pandas as pd\n",
    "\n",
    "pd.DataFrame(dataset[:5])"
   ]
  },
  {
   "cell_type": "code",
   "execution_count": 7,
   "metadata": {},
   "outputs": [
    {
     "name": "stdout",
     "output_type": "stream",
     "text": [
      "training X: [[[10 15]\n",
      "  [20 25]\n",
      "  [30 35]]\n",
      "\n",
      " [[20 25]\n",
      "  [30 35]\n",
      "  [40 45]]\n",
      "\n",
      " [[30 35]\n",
      "  [40 45]\n",
      "  [50 55]]]\n",
      "training y: [ 65  85 105]\n"
     ]
    }
   ],
   "source": [
    "# choose a number of time steps\n",
    "n_steps = 3\n",
    "# convert into input/output\n",
    "X, y = split_sequences(dataset, n_steps)\n",
    "print('training X: {}'.format(X[:3]))\n",
    "print('training y: {}'.format(y[:3]))"
   ]
  },
  {
   "cell_type": "code",
   "execution_count": 8,
   "metadata": {},
   "outputs": [
    {
     "data": {
      "text/plain": [
       "array([[10, 15, 20, 25, 30, 35],\n",
       "       [20, 25, 30, 35, 40, 45],\n",
       "       [30, 35, 40, 45, 50, 55]])"
      ]
     },
     "execution_count": 8,
     "metadata": {},
     "output_type": "execute_result"
    }
   ],
   "source": [
    "# flatten input\n",
    "n_input = X.shape[1] * X.shape[2]\n",
    "X = X.reshape((X.shape[0], n_input))\n",
    "X[:3]"
   ]
  },
  {
   "cell_type": "markdown",
   "metadata": {},
   "source": [
    "### Model definition"
   ]
  },
  {
   "cell_type": "code",
   "execution_count": 9,
   "metadata": {},
   "outputs": [
    {
     "name": "stdout",
     "output_type": "stream",
     "text": [
      "WARNING:tensorflow:From C:\\Users\\gcabreram\\.conda\\envs\\deep_learning_env\\lib\\site-packages\\keras\\backend\\tensorflow_backend.py:74: The name tf.get_default_graph is deprecated. Please use tf.compat.v1.get_default_graph instead.\n",
      "\n",
      "WARNING:tensorflow:From C:\\Users\\gcabreram\\.conda\\envs\\deep_learning_env\\lib\\site-packages\\keras\\backend\\tensorflow_backend.py:517: The name tf.placeholder is deprecated. Please use tf.compat.v1.placeholder instead.\n",
      "\n",
      "WARNING:tensorflow:From C:\\Users\\gcabreram\\.conda\\envs\\deep_learning_env\\lib\\site-packages\\keras\\backend\\tensorflow_backend.py:4138: The name tf.random_uniform is deprecated. Please use tf.random.uniform instead.\n",
      "\n",
      "WARNING:tensorflow:From C:\\Users\\gcabreram\\.conda\\envs\\deep_learning_env\\lib\\site-packages\\keras\\optimizers.py:790: The name tf.train.Optimizer is deprecated. Please use tf.compat.v1.train.Optimizer instead.\n",
      "\n"
     ]
    }
   ],
   "source": [
    "# define model\n",
    "model = Sequential()\n",
    "model.add(Dense(100, activation='relu', input_dim=n_input))\n",
    "model.add(Dense(1))\n",
    "model.compile(optimizer='adam', loss='mse')"
   ]
  },
  {
   "cell_type": "code",
   "execution_count": 10,
   "metadata": {},
   "outputs": [
    {
     "ename": "ModuleNotFoundError",
     "evalue": "No module named 'keras.utils.visualize_util'",
     "output_type": "error",
     "traceback": [
      "\u001b[1;31m---------------------------------------------------------------------------\u001b[0m",
      "\u001b[1;31mModuleNotFoundError\u001b[0m                       Traceback (most recent call last)",
      "\u001b[1;32m<ipython-input-10-e9e9b6540850>\u001b[0m in \u001b[0;36m<module>\u001b[1;34m\u001b[0m\n\u001b[0;32m      2\u001b[0m \u001b[1;33m\u001b[0m\u001b[0m\n\u001b[0;32m      3\u001b[0m \u001b[1;32mfrom\u001b[0m \u001b[0mIPython\u001b[0m\u001b[1;33m.\u001b[0m\u001b[0mdisplay\u001b[0m \u001b[1;32mimport\u001b[0m \u001b[0mSVG\u001b[0m\u001b[1;33m\u001b[0m\u001b[1;33m\u001b[0m\u001b[0m\n\u001b[1;32m----> 4\u001b[1;33m \u001b[1;32mfrom\u001b[0m \u001b[0mkeras\u001b[0m\u001b[1;33m.\u001b[0m\u001b[0mutils\u001b[0m\u001b[1;33m.\u001b[0m\u001b[0mvisualize_util\u001b[0m \u001b[1;32mimport\u001b[0m \u001b[0mmodel_to_dot\u001b[0m\u001b[1;33m\u001b[0m\u001b[1;33m\u001b[0m\u001b[0m\n\u001b[0m\u001b[0;32m      5\u001b[0m \u001b[1;33m\u001b[0m\u001b[0m\n\u001b[0;32m      6\u001b[0m \u001b[0mSVG\u001b[0m\u001b[1;33m(\u001b[0m\u001b[0mmodel_to_dot\u001b[0m\u001b[1;33m(\u001b[0m\u001b[0mmodel\u001b[0m\u001b[1;33m)\u001b[0m\u001b[1;33m.\u001b[0m\u001b[0mcreate\u001b[0m\u001b[1;33m(\u001b[0m\u001b[0mprog\u001b[0m\u001b[1;33m=\u001b[0m\u001b[1;34m'dot'\u001b[0m\u001b[1;33m,\u001b[0m \u001b[0mformat\u001b[0m\u001b[1;33m=\u001b[0m\u001b[1;34m'svg'\u001b[0m\u001b[1;33m)\u001b[0m\u001b[1;33m)\u001b[0m\u001b[1;33m\u001b[0m\u001b[1;33m\u001b[0m\u001b[0m\n",
      "\u001b[1;31mModuleNotFoundError\u001b[0m: No module named 'keras.utils.visualize_util'"
     ]
    }
   ],
   "source": [
    "# https://keras.io/visualization/\n",
    "\n",
    "from IPython.display import SVG\n",
    "from keras.utils.visualize_util import model_to_dot\n",
    "\n",
    "SVG(model_to_dot(model).create(prog='dot', format='svg'))"
   ]
  },
  {
   "cell_type": "code",
   "execution_count": 12,
   "metadata": {},
   "outputs": [
    {
     "name": "stdout",
     "output_type": "stream",
     "text": [
      "WARNING:tensorflow:From C:\\Users\\gcabreram\\.conda\\envs\\deep_learning_env\\lib\\site-packages\\keras\\backend\\tensorflow_backend.py:986: The name tf.assign_add is deprecated. Please use tf.compat.v1.assign_add instead.\n",
      "\n",
      "WARNING:tensorflow:From C:\\Users\\gcabreram\\.conda\\envs\\deep_learning_env\\lib\\site-packages\\keras\\backend\\tensorflow_backend.py:973: The name tf.assign is deprecated. Please use tf.compat.v1.assign instead.\n",
      "\n",
      "WARNING:tensorflow:From C:\\Users\\gcabreram\\.conda\\envs\\deep_learning_env\\lib\\site-packages\\keras\\backend\\tensorflow_backend.py:2741: The name tf.Session is deprecated. Please use tf.compat.v1.Session instead.\n",
      "\n",
      "WARNING:tensorflow:From C:\\Users\\gcabreram\\.conda\\envs\\deep_learning_env\\lib\\site-packages\\keras\\backend\\tensorflow_backend.py:174: The name tf.get_default_session is deprecated. Please use tf.compat.v1.get_default_session instead.\n",
      "\n",
      "WARNING:tensorflow:From C:\\Users\\gcabreram\\.conda\\envs\\deep_learning_env\\lib\\site-packages\\keras\\backend\\tensorflow_backend.py:181: The name tf.ConfigProto is deprecated. Please use tf.compat.v1.ConfigProto instead.\n",
      "\n",
      "WARNING:tensorflow:From C:\\Users\\gcabreram\\.conda\\envs\\deep_learning_env\\lib\\site-packages\\keras\\backend\\tensorflow_backend.py:190: The name tf.global_variables is deprecated. Please use tf.compat.v1.global_variables instead.\n",
      "\n",
      "WARNING:tensorflow:From C:\\Users\\gcabreram\\.conda\\envs\\deep_learning_env\\lib\\site-packages\\keras\\backend\\tensorflow_backend.py:199: The name tf.is_variable_initialized is deprecated. Please use tf.compat.v1.is_variable_initialized instead.\n",
      "\n",
      "WARNING:tensorflow:From C:\\Users\\gcabreram\\.conda\\envs\\deep_learning_env\\lib\\site-packages\\keras\\backend\\tensorflow_backend.py:206: The name tf.variables_initializer is deprecated. Please use tf.compat.v1.variables_initializer instead.\n",
      "\n",
      "[[205.0016]]\n"
     ]
    }
   ],
   "source": [
    "# fit model\n",
    "model.fit(X, y, epochs=2000, verbose=0)\n",
    "# demonstrate prediction\n",
    "x_input = array([[80, 85], [90, 95], [100, 105]])\n",
    "x_input = x_input.reshape((1, n_input))\n",
    "yhat = model.predict(x_input, verbose=0)\n",
    "\n",
    "print(yhat)"
   ]
  },
  {
   "cell_type": "markdown",
   "metadata": {},
   "source": [
    "pip install --upgrade tensorflow==2.0.0-rc1"
   ]
  },
  {
   "cell_type": "code",
   "execution_count": 11,
   "metadata": {},
   "outputs": [
    {
     "name": "stdout",
     "output_type": "stream",
     "text": [
      "Note: you may need to restart the kernel to use updated packages.\n"
     ]
    },
    {
     "name": "stderr",
     "output_type": "stream",
     "text": [
      "WARNING: Retrying (Retry(total=4, connect=None, read=None, redirect=None, status=None)) after connection broken by 'ProtocolError('Connection aborted.', ConnectionResetError(10054, 'Se ha forzado la interrupción de una conexión existente por el host remoto', None, 10054, None))': /simple/tensorflow/\n",
      "WARNING: Retrying (Retry(total=3, connect=None, read=None, redirect=None, status=None)) after connection broken by 'ProtocolError('Connection aborted.', ConnectionResetError(10054, 'Se ha forzado la interrupción de una conexión existente por el host remoto', None, 10054, None))': /simple/tensorflow/\n",
      "WARNING: Retrying (Retry(total=2, connect=None, read=None, redirect=None, status=None)) after connection broken by 'ProtocolError('Connection aborted.', ConnectionResetError(10054, 'Se ha forzado la interrupción de una conexión existente por el host remoto', None, 10054, None))': /simple/tensorflow/\n",
      "WARNING: Retrying (Retry(total=1, connect=None, read=None, redirect=None, status=None)) after connection broken by 'ProtocolError('Connection aborted.', ConnectionResetError(10054, 'Se ha forzado la interrupción de una conexión existente por el host remoto', None, 10054, None))': /simple/tensorflow/\n",
      "WARNING: Retrying (Retry(total=0, connect=None, read=None, redirect=None, status=None)) after connection broken by 'ProtocolError('Connection aborted.', ConnectionResetError(10054, 'Se ha forzado la interrupción de una conexión existente por el host remoto', None, 10054, None))': /simple/tensorflow/\n",
      "ERROR: Could not find a version that satisfies the requirement tensorflow==2.0.0-rc1 (from versions: none)\n",
      "ERROR: No matching distribution found for tensorflow==2.0.0-rc1\n"
     ]
    }
   ],
   "source": [
    "pip install --upgrade tensorflow==2.0.0-rc1"
   ]
  },
  {
   "cell_type": "code",
   "execution_count": null,
   "metadata": {},
   "outputs": [],
   "source": []
  }
 ],
 "metadata": {
  "kernelspec": {
   "display_name": "Python 3",
   "language": "python",
   "name": "python3"
  },
  "language_info": {
   "codemirror_mode": {
    "name": "ipython",
    "version": 3
   },
   "file_extension": ".py",
   "mimetype": "text/x-python",
   "name": "python",
   "nbconvert_exporter": "python",
   "pygments_lexer": "ipython3",
   "version": "3.6.10"
  }
 },
 "nbformat": 4,
 "nbformat_minor": 2
}
