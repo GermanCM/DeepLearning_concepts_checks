{
 "metadata": {
  "language_info": {
   "codemirror_mode": {
    "name": "ipython",
    "version": 3
   },
   "file_extension": ".py",
   "mimetype": "text/x-python",
   "name": "python",
   "nbconvert_exporter": "python",
   "pygments_lexer": "ipython3",
   "version": "3.7.7-final"
  },
  "orig_nbformat": 2,
  "kernelspec": {
   "name": "python_defaultSpec_1598803068894",
   "display_name": "Python 3.7.7 64-bit ('deep_learn_env': conda)"
  }
 },
 "nbformat": 4,
 "nbformat_minor": 2,
 "cells": [
  {
   "cell_type": "code",
   "execution_count": null,
   "metadata": {},
   "outputs": [],
   "source": []
  },
  {
   "cell_type": "code",
   "execution_count": 1,
   "metadata": {},
   "outputs": [
    {
     "output_type": "execute_result",
     "data": {
      "text/plain": "0.6666667"
     },
     "metadata": {},
     "execution_count": 1
    }
   ],
   "source": [
    "from tensorflow.keras import metrics\n",
    "\n",
    "m = metrics.Recall()\n",
    "m.reset_states()\n",
    "m.update_state([0, 1, 1, 1], [1, 0, 1, 1]) #, sample_weight=[0, 0, 1, 0])\n",
    "m.result().numpy()"
   ]
  },
  {
   "cell_type": "code",
   "execution_count": 2,
   "metadata": {},
   "outputs": [
    {
     "output_type": "execute_result",
     "data": {
      "text/plain": "0.6666666666666666"
     },
     "metadata": {},
     "execution_count": 2
    }
   ],
   "source": [
    "recall_a_mano = 2/3\n",
    "recall_a_mano"
   ]
  },
  {
   "cell_type": "code",
   "execution_count": 3,
   "metadata": {},
   "outputs": [
    {
     "output_type": "execute_result",
     "data": {
      "text/plain": "0.6666667"
     },
     "metadata": {},
     "execution_count": 3
    }
   ],
   "source": [
    "# ahora espero obtener el mismo valor usando el default threshold de 0.5\n",
    "m = metrics.Recall()\n",
    "m.reset_states()\n",
    "m.update_state([0, 1, 1, 1], [1, 0.3, 0.8, 0.9]) #, sample_weight=[0, 0, 1, 0])\n",
    "m.result().numpy()"
   ]
  },
  {
   "cell_type": "code",
   "execution_count": 4,
   "metadata": {},
   "outputs": [
    {
     "output_type": "execute_result",
     "data": {
      "text/plain": "0.33333334"
     },
     "metadata": {},
     "execution_count": 4
    }
   ],
   "source": [
    "# ahora con threshold de 0.8 obtendré menor recall con las mismas predicciones\n",
    "m = metrics.Recall(thresholds=0.85)\n",
    "m.reset_states()\n",
    "m.update_state([0, 1, 1, 1], [1, 0.3, 0.8, 0.9]) #, sample_weight=[0, 0, 1, 0])\n",
    "m.result().numpy()"
   ]
  },
  {
   "cell_type": "code",
   "execution_count": null,
   "metadata": {},
   "outputs": [],
   "source": []
  }
 ]
}