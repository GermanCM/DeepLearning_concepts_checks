{
 "nbformat": 4,
 "nbformat_minor": 2,
 "metadata": {
  "language_info": {
   "name": "python",
   "codemirror_mode": {
    "name": "ipython",
    "version": 3
   },
   "version": "3.7.3"
  },
  "orig_nbformat": 2,
  "file_extension": ".py",
  "mimetype": "text/x-python",
  "name": "python",
  "npconvert_exporter": "python",
  "pygments_lexer": "ipython3",
  "version": 3
 },
 "cells": [
  {
   "cell_type": "markdown",
   "execution_count": null,
   "metadata": {},
   "outputs": [],
   "source": [
    "Below is a function that will create a baseline neural network for the iris classi\fcation\n",
    "problem. It creates a simple fully connected network with one hidden layer that contains 8\n",
    "neurons. The hidden layer uses a rectifi\fer activation function which is a good practice. Because\n",
    "we used a one hot encoding for our iris dataset, the output layer must create 3 output values,\n",
    "one for each class. The output value with the largest value will be taken as the class predicted\n",
    "by the model. The network topology of this simple one-layer neural network can be summarized\n",
    "as: <p>\n",
    "4 inputs -> 8 hidden nodes -> 3 outputs <p>\n",
    "Softmax activation function in the output layer.\n",
    "\n",
    "Check mis redes en tipo de arquitectura con: https://playground.tensorflow.org/"
   ]
  },
  {
   "cell_type": "code",
   "execution_count": 21,
   "metadata": {},
   "outputs": [],
   "source": [
    "import numpy\n",
    "from pandas import read_csv\n",
    "from tensorflow.keras.models import Sequential\n",
    "from tensorflow.keras.layers import Dense\n",
    "from tensorflow.keras.wrappers.scikit_learn import KerasClassifier\n",
    "from keras.utils import np_utils\n",
    "from sklearn.model_selection import cross_val_score\n",
    "from sklearn.model_selection import KFold\n",
    "from sklearn.preprocessing import LabelEncoder\n",
    "from sklearn.pipeline import Pipeline"
   ]
  },
  {
   "cell_type": "code",
   "execution_count": 22,
   "metadata": {},
   "outputs": [],
   "source": [
    "\"\"\" to ensure that the results we achieve from this model can be achieved again precisely. It ensures\n",
    "that the stochastic process of training a neural network model can be reproduced \"\"\"\n",
    "# fix random seed for reproducibility\n",
    "seed = 7\n",
    "numpy.random.seed(seed)"
   ]
  },
  {
   "cell_type": "code",
   "execution_count": 23,
   "metadata": {},
   "outputs": [
    {
     "data": {
      "text/plain": "array([[1., 0., 0.],\n       [1., 0., 0.],\n       [1., 0., 0.],\n       [1., 0., 0.]], dtype=float32)"
     },
     "execution_count": 23,
     "metadata": {},
     "output_type": "execute_result"
    }
   ],
   "source": [
    "from sklearn.datasets import load_iris\n",
    "\n",
    "iris_ds = load_iris()\n",
    "X = iris_ds.data\n",
    "# convert integers to dummy variables (i.e. one hot encoded)\n",
    "Y_one_hot_encoded = np_utils.to_categorical(iris_ds.target)\n",
    "Y_one_hot_encoded[:4]"
   ]
  },
  {
   "cell_type": "code",
   "execution_count": 24,
   "metadata": {},
   "outputs": [],
   "source": [
    "# define baseline model\n",
    "def baseline_model():\n",
    "    # create model\n",
    "    model = Sequential()\n",
    "    model.add(Dense(8, input_dim=4, activation='relu'))\n",
    "    model.add(Dense(3, activation='softmax'))\n",
    "    # Compile model\n",
    "    model.compile(loss='categorical_crossentropy', optimizer='adam', metrics=['accuracy'])\n",
    "    return model"
   ]
  },
  {
   "cell_type": "code",
   "execution_count": 25,
   "metadata": {},
   "outputs": [],
   "source": [
    "\"\"\" to ensure that the results we achieve from this model can be achieved again precisely. It ensures\n",
    "that the stochastic process of training a neural network model can be reproduced \"\"\"\n",
    "# fix random seed for reproducibility\n",
    "seed = 7\n",
    "numpy.random.seed(seed)"
   ]
  },
  {
   "cell_type": "markdown",
   "execution_count": 27,
   "metadata": {},
   "outputs": [
    {
     "data": {
      "text/plain": "array([1.        , 1.        , 1.        , 1.        , 0.93333334,\n       1.        , 1.        , 0.93333334, 1.        , 1.        ])"
     },
     "execution_count": 27,
     "metadata": {},
     "output_type": "execute_result"
    }
   ],
   "source": [
    "### Pasamos a: <p>\n",
    "   * construir el estimador a utilizar en la estrategia de validación cruzada\n",
    "   * dividir el dataset en 10 folds\n",
    "   * ejecutar el entrenamiento y validación con cada una de las 10 parejas train-validation sets"
   ]
  },
  {
   "cell_type": "code",
   "execution_count": 26,
   "metadata": {},
   "outputs": [
    {
     "name": "stdout",
     "output_type": "stream",
     "text": "Accuracy: 98.67% (2.67%)\n"
    }
   ],
   "source": [
    "estimator = KerasClassifier(build_fn=baseline_model, epochs=200, batch_size=5, verbose=0)\n",
    "kfold = KFold(n_splits=10, shuffle=True, random_state=seed)\n",
    "results = cross_val_score(estimator, X, Y_one_hot_encoded, cv=kfold)\n",
    "print(\"Accuracy: %.2f%% (%.2f%%)\" % (results.mean()*100, results.std()*100))"
   ]
  },
  {
   "cell_type": "code",
   "execution_count": 28,
   "metadata": {},
   "outputs": [
    {
     "data": {
      "text/plain": "array([1.        , 1.        , 1.        , 1.        , 0.93333334,\n       1.        , 1.        , 0.93333334, 1.        , 1.        ])"
     },
     "execution_count": 28,
     "metadata": {},
     "output_type": "execute_result"
    }
   ],
   "source": [
    "results"
   ]
  },
  {
   "cell_type": "markdown",
   "execution_count": null,
   "metadata": {},
   "outputs": [],
   "source": [
    "## AHORA LA IDEA SERÍA PROBAR CON MÁS MODELOS, TANTO REDES NEURONALES MÁS COMPLETAS COMO OTROS MODELOS ML Y EMPEZAR A PENSAR EN COMPARADORES DE MODELOS POR TIPOLOGÍAS DE DATASETS ETC "
   ]
  },
  {
   "cell_type": "code",
   "execution_count": null,
   "metadata": {},
   "outputs": [],
   "source": []
  }
 ]
}