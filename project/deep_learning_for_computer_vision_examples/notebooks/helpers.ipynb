{
 "cells": [
  {
   "cell_type": "markdown",
   "metadata": {},
   "source": [
    "* Leer un archivo de imagen\n",
    "* Convertirlo a array numérico\n",
    "* Volver a mostrarlo como imagen  "
   ]
  },
  {
   "cell_type": "code",
   "execution_count": 35,
   "metadata": {},
   "outputs": [
    {
     "output_type": "execute_result",
     "data": {
      "image/png": "[encoded data removed]",
      "text/plain": "<IPython.core.display.Image object>"
     },
     "metadata": {
      "image/png": {
       "width": 3,
       "height": 5
      }
     },
     "execution_count": 35
    }
   ],
   "source": [
    "from IPython.display import Image\n",
    "Image(\"handwritten_six.PNG\", width=3, height=5)"
   ]
  },
  {
   "cell_type": "code",
   "execution_count": 36,
   "metadata": {},
   "outputs": [],
   "source": [
    "from PIL import Image\n",
    "import numpy as np\n",
    "\n",
    "img = Image.open('handwritten_six.png').convert('L')\n",
    "\n",
    "np_img = np.array(img)"
   ]
  },
  {
   "cell_type": "code",
   "execution_count": 24,
   "metadata": {},
   "outputs": [
    {
     "output_type": "execute_result",
     "data": {
      "text/plain": "170"
     },
     "metadata": {},
     "execution_count": 24
    }
   ],
   "source": [
    "np_img=np_img.reshape(28900, )\n",
    "np_img.shape\n",
    "\n",
    "int(np.sqrt(np_img.shape))"
   ]
  },
  {
   "cell_type": "code",
   "execution_count": 25,
   "metadata": {},
   "outputs": [],
   "source": [
    "img = Image.new('1', (170, 170))\n",
    "data=[int(np_img) for np_img in np_img]\n",
    "img.putdata(data)\n",
    "img.save('my_handwritten_six.png')\n",
    "img.show()"
   ]
  },
  {
   "cell_type": "markdown",
   "metadata": {},
   "source": [
    "### re-scaling"
   ]
  },
  {
   "cell_type": "code",
   "execution_count": 40,
   "metadata": {},
   "outputs": [
    {
     "output_type": "execute_result",
     "data": {
      "text/plain": "array([[238, 238, 238, ..., 238, 238, 238],\n       [238, 238, 238, ..., 238, 238, 238],\n       [238, 238, 238, ..., 241, 241, 241],\n       ...,\n       [238, 238, 238, ..., 255, 255, 255],\n       [238, 238, 238, ..., 255, 255, 255],\n       [238, 238, 238, ..., 255, 255, 255]], dtype=uint8)"
     },
     "metadata": {},
     "execution_count": 40
    }
   ],
   "source": [
    "np_img[:100, :100]"
   ]
  },
  {
   "cell_type": "code",
   "execution_count": 41,
   "metadata": {},
   "outputs": [
    {
     "output_type": "execute_result",
     "data": {
      "text/plain": "100"
     },
     "metadata": {},
     "execution_count": 41
    }
   ],
   "source": [
    "np_img=np_img[:100, :100].reshape(10000, )\n",
    "np_img.shape\n",
    "\n",
    "int(np.sqrt(np_img.shape))"
   ]
  },
  {
   "cell_type": "code",
   "execution_count": 42,
   "metadata": {},
   "outputs": [],
   "source": [
    "img = Image.new('1', (100, 100))\n",
    "data=[int(np_img) for np_img in np_img]\n",
    "img.putdata(data)\n",
    "img.save('my_handwritten_six.png')\n",
    "img.show()"
   ]
  },
  {
   "cell_type": "code",
   "execution_count": null,
   "metadata": {},
   "outputs": [],
   "source": []
  }
 ],
 "metadata": {
  "language_info": {
   "codemirror_mode": {
    "name": "ipython",
    "version": 3
   },
   "file_extension": ".py",
   "mimetype": "text/x-python",
   "name": "python",
   "nbconvert_exporter": "python",
   "pygments_lexer": "ipython3",
   "version": "3.7.7-final"
  },
  "orig_nbformat": 2,
  "kernelspec": {
   "name": "python37764bittfgpuenvconda9bbaa1d327234a5eb211b40996ff8ee4",
   "display_name": "Python 3.7.7 64-bit ('tf_gpu_env': conda)"
  }
 },
 "nbformat": 4,
 "nbformat_minor": 2
}