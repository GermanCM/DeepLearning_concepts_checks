{
 "cells": [
  {
   "cell_type": "markdown",
   "metadata": {},
   "source": [
    "## Manual Tokenization"
   ]
  },
  {
   "cell_type": "markdown",
   "metadata": {},
   "source": [
    "### Load Data"
   ]
  },
  {
   "cell_type": "code",
   "execution_count": 1,
   "metadata": {},
   "outputs": [],
   "source": [
    "filename = '.\\data\\metamorphosis_clean.txt'\n",
    "file = open(filename, 'rt')\n",
    "text = file.read()\n",
    "file.close()"
   ]
  },
  {
   "cell_type": "code",
   "execution_count": 2,
   "metadata": {},
   "outputs": [
    {
     "output_type": "execute_result",
     "data": {
      "text/plain": "'ï»¿One morning, when Gregor Samsa woke from troubled dreams, he found\\nhimself transformed in his bed'"
     },
     "metadata": {},
     "execution_count": 2
    }
   ],
   "source": [
    "text[:100]"
   ]
  },
  {
   "cell_type": "code",
   "execution_count": 3,
   "metadata": {},
   "outputs": [
    {
     "output_type": "stream",
     "name": "stdout",
     "text": "['ï»¿One', 'morning,', 'when', 'Gregor', 'Samsa', 'woke', 'from', 'troubled', 'dreams,', 'he', 'found', 'himself', 'transformed', 'in', 'his', 'bed', 'into', 'a', 'horrible', 'vermin.', 'He', 'lay', 'on', 'his', 'armour-like', 'back,', 'and', 'if', 'he', 'lifted', 'his', 'head', 'a', 'little', 'he', 'could', 'see', 'his', 'brown', 'belly,', 'slightly', 'domed', 'and', 'divided', 'by', 'arches', 'into', 'stiff', 'sections.', 'The', 'bedding', 'was', 'hardly', 'able', 'to', 'cover', 'it', 'and', 'seemed', 'ready', 'to', 'slide', 'off', 'any', 'moment.', 'His', 'many', 'legs,', 'pitifully', 'thin', 'compared', 'with', 'the', 'size', 'of', 'the', 'rest', 'of', 'him,', 'waved', 'about', 'helplessly', 'as', 'he', 'looked.', '\"What\\'s', 'happened', 'to', 'me?\"', 'he', 'thought.', 'It', \"wasn't\", 'a', 'dream.', 'His', 'room,', 'a', 'proper', 'human']\n"
    }
   ],
   "source": [
    "# split into words by white space\n",
    "words = text.split()\n",
    "print(words[:100])"
   ]
  },
  {
   "cell_type": "markdown",
   "metadata": {},
   "source": [
    "### Select Words"
   ]
  },
  {
   "cell_type": "code",
   "execution_count": 4,
   "metadata": {},
   "outputs": [
    {
     "output_type": "stream",
     "name": "stdout",
     "text": "['ï', 'One', 'morning', 'when', 'Gregor', 'Samsa', 'woke', 'from', 'troubled', 'dreams', 'he', 'found', 'himself', 'transformed', 'in', 'his', 'bed', 'into', 'a', 'horrible', 'vermin', 'He', 'lay', 'on', 'his', 'armour', 'like', 'back', 'and', 'if', 'he', 'lifted', 'his', 'head', 'a', 'little', 'he', 'could', 'see', 'his', 'brown', 'belly', 'slightly', 'domed', 'and', 'divided', 'by', 'arches', 'into', 'stiff', 'sections', 'The', 'bedding', 'was', 'hardly', 'able', 'to', 'cover', 'it', 'and', 'seemed', 'ready', 'to', 'slide', 'off', 'any', 'moment', 'His', 'many', 'legs', 'pitifully', 'thin', 'compared', 'with', 'the', 'size', 'of', 'the', 'rest', 'of', 'him', 'waved', 'about', 'helplessly', 'as', 'he', 'looked', 'What', 's', 'happened', 'to', 'me', 'he', 'thought', 'It', 'wasn', 't', 'a', 'dream', 'His']\n"
    }
   ],
   "source": [
    "import re\n",
    "\n",
    "# split based on words only\n",
    "words = re.split(r'\\W+', text)\n",
    "print(words[:100])"
   ]
  },
  {
   "cell_type": "markdown",
   "metadata": {},
   "source": [
    "running the example we can see that we get our list of words. This time, we can see\n",
    "that armour-like is now two words armour and like (\fne) but contractions like What's is also\n",
    "two words What and s (not great)."
   ]
  },
  {
   "cell_type": "markdown",
   "metadata": {},
   "source": [
    "### Split by Whitespace and Remove Punctuation"
   ]
  },
  {
   "cell_type": "code",
   "execution_count": 5,
   "metadata": {},
   "outputs": [
    {
     "output_type": "stream",
     "name": "stdout",
     "text": "!\"#$%&'()*+,-./:;<=>?@[\\]^_`{|}~\n"
    }
   ],
   "source": [
    "import string\n",
    "\n",
    "print(string.punctuation)"
   ]
  },
  {
   "cell_type": "markdown",
   "metadata": {},
   "source": [
    "We can use regular expressions to select for the punctuation characters and use the sub() function to replace them with nothing."
   ]
  },
  {
   "cell_type": "code",
   "execution_count": 6,
   "metadata": {},
   "outputs": [
    {
     "output_type": "stream",
     "name": "stdout",
     "text": "['bed', 'into', 'a', 'horrible', 'vermin', 'He', 'lay', 'on', 'his']\n['bed', 'into', 'a', 'horrible', 'vermin', 'He', 'lay', 'on', 'his']\n"
    }
   ],
   "source": [
    "re_punc = re.compile('[%s]' % re.escape(string.punctuation))\n",
    "# remove punctuation from each word\n",
    "print(words[16:25])\n",
    "stripped = [re_punc.sub('', w) for w in words[16:25]]\n",
    "print(stripped)"
   ]
  },
  {
   "cell_type": "markdown",
   "metadata": {},
   "source": [
    "### Y hay otras transformaciones posibles..."
   ]
  },
  {
   "cell_type": "markdown",
   "metadata": {},
   "source": [
    "## Tokenization and Cleaning with NLTK"
   ]
  },
  {
   "cell_type": "code",
   "execution_count": 7,
   "metadata": {},
   "outputs": [],
   "source": [
    "import nltk\n"
   ]
  },
  {
   "cell_type": "markdown",
   "metadata": {},
   "source": [
    "After installation, you will need to install the data used with the library, including a great set of documents that you can use later for testing other tools in NLTK. There are few ways to do this, such as from within a script:"
   ]
  },
  {
   "cell_type": "code",
   "execution_count": 8,
   "metadata": {},
   "outputs": [
    {
     "output_type": "stream",
     "name": "stdout",
     "text": "showing info https://raw.githubusercontent.com/nltk/nltk_data/gh-pages/index.xml\n"
    },
    {
     "output_type": "execute_result",
     "data": {
      "text/plain": "True"
     },
     "metadata": {},
     "execution_count": 8
    }
   ],
   "source": [
    "nltk.download()"
   ]
  },
  {
   "cell_type": "markdown",
   "metadata": {},
   "source": [
    "A good useful fi\frst step is to split the text into sentences. Some modeling tasks prefer input\n",
    "to be in the form of paragraphs or sentences, such as Word2Vec.\n",
    "NLTK provides the sent tokenize() function to split text into sentences."
   ]
  },
  {
   "cell_type": "code",
   "execution_count": 11,
   "metadata": {},
   "outputs": [
    {
     "output_type": "error",
     "ename": "LookupError",
     "evalue": "\n**********************************************************************\n  Resource \u001b[93mpunkt\u001b[0m not found.\n  Please use the NLTK Downloader to obtain the resource:\n\n  \u001b[31m>>> import nltk\n  >>> nltk.download('punkt')\n  \u001b[0m\n  For more information see: https://www.nltk.org/data.html\n\n  Attempted to load \u001b[93mtokenizers/punkt/english.pickle\u001b[0m\n\n  Searched in:\n    - 'C:\\\\Users\\\\gcabreram/nltk_data'\n    - 'C:\\\\Users\\\\gcabreram\\\\AppData\\\\Local\\\\Continuum\\\\anaconda3\\\\nltk_data'\n    - 'C:\\\\Users\\\\gcabreram\\\\AppData\\\\Local\\\\Continuum\\\\anaconda3\\\\share\\\\nltk_data'\n    - 'C:\\\\Users\\\\gcabreram\\\\AppData\\\\Local\\\\Continuum\\\\anaconda3\\\\lib\\\\nltk_data'\n    - 'C:\\\\Users\\\\gcabreram\\\\AppData\\\\Roaming\\\\nltk_data'\n    - 'C:\\\\nltk_data'\n    - 'D:\\\\nltk_data'\n    - 'E:\\\\nltk_data'\n    - ''\n**********************************************************************\n",
     "traceback": [
      "\u001b[1;31m---------------------------------------------------------------------------\u001b[0m",
      "\u001b[1;31mLookupError\u001b[0m                               Traceback (most recent call last)",
      "\u001b[1;32m<ipython-input-11-c87b6a08c720>\u001b[0m in \u001b[0;36m<module>\u001b[1;34m\u001b[0m\n\u001b[0;32m      1\u001b[0m \u001b[1;31m# split into sentences\u001b[0m\u001b[1;33m\u001b[0m\u001b[1;33m\u001b[0m\u001b[1;33m\u001b[0m\u001b[0m\n\u001b[0;32m      2\u001b[0m \u001b[1;32mfrom\u001b[0m \u001b[0mnltk\u001b[0m \u001b[1;32mimport\u001b[0m \u001b[0msent_tokenize\u001b[0m\u001b[1;33m\u001b[0m\u001b[1;33m\u001b[0m\u001b[0m\n\u001b[1;32m----> 3\u001b[1;33m \u001b[0msentences\u001b[0m \u001b[1;33m=\u001b[0m \u001b[0msent_tokenize\u001b[0m\u001b[1;33m(\u001b[0m\u001b[0mtext\u001b[0m\u001b[1;33m)\u001b[0m\u001b[1;33m\u001b[0m\u001b[1;33m\u001b[0m\u001b[0m\n\u001b[0m\u001b[0;32m      4\u001b[0m \u001b[0mprint\u001b[0m\u001b[1;33m(\u001b[0m\u001b[0msentences\u001b[0m\u001b[1;33m[\u001b[0m\u001b[1;36m0\u001b[0m\u001b[1;33m]\u001b[0m\u001b[1;33m)\u001b[0m\u001b[1;33m\u001b[0m\u001b[1;33m\u001b[0m\u001b[0m\n",
      "\u001b[1;32m~\\AppData\\Local\\Continuum\\anaconda3\\lib\\site-packages\\nltk\\tokenize\\__init__.py\u001b[0m in \u001b[0;36msent_tokenize\u001b[1;34m(text, language)\u001b[0m\n\u001b[0;32m    103\u001b[0m     \u001b[1;33m:\u001b[0m\u001b[0mparam\u001b[0m \u001b[0mlanguage\u001b[0m\u001b[1;33m:\u001b[0m \u001b[0mthe\u001b[0m \u001b[0mmodel\u001b[0m \u001b[0mname\u001b[0m \u001b[1;32min\u001b[0m \u001b[0mthe\u001b[0m \u001b[0mPunkt\u001b[0m \u001b[0mcorpus\u001b[0m\u001b[1;33m\u001b[0m\u001b[1;33m\u001b[0m\u001b[0m\n\u001b[0;32m    104\u001b[0m     \"\"\"\n\u001b[1;32m--> 105\u001b[1;33m     \u001b[0mtokenizer\u001b[0m \u001b[1;33m=\u001b[0m \u001b[0mload\u001b[0m\u001b[1;33m(\u001b[0m\u001b[1;34m'tokenizers/punkt/{0}.pickle'\u001b[0m\u001b[1;33m.\u001b[0m\u001b[0mformat\u001b[0m\u001b[1;33m(\u001b[0m\u001b[0mlanguage\u001b[0m\u001b[1;33m)\u001b[0m\u001b[1;33m)\u001b[0m\u001b[1;33m\u001b[0m\u001b[1;33m\u001b[0m\u001b[0m\n\u001b[0m\u001b[0;32m    106\u001b[0m     \u001b[1;32mreturn\u001b[0m \u001b[0mtokenizer\u001b[0m\u001b[1;33m.\u001b[0m\u001b[0mtokenize\u001b[0m\u001b[1;33m(\u001b[0m\u001b[0mtext\u001b[0m\u001b[1;33m)\u001b[0m\u001b[1;33m\u001b[0m\u001b[1;33m\u001b[0m\u001b[0m\n\u001b[0;32m    107\u001b[0m \u001b[1;33m\u001b[0m\u001b[0m\n",
      "\u001b[1;32m~\\AppData\\Local\\Continuum\\anaconda3\\lib\\site-packages\\nltk\\data.py\u001b[0m in \u001b[0;36mload\u001b[1;34m(resource_url, format, cache, verbose, logic_parser, fstruct_reader, encoding)\u001b[0m\n\u001b[0;32m    866\u001b[0m \u001b[1;33m\u001b[0m\u001b[0m\n\u001b[0;32m    867\u001b[0m     \u001b[1;31m# Load the resource.\u001b[0m\u001b[1;33m\u001b[0m\u001b[1;33m\u001b[0m\u001b[1;33m\u001b[0m\u001b[0m\n\u001b[1;32m--> 868\u001b[1;33m     \u001b[0mopened_resource\u001b[0m \u001b[1;33m=\u001b[0m \u001b[0m_open\u001b[0m\u001b[1;33m(\u001b[0m\u001b[0mresource_url\u001b[0m\u001b[1;33m)\u001b[0m\u001b[1;33m\u001b[0m\u001b[1;33m\u001b[0m\u001b[0m\n\u001b[0m\u001b[0;32m    869\u001b[0m \u001b[1;33m\u001b[0m\u001b[0m\n\u001b[0;32m    870\u001b[0m     \u001b[1;32mif\u001b[0m \u001b[0mformat\u001b[0m \u001b[1;33m==\u001b[0m \u001b[1;34m'raw'\u001b[0m\u001b[1;33m:\u001b[0m\u001b[1;33m\u001b[0m\u001b[1;33m\u001b[0m\u001b[0m\n",
      "\u001b[1;32m~\\AppData\\Local\\Continuum\\anaconda3\\lib\\site-packages\\nltk\\data.py\u001b[0m in \u001b[0;36m_open\u001b[1;34m(resource_url)\u001b[0m\n\u001b[0;32m    991\u001b[0m \u001b[1;33m\u001b[0m\u001b[0m\n\u001b[0;32m    992\u001b[0m     \u001b[1;32mif\u001b[0m \u001b[0mprotocol\u001b[0m \u001b[1;32mis\u001b[0m \u001b[1;32mNone\u001b[0m \u001b[1;32mor\u001b[0m \u001b[0mprotocol\u001b[0m\u001b[1;33m.\u001b[0m\u001b[0mlower\u001b[0m\u001b[1;33m(\u001b[0m\u001b[1;33m)\u001b[0m \u001b[1;33m==\u001b[0m \u001b[1;34m'nltk'\u001b[0m\u001b[1;33m:\u001b[0m\u001b[1;33m\u001b[0m\u001b[1;33m\u001b[0m\u001b[0m\n\u001b[1;32m--> 993\u001b[1;33m         \u001b[1;32mreturn\u001b[0m \u001b[0mfind\u001b[0m\u001b[1;33m(\u001b[0m\u001b[0mpath_\u001b[0m\u001b[1;33m,\u001b[0m \u001b[0mpath\u001b[0m \u001b[1;33m+\u001b[0m \u001b[1;33m[\u001b[0m\u001b[1;34m''\u001b[0m\u001b[1;33m]\u001b[0m\u001b[1;33m)\u001b[0m\u001b[1;33m.\u001b[0m\u001b[0mopen\u001b[0m\u001b[1;33m(\u001b[0m\u001b[1;33m)\u001b[0m\u001b[1;33m\u001b[0m\u001b[1;33m\u001b[0m\u001b[0m\n\u001b[0m\u001b[0;32m    994\u001b[0m     \u001b[1;32melif\u001b[0m \u001b[0mprotocol\u001b[0m\u001b[1;33m.\u001b[0m\u001b[0mlower\u001b[0m\u001b[1;33m(\u001b[0m\u001b[1;33m)\u001b[0m \u001b[1;33m==\u001b[0m \u001b[1;34m'file'\u001b[0m\u001b[1;33m:\u001b[0m\u001b[1;33m\u001b[0m\u001b[1;33m\u001b[0m\u001b[0m\n\u001b[0;32m    995\u001b[0m         \u001b[1;31m# urllib might not use mode='rb', so handle this one ourselves:\u001b[0m\u001b[1;33m\u001b[0m\u001b[1;33m\u001b[0m\u001b[1;33m\u001b[0m\u001b[0m\n",
      "\u001b[1;32m~\\AppData\\Local\\Continuum\\anaconda3\\lib\\site-packages\\nltk\\data.py\u001b[0m in \u001b[0;36mfind\u001b[1;34m(resource_name, paths)\u001b[0m\n\u001b[0;32m    699\u001b[0m     \u001b[0msep\u001b[0m \u001b[1;33m=\u001b[0m \u001b[1;34m'*'\u001b[0m \u001b[1;33m*\u001b[0m \u001b[1;36m70\u001b[0m\u001b[1;33m\u001b[0m\u001b[1;33m\u001b[0m\u001b[0m\n\u001b[0;32m    700\u001b[0m     \u001b[0mresource_not_found\u001b[0m \u001b[1;33m=\u001b[0m \u001b[1;34m'\\n%s\\n%s\\n%s\\n'\u001b[0m \u001b[1;33m%\u001b[0m \u001b[1;33m(\u001b[0m\u001b[0msep\u001b[0m\u001b[1;33m,\u001b[0m \u001b[0mmsg\u001b[0m\u001b[1;33m,\u001b[0m \u001b[0msep\u001b[0m\u001b[1;33m)\u001b[0m\u001b[1;33m\u001b[0m\u001b[1;33m\u001b[0m\u001b[0m\n\u001b[1;32m--> 701\u001b[1;33m     \u001b[1;32mraise\u001b[0m \u001b[0mLookupError\u001b[0m\u001b[1;33m(\u001b[0m\u001b[0mresource_not_found\u001b[0m\u001b[1;33m)\u001b[0m\u001b[1;33m\u001b[0m\u001b[1;33m\u001b[0m\u001b[0m\n\u001b[0m\u001b[0;32m    702\u001b[0m \u001b[1;33m\u001b[0m\u001b[0m\n\u001b[0;32m    703\u001b[0m \u001b[1;33m\u001b[0m\u001b[0m\n",
      "\u001b[1;31mLookupError\u001b[0m: \n**********************************************************************\n  Resource \u001b[93mpunkt\u001b[0m not found.\n  Please use the NLTK Downloader to obtain the resource:\n\n  \u001b[31m>>> import nltk\n  >>> nltk.download('punkt')\n  \u001b[0m\n  For more information see: https://www.nltk.org/data.html\n\n  Attempted to load \u001b[93mtokenizers/punkt/english.pickle\u001b[0m\n\n  Searched in:\n    - 'C:\\\\Users\\\\gcabreram/nltk_data'\n    - 'C:\\\\Users\\\\gcabreram\\\\AppData\\\\Local\\\\Continuum\\\\anaconda3\\\\nltk_data'\n    - 'C:\\\\Users\\\\gcabreram\\\\AppData\\\\Local\\\\Continuum\\\\anaconda3\\\\share\\\\nltk_data'\n    - 'C:\\\\Users\\\\gcabreram\\\\AppData\\\\Local\\\\Continuum\\\\anaconda3\\\\lib\\\\nltk_data'\n    - 'C:\\\\Users\\\\gcabreram\\\\AppData\\\\Roaming\\\\nltk_data'\n    - 'C:\\\\nltk_data'\n    - 'D:\\\\nltk_data'\n    - 'E:\\\\nltk_data'\n    - ''\n**********************************************************************\n"
     ]
    }
   ],
   "source": [
    "# split into sentences\n",
    "from nltk import sent_tokenize\n",
    "\n",
    "sentences = sent_tokenize(text)\n",
    "print(sentences[0])"
   ]
  },
  {
   "cell_type": "code",
   "execution_count": 12,
   "metadata": {},
   "outputs": [
    {
     "output_type": "stream",
     "name": "stderr",
     "text": "[nltk_data] Downloading package punkt to\n[nltk_data]     C:\\Users\\gcabreram\\AppData\\Roaming\\nltk_data...\n[nltk_data]   Unzipping tokenizers\\punkt.zip.\n"
    },
    {
     "output_type": "execute_result",
     "data": {
      "text/plain": "True"
     },
     "metadata": {},
     "execution_count": 12
    }
   ],
   "source": [
    "nltk.download('punkt')"
   ]
  },
  {
   "cell_type": "code",
   "execution_count": 14,
   "metadata": {},
   "outputs": [
    {
     "output_type": "stream",
     "name": "stdout",
     "text": "ï»¿One morning, when Gregor Samsa woke from troubled dreams, he found\nhimself transformed in his bed into a horrible vermin.\n"
    }
   ],
   "source": [
    "sentences = sent_tokenize(text)\n",
    "print(sentences[0])"
   ]
  },
  {
   "cell_type": "markdown",
   "metadata": {},
   "source": [
    "## Word Counts with CountVectorizer"
   ]
  },
  {
   "cell_type": "code",
   "execution_count": 15,
   "metadata": {},
   "outputs": [
    {
     "output_type": "stream",
     "name": "stdout",
     "text": "{'the': 7, 'quick': 6, 'brown': 0, 'fox': 2, 'jumped': 3, 'over': 5, 'lazy': 4, 'dog': 1}\n(1, 8)\n<class 'scipy.sparse.csr.csr_matrix'>\n[[1 1 1 1 1 1 1 2]]\n"
    }
   ],
   "source": [
    "from sklearn.feature_extraction.text import CountVectorizer\n",
    "\n",
    "# list of text documents\n",
    "text = [\"The quick brown fox jumped over the lazy dog.\"]\n",
    "# create the transform\n",
    "vectorizer = CountVectorizer()\n",
    "# tokenize and build vocab\n",
    "vectorizer.fit(text)\n",
    "# summarize\n",
    "print(vectorizer.vocabulary_)\n",
    "# encode document\n",
    "vector = vectorizer.transform(text)\n",
    "# summarize encoded vector\n",
    "print(vector.shape)\n",
    "print(type(vector))\n",
    "print(vector.toarray())"
   ]
  },
  {
   "cell_type": "markdown",
   "metadata": {},
   "source": [
    "## Word Frequencies with TfidfVectorizer"
   ]
  },
  {
   "cell_type": "code",
   "execution_count": 19,
   "metadata": {},
   "outputs": [],
   "source": [
    "from sklearn.feature_extraction.text import TfidfVectorizer\n",
    "# list of text documents\n",
    "'''\n",
    "text = [\"The quick brown fox jumped over the lazy dog.\",\n",
    "\"The dog.\",\n",
    "\"The fox\"]\n",
    "'''\n",
    "text = [\"The quick brown fox jumped over the lazy dog.\",\n",
    "\"The nice frog\",\n",
    "\"The cuqui doggy\"]"
   ]
  },
  {
   "cell_type": "code",
   "execution_count": 20,
   "metadata": {},
   "outputs": [
    {
     "output_type": "stream",
     "name": "stdout",
     "text": "{'the': 11, 'quick': 10, 'brown': 0, 'fox': 4, 'jumped': 6, 'over': 9, 'lazy': 7, 'dog': 2, 'nice': 8, 'frog': 5, 'cuqui': 1, 'doggy': 3}\n[1.69314718 1.69314718 1.69314718 1.69314718 1.69314718 1.69314718\n 1.69314718 1.69314718 1.69314718 1.69314718 1.69314718 1.        ]\n"
    }
   ],
   "source": [
    "# create the transform\n",
    "vectorizer = TfidfVectorizer()\n",
    "# tokenize and build vocab\n",
    "vectorizer.fit(text)\n",
    "# summarize\n",
    "print(vectorizer.vocabulary_)\n",
    "print(vectorizer.idf_)"
   ]
  },
  {
   "cell_type": "code",
   "execution_count": 23,
   "metadata": {},
   "outputs": [
    {
     "output_type": "stream",
     "name": "stdout",
     "text": "(1, 12)\n[[0.34512915 0.         0.34512915 0.         0.34512915 0.\n  0.34512915 0.34512915 0.         0.34512915 0.34512915 0.40767767]]\n"
    }
   ],
   "source": [
    "# encode document\n",
    "vector = vectorizer.transform([text[0]])\n",
    "# summarize encoded vector\n",
    "print(vector.shape)\n",
    "print(vector.toarray())"
   ]
  },
  {
   "cell_type": "code",
   "execution_count": 21,
   "metadata": {},
   "outputs": [
    {
     "output_type": "execute_result",
     "data": {
      "text/plain": "['the',\n 'quick',\n 'brown',\n 'fox',\n 'jumped',\n 'over',\n 'lazy',\n 'dog',\n 'nice',\n 'frog',\n 'cuqui',\n 'doggy']"
     },
     "metadata": {},
     "execution_count": 21
    }
   ],
   "source": [
    "vocabulary_names = []\n",
    "for key, value in vectorizer.vocabulary_.items():\n",
    "    vocabulary_names.append(key)\n",
    "vocabulary_names"
   ]
  },
  {
   "cell_type": "code",
   "execution_count": 22,
   "metadata": {},
   "outputs": [
    {
     "output_type": "execute_result",
     "data": {
      "text/plain": "      word     tfidf\n0      the  1.693147\n1    quick  1.693147\n2    brown  1.693147\n3      fox  1.693147\n4   jumped  1.693147\n5     over  1.693147\n6     lazy  1.693147\n7      dog  1.693147\n8     nice  1.693147\n9     frog  1.693147\n10   cuqui  1.693147\n11   doggy  1.000000",
      "text/html": "<div>\n<style scoped>\n    .dataframe tbody tr th:only-of-type {\n        vertical-align: middle;\n    }\n\n    .dataframe tbody tr th {\n        vertical-align: top;\n    }\n\n    .dataframe thead th {\n        text-align: right;\n    }\n</style>\n<table border=\"1\" class=\"dataframe\">\n  <thead>\n    <tr style=\"text-align: right;\">\n      <th></th>\n      <th>word</th>\n      <th>tfidf</th>\n    </tr>\n  </thead>\n  <tbody>\n    <tr>\n      <td>0</td>\n      <td>the</td>\n      <td>1.693147</td>\n    </tr>\n    <tr>\n      <td>1</td>\n      <td>quick</td>\n      <td>1.693147</td>\n    </tr>\n    <tr>\n      <td>2</td>\n      <td>brown</td>\n      <td>1.693147</td>\n    </tr>\n    <tr>\n      <td>3</td>\n      <td>fox</td>\n      <td>1.693147</td>\n    </tr>\n    <tr>\n      <td>4</td>\n      <td>jumped</td>\n      <td>1.693147</td>\n    </tr>\n    <tr>\n      <td>5</td>\n      <td>over</td>\n      <td>1.693147</td>\n    </tr>\n    <tr>\n      <td>6</td>\n      <td>lazy</td>\n      <td>1.693147</td>\n    </tr>\n    <tr>\n      <td>7</td>\n      <td>dog</td>\n      <td>1.693147</td>\n    </tr>\n    <tr>\n      <td>8</td>\n      <td>nice</td>\n      <td>1.693147</td>\n    </tr>\n    <tr>\n      <td>9</td>\n      <td>frog</td>\n      <td>1.693147</td>\n    </tr>\n    <tr>\n      <td>10</td>\n      <td>cuqui</td>\n      <td>1.693147</td>\n    </tr>\n    <tr>\n      <td>11</td>\n      <td>doggy</td>\n      <td>1.000000</td>\n    </tr>\n  </tbody>\n</table>\n</div>"
     },
     "metadata": {},
     "execution_count": 22
    }
   ],
   "source": [
    "'''\n",
    "import plotly.express as px\n",
    "import pandas as pd \n",
    "\n",
    "df = pd.DataFrame({'word': pd.Series(vocabulary_names), 'tfidf': pd.Series(vectorizer.idf_)}) \n",
    "# Here we use a column with categorical data\n",
    "fig = px.histogram(df, x=\"day\")\n",
    "fig.show()\n",
    "'''\n",
    "import pandas as pd \n",
    "\n",
    "df = pd.DataFrame({'word': pd.Series(vocabulary_names), 'tfidf': pd.Series(vectorizer.idf_)}) \n",
    "df"
   ]
  },
  {
   "cell_type": "markdown",
   "metadata": {},
   "source": [
    "### Test rápido: pruebo a obtener lo mismo para un texto que contenga cada palabra una sola vez, esperando que el tfidf sea mayor para la palabra menos común"
   ]
  },
  {
   "cell_type": "code",
   "execution_count": 33,
   "metadata": {},
   "outputs": [
    {
     "output_type": "stream",
     "name": "stdout",
     "text": "['and', 'document', 'first', 'is', 'one', 'second', 'the', 'third', 'this']\n  (0, 1)\t0.46979138557992045\n  (0, 2)\t0.5802858236844359\n  (0, 6)\t0.38408524091481483\n  (0, 3)\t0.38408524091481483\n  (0, 8)\t0.38408524091481483\n  (1, 5)\t0.5386476208856763\n  (1, 1)\t0.6876235979836938\n  (1, 6)\t0.281088674033753\n  (1, 3)\t0.281088674033753\n  (1, 8)\t0.281088674033753\n  (2, 4)\t0.511848512707169\n  (2, 7)\t0.511848512707169\n  (2, 0)\t0.511848512707169\n  (2, 6)\t0.267103787642168\n  (2, 3)\t0.267103787642168\n  (2, 8)\t0.267103787642168\n  (3, 1)\t0.46979138557992045\n  (3, 2)\t0.5802858236844359\n  (3, 6)\t0.38408524091481483\n  (3, 3)\t0.38408524091481483\n  (3, 8)\t0.38408524091481483\n"
    }
   ],
   "source": [
    "from sklearn.feature_extraction.text import TfidfVectorizer\n",
    "corpus = [\n",
    "    'This is the first document.',\n",
    "    'This document is the second document.',\n",
    "    'And this is the third one.',\n",
    "    'Is this the first document?',\n",
    "]\n",
    "vectorizer = TfidfVectorizer()\n",
    "X = vectorizer.fit_transform(corpus)\n",
    "print(vectorizer.get_feature_names())\n",
    "\n",
    "print(X)"
   ]
  },
  {
   "cell_type": "markdown",
   "metadata": {},
   "source": [
    "### To check: https://scikit-learn.org/stable/modules/feature_extraction.html#text-feature-extraction\n"
   ]
  },
  {
   "cell_type": "code",
   "execution_count": 35,
   "metadata": {},
   "outputs": [
    {
     "output_type": "execute_result",
     "data": {
      "image/png": "[encoded data removed]",
      "text/plain": "<IPython.core.display.Image object>"
     },
     "metadata": {
      "image/png": {
       "width": 3,
       "height": 5
      }
     },
     "execution_count": 35
    }
   ],
   "source": [
    "from IPython.display import Image\n",
    "Image(\"./pics/tf_idf_scikit.png\", width=3, height=5)"
   ]
  },
  {
   "cell_type": "code",
   "execution_count": 55,
   "metadata": {},
   "outputs": [
    {
     "output_type": "stream",
     "name": "stdout",
     "text": "['document', 'first', 'is', 'second', 'the', 'this']\n  (0, 0)\t0.40909010368335985\n  (0, 1)\t0.5749618667993135\n  (0, 4)\t0.40909010368335985\n  (0, 2)\t0.40909010368335985\n  (0, 5)\t0.40909010368335985\n  (1, 3)\t0.4691317250431934\n  (1, 0)\t0.6675821723880022\n  (1, 4)\t0.3337910861940011\n  (1, 2)\t0.3337910861940011\n  (1, 5)\t0.3337910861940011\n"
    }
   ],
   "source": [
    "# tf-idf formula:\n",
    "from numpy import log\n",
    "from sklearn.feature_extraction.text import TfidfVectorizer\n",
    "corpus = [\n",
    "    'This is the first document.',\n",
    "    'This document is the second document.']\n",
    "\n",
    "vectorizer = TfidfVectorizer()\n",
    "X = vectorizer.fit_transform(corpus)\n",
    "print(vectorizer.get_feature_names())\n",
    "print(X)"
   ]
  },
  {
   "cell_type": "code",
   "execution_count": 62,
   "metadata": {},
   "outputs": [
    {
     "output_type": "execute_result",
     "data": {
      "text/plain": "1.0"
     },
     "metadata": {},
     "execution_count": 62
    }
   ],
   "source": [
    "n = 2\n",
    "tf_idf_vector = []\n",
    "# WORD 'this'\n",
    "df_word_this = 2\n",
    "idf_word_this_doc1 = log(n/df_word_this) + 1\n",
    "tf_word_this_doc1 = 1\n",
    "\n",
    "tf_idf_word_this_doc1 = tf_word_this_doc1*idf_word_this_doc1\n",
    "\n",
    "tf_idf_vector.append(tf_idf_word_this_doc1)\n",
    "tf_idf_word_this_doc1"
   ]
  },
  {
   "cell_type": "code",
   "execution_count": 63,
   "metadata": {},
   "outputs": [
    {
     "output_type": "execute_result",
     "data": {
      "text/plain": "1.0"
     },
     "metadata": {},
     "execution_count": 63
    }
   ],
   "source": [
    "# WORD 'is'\n",
    "df_word_is = 2\n",
    "idf_word_is_doc1 = log(n/df_word_is) + 1\n",
    "tf_word_is_doc1 = 1\n",
    "\n",
    "tf_idf_word_is_doc1 = tf_word_is_doc1*idf_word_is_doc1\n",
    "\n",
    "tf_idf_vector.append(tf_idf_word_is_doc1)\n",
    "tf_idf_word_is_doc1"
   ]
  },
  {
   "cell_type": "code",
   "execution_count": 64,
   "metadata": {},
   "outputs": [
    {
     "output_type": "execute_result",
     "data": {
      "text/plain": "1.6931471805599454"
     },
     "metadata": {},
     "execution_count": 64
    }
   ],
   "source": [
    "# WORD 'first'\n",
    "df_word_first = 1\n",
    "idf_word_first_doc1 = log(n/df_word_first) + 1\n",
    "tf_word_first_doc1 = 1\n",
    "\n",
    "tf_idf_word_first_doc1 = tf_word_first_doc1*idf_word_first_doc1\n",
    "tf_idf_vector.append(tf_idf_word_first_doc1)\n",
    "tf_idf_word_first_doc1"
   ]
  },
  {
   "cell_type": "code",
   "execution_count": 65,
   "metadata": {},
   "outputs": [
    {
     "output_type": "execute_result",
     "data": {
      "text/plain": "1.0"
     },
     "metadata": {},
     "execution_count": 65
    }
   ],
   "source": [
    "# WORD 'the'\n",
    "df_word_the = 2\n",
    "idf_word_the_doc1 = log(n/df_word_the) + 1\n",
    "tf_word_the_doc1 = 1\n",
    "\n",
    "tf_idf_word_the_doc1 = tf_word_the_doc1*idf_word_the_doc1\n",
    "tf_idf_vector.append(tf_idf_word_the_doc1)\n",
    "tf_idf_word_the_doc1"
   ]
  },
  {
   "cell_type": "code",
   "execution_count": 66,
   "metadata": {},
   "outputs": [
    {
     "output_type": "execute_result",
     "data": {
      "text/plain": "1.0"
     },
     "metadata": {},
     "execution_count": 66
    }
   ],
   "source": [
    "# WORD 'document'\n",
    "df_word_document = 2\n",
    "idf_word_document_doc1 = log(n/df_word_document) + 1\n",
    "tf_word_document_doc1 = 1\n",
    "\n",
    "tf_idf_word_document_doc1 = tf_word_document_doc1*idf_word_document_doc1\n",
    "tf_idf_vector.append(tf_idf_word_document_doc1)\n",
    "tf_idf_word_document_doc1"
   ]
  },
  {
   "cell_type": "code",
   "execution_count": 67,
   "metadata": {},
   "outputs": [
    {
     "output_type": "execute_result",
     "data": {
      "text/plain": "[1.0, 1.0, 1.6931471805599454, 1.0, 1.0]"
     },
     "metadata": {},
     "execution_count": 67
    }
   ],
   "source": [
    "tf_idf_vector"
   ]
  },
  {
   "cell_type": "code",
   "execution_count": 70,
   "metadata": {},
   "outputs": [
    {
     "output_type": "execute_result",
     "data": {
      "text/plain": "[1.0, 1.0, 2.8667473750380923, 1.0, 1.0]"
     },
     "metadata": {},
     "execution_count": 70
    }
   ],
   "source": [
    "[np.square(x) for x in tf_idf_vector]"
   ]
  },
  {
   "cell_type": "code",
   "execution_count": 71,
   "metadata": {},
   "outputs": [
    {
     "output_type": "execute_result",
     "data": {
      "text/plain": "2.620447934044501"
     },
     "metadata": {},
     "execution_count": 71
    }
   ],
   "source": [
    "tf_idf_vector_euclidean_norm = np.sqrt(np.sum([np.square(x) for x in tf_idf_vector])) #square root of the sum of the squares\n",
    "tf_idf_vector_euclidean_norm\n"
   ]
  },
  {
   "cell_type": "code",
   "execution_count": 72,
   "metadata": {},
   "outputs": [
    {
     "output_type": "execute_result",
     "data": {
      "text/plain": "array([0.38161415, 0.38161415, 0.64612892, 0.38161415, 0.38161415])"
     },
     "metadata": {},
     "execution_count": 72
    }
   ],
   "source": [
    "tf_idf_vector_normalized = np.divide(tf_idf_vector,tf_idf_vector_euclidean_norm)\n",
    "tf_idf_vector_normalized"
   ]
  },
  {
   "cell_type": "markdown",
   "metadata": {},
   "source": [
    "#### El resultado es similar al dado por 'TfidfVectorizer', obteniendo mayor peso para la palabra 'first', salvo una diferencia dada quizás por algún factor extra"
   ]
  },
  {
   "cell_type": "markdown",
   "metadata": {},
   "source": [
    "## Hashing with HashingVectorizer"
   ]
  },
  {
   "cell_type": "code",
   "execution_count": 1,
   "metadata": {},
   "outputs": [
    {
     "output_type": "stream",
     "name": "stdout",
     "text": "(1, 20)\n[[ 0.          0.          0.          0.          0.          0.33333333\n   0.         -0.33333333  0.33333333  0.          0.          0.33333333\n   0.          0.          0.         -0.33333333  0.          0.\n  -0.66666667  0.        ]]\n"
    }
   ],
   "source": [
    "from sklearn.feature_extraction.text import HashingVectorizer\n",
    "# list of text documents\n",
    "text = [\"The quick brown fox jumped over the lazy dog.\"]\n",
    "# create the transform\n",
    "vectorizer = HashingVectorizer(n_features=20)\n",
    "# encode document\n",
    "vector = vectorizer.transform(text)\n",
    "# summarize encoded vector\n",
    "print(vector.shape)\n",
    "print(vector.toarray())"
   ]
  },
  {
   "cell_type": "markdown",
   "metadata": {},
   "source": [
    "### Mi test: quiero comprobar si una frase que contenga muchas palabras en común aporta un hashed vector similar"
   ]
  },
  {
   "cell_type": "code",
   "execution_count": 2,
   "metadata": {},
   "outputs": [
    {
     "output_type": "stream",
     "name": "stdout",
     "text": "[[ 0.          0.          0.37796447  0.          0.          0.37796447\n   0.         -0.37796447  0.37796447  0.          0.          0.37796447\n   0.          0.          0.         -0.37796447  0.          0.\n  -0.37796447  0.        ]]\n[[ 0.          0.          0.35355339  0.          0.          0.35355339\n   0.         -0.35355339  0.35355339  0.          0.          0.35355339\n   0.          0.          0.         -0.35355339  0.          0.35355339\n  -0.35355339  0.        ]]\n[[ 0.          0.          0.37796447  0.          0.          0.37796447\n   0.         -0.37796447  0.37796447  0.          0.          0.37796447\n   0.          0.          0.         -0.37796447  0.          0.\n  -0.37796447  0.        ]]\n"
    }
   ],
   "source": [
    "text_1 = [\"This quick brown fox jumped over the lazy dog.\"]\n",
    "text_2 = [\"This is a quick brown fox jumped over the lazy dog.\"]\n",
    "text_3 = [\"This nice brown fox jumped over the lazy dog.\"]\n",
    "# create the transform\n",
    "vectorizer = HashingVectorizer(n_features=20)\n",
    "# encode documents\n",
    "vector_1 = vectorizer.transform(text_1)\n",
    "vector_2 = vectorizer.transform(text_2)\n",
    "vector_3 = vectorizer.transform(text_3)\n",
    "# summarize encoded vectors\n",
    "print(vector_1.toarray())\n",
    "print(vector_2.toarray())\n",
    "print(vector_3.toarray())"
   ]
  },
  {
   "cell_type": "markdown",
   "metadata": {},
   "source": [
    "### Como esperaba, la 1 y la 3 ofrecen resultados muy parecidos (en particular, iguales); si aumento el tamañoñ del hash vector quizás me dé valores distintos?"
   ]
  },
  {
   "cell_type": "code",
   "execution_count": 8,
   "metadata": {},
   "outputs": [
    {
     "output_type": "stream",
     "name": "stdout",
     "text": "[[ 0.          0.         -0.31622777  0.01710557  0.          0.\n   0.          0.01710557 -0.01710557  0.          0.01710557  0.01710557\n  -0.01710557  0.01710557  0.         -0.01710557  0.          0.\n  -0.01710557  0.          0.          0.          0.          0.\n   0.        ]]\n[[0. 0. 0. 0. 0. 0. 0. 0. 0. 0. 0. 0. 0. 0. 0. 0. 0. 0. 0. 0. 0. 0. 0. 0.\n  0.]]\n"
    }
   ],
   "source": [
    "text_1 = [\"This quick brown fox jumped over the lazy dog.\"]\n",
    "text_2 = [\"This is a quick brown fox jumped over the lazy dog.\"]\n",
    "text_3 = [\"This nice brown fox jumped over the lazy dog.\"]\n",
    "# create the transform\n",
    "vectorizer = HashingVectorizer(n_features=25)\n",
    "# encode documents\n",
    "vector_1 = vectorizer.transform(text_1)\n",
    "vector_2 = vectorizer.transform(text_2)\n",
    "vector_3 = vectorizer.transform(text_3)\n",
    "# summarize encoded vectors\n",
    "print(vector_1.toarray()-vector_2.toarray())\n",
    "print(vector_1.toarray()-vector_3.toarray())\n",
    "#print(vector_3.toarray())"
   ]
  },
  {
   "cell_type": "markdown",
   "metadata": {},
   "source": [
    "## How to Prepare Text Data With Keras"
   ]
  },
  {
   "cell_type": "markdown",
   "metadata": {},
   "source": [
    "Text data must be encoded as numbers to be used as input or output for machine learning and deep learning models, such as word embeddings"
   ]
  },
  {
   "cell_type": "markdown",
   "metadata": {},
   "source": [
    "1. Split words with text to word sequence.\n",
    "2. Encoding with one hot.\n",
    "3. Hash Encoding with hashing trick.\n",
    "4. Tokenizer API"
   ]
  },
  {
   "cell_type": "code",
   "execution_count": 10,
   "metadata": {},
   "outputs": [
    {
     "output_type": "stream",
     "name": "stderr",
     "text": "Using TensorFlow backend.\n['the', 'quick', 'brown', 'fox', 'jumped', 'over', 'the', 'lazy', 'dog']\n"
    }
   ],
   "source": [
    "from keras.preprocessing.text import text_to_word_sequence\n",
    "\n",
    "'''\n",
    "By\n",
    "default, this function automatically does 3 things:\n",
    " Splits words by space\n",
    " Filters out punctuation\n",
    " Converts text to lowercase (lower=True)\n",
    "'''\n",
    "\n",
    "# define the document\n",
    "text = 'The quick brown fox jumped over the lazy dog.'\n",
    "# tokenize the document\n",
    "result = text_to_word_sequence(text)\n",
    "print(result)"
   ]
  },
  {
   "cell_type": "markdown",
   "metadata": {},
   "source": [
    "## Encoding with one hot \n",
    "The function returns an integer encoded version of the document"
   ]
  },
  {
   "cell_type": "markdown",
   "metadata": {},
   "source": [
    "The use of a hash function means that there may be collisions and not all words will be assigned unique integer values. As with the text to word sequence() function in the previous section, the one hot() function will make the text lower case, fi\flter out punctuation, and split words based on white space"
   ]
  },
  {
   "cell_type": "markdown",
   "metadata": {},
   "source": [
    "\fFirst prints the size of the vocabulary as 8. The encoded document is then printed as an array of integer encoded words."
   ]
  },
  {
   "cell_type": "code",
   "execution_count": 27,
   "metadata": {},
   "outputs": [
    {
     "output_type": "stream",
     "name": "stdout",
     "text": "vocab_size: 8\nwords: {'over', 'quick', 'lazy', 'brown', 'jumped', 'dog', 'the', 'fox'}\n"
    }
   ],
   "source": [
    "from keras.preprocessing.text import one_hot\n",
    "from keras.preprocessing.text import text_to_word_sequence\n",
    "# define the document\n",
    "text = 'The quick brown fox jumped over the lazy dog.'\n",
    "# estimate the size of the vocabulary\n",
    "words = set(text_to_word_sequence(text))\n",
    "vocab_size = len(words)\n",
    "print('vocab_size: {}'.format(vocab_size))\n",
    "print('words: {}'.format(words))"
   ]
  },
  {
   "cell_type": "code",
   "execution_count": 28,
   "metadata": {},
   "outputs": [
    {
     "output_type": "stream",
     "name": "stdout",
     "text": "[8, 2, 2, 7, 5, 3, 8, 2, 8]\n"
    }
   ],
   "source": [
    "# integer encode the document\n",
    "result = one_hot(text, round(vocab_size*1.3))\n",
    "print(result)"
   ]
  },
  {
   "cell_type": "markdown",
   "metadata": {},
   "source": [
    "## Hash Encoding with hashing trick"
   ]
  },
  {
   "cell_type": "markdown",
   "metadata": {},
   "source": [
    "A limitation of integer and count base encodings is that they must maintain a vocabulary of words and their mapping to integers. An alternative to this approach is to use a one-way hash function to convert words to integers."
   ]
  },
  {
   "cell_type": "code",
   "execution_count": 26,
   "metadata": {},
   "outputs": [
    {
     "output_type": "stream",
     "name": "stdout",
     "text": "8\n[6, 4, 1, 2, 7, 5, 6, 2, 6]\n"
    }
   ],
   "source": [
    "from keras.preprocessing.text import hashing_trick\n",
    "from keras.preprocessing.text import text_to_word_sequence\n",
    "\n",
    "# define the document\n",
    "text = 'The quick brown fox jumped over the lazy dog.'\n",
    "# estimate the size of the vocabulary\n",
    "words = set(text_to_word_sequence(text))\n",
    "vocab_size = len(words)\n",
    "print(vocab_size)\n",
    "# integer encode the document\n",
    "result = hashing_trick(text, round(vocab_size*1.3), hash_function='md5')\n",
    "print(result)\n"
   ]
  },
  {
   "cell_type": "markdown",
   "metadata": {},
   "source": [
    "the use of a different hash function results in consistent, but different integers for words as the one hot() function in the previous section."
   ]
  },
  {
   "cell_type": "markdown",
   "metadata": {},
   "source": [
    "## Tokenizer API"
   ]
  },
  {
   "cell_type": "markdown",
   "metadata": {},
   "source": [
    "This may be the preferred approach for large projects. Keras provides the Tokenizer class for preparing text documents for deep learning. The Tokenizer must be constructed and then fi\ft on either raw text documents or integer encoded text documents."
   ]
  },
  {
   "cell_type": "code",
   "execution_count": 29,
   "metadata": {},
   "outputs": [],
   "source": [
    "from keras.preprocessing.text import Tokenizer\n",
    "# define 5 documents\n",
    "docs = ['Well done!',\n",
    "'Good work',\n",
    "'Great effort',\n",
    "'nice work',\n",
    "'Excellent!']\n",
    "# create the tokenizer\n",
    "t = Tokenizer()\n",
    "# fit the tokenizer on the documents\n",
    "t.fit_on_texts(docs)"
   ]
  },
  {
   "cell_type": "code",
   "execution_count": 31,
   "metadata": {},
   "outputs": [
    {
     "output_type": "stream",
     "name": "stdout",
     "text": "word_counts:  OrderedDict([('well', 1), ('done', 1), ('good', 1), ('work', 2), ('great', 1), ('effort', 1), ('nice', 1), ('excellent', 1)])\ndocument_count:  5\nword_index:  {'work': 1, 'well': 2, 'done': 3, 'good': 4, 'great': 5, 'effort': 6, 'nice': 7, 'excellent': 8}\nword_docs:  defaultdict(<class 'int'>, {'done': 1, 'well': 1, 'good': 1, 'work': 2, 'great': 1, 'effort': 1, 'nice': 1, 'excellent': 1})\n"
    }
   ],
   "source": [
    "# summarize what was learned\n",
    "print('word_counts: ', t.word_counts)\n",
    "print('document_count: ', t.document_count)\n",
    "print('word_index: ', t.word_index)\n",
    "print('word_docs: ', t.word_docs)"
   ]
  },
  {
   "cell_type": "code",
   "execution_count": 32,
   "metadata": {},
   "outputs": [
    {
     "output_type": "stream",
     "name": "stdout",
     "text": "[[0. 0. 1. 1. 0. 0. 0. 0. 0.]\n [0. 1. 0. 0. 1. 0. 0. 0. 0.]\n [0. 0. 0. 0. 0. 1. 1. 0. 0.]\n [0. 1. 0. 0. 0. 0. 0. 1. 0.]\n [0. 0. 0. 0. 0. 0. 0. 0. 1.]]\n"
    }
   ],
   "source": [
    "# integer encode documents\n",
    "encoded_docs = t.texts_to_matrix(docs, mode='count')\n",
    "print(encoded_docs)"
   ]
  },
  {
   "cell_type": "markdown",
   "metadata": {},
   "source": [
    "## How to Prepare Movie Review Data for Sentiment Analysis"
   ]
  },
  {
   "cell_type": "markdown",
   "metadata": {},
   "source": [
    "* The dataset is comprised of only English reviews.\n",
    "* All text has been converted to lowercase.\n",
    "* There is white space around punctuation like periods, commas, and brackets.\n",
    "* Text has been split into one sentence per line."
   ]
  },
  {
   "cell_type": "markdown",
   "metadata": {},
   "source": [
    "## Template for developing a function to clean all documents in a folder"
   ]
  },
  {
   "cell_type": "code",
   "execution_count": 36,
   "metadata": {
    "tags": [
     "outputPrepend"
    ]
   },
   "outputs": [
    {
     "output_type": "stream",
     "name": "stdout",
     "text": "1.txt\nLoaded cv123_12165.txt\nLoaded cv124_3903.txt\nLoaded cv125_9636.txt\nLoaded cv126_28821.txt\nLoaded cv127_16451.txt\nLoaded cv128_29444.txt\nLoaded cv129_18373.txt\nLoaded cv130_18521.txt\nLoaded cv131_11568.txt\nLoaded cv132_5423.txt\nLoaded cv133_18065.txt\nLoaded cv134_23300.txt\nLoaded cv135_12506.txt\nLoaded cv136_12384.txt\nLoaded cv137_17020.txt\nLoaded cv138_13903.txt\nLoaded cv139_14236.txt\nLoaded cv140_7963.txt\nLoaded cv141_17179.txt\nLoaded cv142_23657.txt\nLoaded cv143_21158.txt\nLoaded cv144_5010.txt\nLoaded cv145_12239.txt\nLoaded cv146_19587.txt\nLoaded cv147_22625.txt\nLoaded cv148_18084.txt\nLoaded cv149_17084.txt\nLoaded cv150_14279.txt\nLoaded cv151_17231.txt\nLoaded cv152_9052.txt\nLoaded cv153_11607.txt\nLoaded cv154_9562.txt\nLoaded cv155_7845.txt\nLoaded cv156_11119.txt\nLoaded cv157_29302.txt\nLoaded cv158_10914.txt\nLoaded cv159_29374.txt\nLoaded cv160_10848.txt\nLoaded cv161_12224.txt\nLoaded cv162_10977.txt\nLoaded cv163_10110.txt\nLoaded cv164_23451.txt\nLoaded cv165_2389.txt\nLoaded cv166_11959.txt\nLoaded cv167_18094.txt\nLoaded cv168_7435.txt\nLoaded cv169_24973.txt\nLoaded cv170_29808.txt\nLoaded cv171_15164.txt\nLoaded cv172_12037.txt\nLoaded cv173_4295.txt\nLoaded cv174_9735.txt\nLoaded cv175_7375.txt\nLoaded cv176_14196.txt\nLoaded cv177_10904.txt\nLoaded cv178_14380.txt\nLoaded cv179_9533.txt\nLoaded cv180_17823.txt\nLoaded cv181_16083.txt\nLoaded cv182_7791.txt\nLoaded cv183_19826.txt\nLoaded cv184_26935.txt\nLoaded cv185_28372.txt\nLoaded cv186_2396.txt\nLoaded cv187_14112.txt\nLoaded cv188_20687.txt\nLoaded cv189_24248.txt\nLoaded cv190_27176.txt\nLoaded cv191_29539.txt\nLoaded cv192_16079.txt\nLoaded cv193_5393.txt\nLoaded cv194_12855.txt\nLoaded cv195_16146.txt\nLoaded cv196_28898.txt\nLoaded cv197_29271.txt\nLoaded cv198_19313.txt\nLoaded cv199_9721.txt\nLoaded cv200_29006.txt\nLoaded cv201_7421.txt\nLoaded cv202_11382.txt\nLoaded cv203_19052.txt\nLoaded cv204_8930.txt\nLoaded cv205_9676.txt\nLoaded cv206_15893.txt\nLoaded cv207_29141.txt\nLoaded cv208_9475.txt\nLoaded cv209_28973.txt\nLoaded cv210_9557.txt\nLoaded cv211_9955.txt\nLoaded cv212_10054.txt\nLoaded cv213_20300.txt\nLoaded cv214_13285.txt\nLoaded cv215_23246.txt\nLoaded cv216_20165.txt\nLoaded cv217_28707.txt\nLoaded cv218_25651.txt\nLoaded cv219_19874.txt\nLoaded cv220_28906.txt\nLoaded cv221_27081.txt\nLoaded cv222_18720.txt\nLoaded cv223_28923.txt\nLoaded cv224_18875.txt\nLoaded cv225_29083.txt\nLoaded cv226_26692.txt\nLoaded cv227_25406.txt\nLoaded cv228_5644.txt\nLoaded cv229_15200.txt\nLoaded cv230_7913.txt\nLoaded cv231_11028.txt\nLoaded cv232_16768.txt\nLoaded cv233_17614.txt\nLoaded cv234_22123.txt\nLoaded cv235_10704.txt\nLoaded cv236_12427.txt\nLoaded cv237_20635.txt\nLoaded cv238_14285.txt\nLoaded cv239_29828.txt\nLoaded cv240_15948.txt\nLoaded cv241_24602.txt\nLoaded cv242_11354.txt\nLoaded cv243_22164.txt\nLoaded cv244_22935.txt\nLoaded cv245_8938.txt\nLoaded cv246_28668.txt\nLoaded cv247_14668.txt\nLoaded cv248_15672.txt\nLoaded cv249_12674.txt\nLoaded cv250_26462.txt\nLoaded cv251_23901.txt\nLoaded cv252_24974.txt\nLoaded cv253_10190.txt\nLoaded cv254_5870.txt\nLoaded cv255_15267.txt\nLoaded cv256_16529.txt\nLoaded cv257_11856.txt\nLoaded cv258_5627.txt\nLoaded cv259_11827.txt\nLoaded cv260_15652.txt\nLoaded cv261_11855.txt\nLoaded cv262_13812.txt\nLoaded cv263_20693.txt\nLoaded cv264_14108.txt\nLoaded cv265_11625.txt\nLoaded cv266_26644.txt\nLoaded cv267_16618.txt\nLoaded cv268_20288.txt\nLoaded cv269_23018.txt\nLoaded cv270_5873.txt\nLoaded cv271_15364.txt\nLoaded cv272_20313.txt\nLoaded cv273_28961.txt\nLoaded cv274_26379.txt\nLoaded cv275_28725.txt\nLoaded cv276_17126.txt\nLoaded cv277_20467.txt\nLoaded cv278_14533.txt\nLoaded cv279_19452.txt\nLoaded cv280_8651.txt\nLoaded cv281_24711.txt\nLoaded cv282_6833.txt\nLoaded cv283_11963.txt\nLoaded cv284_20530.txt\nLoaded cv285_18186.txt\nLoaded cv286_26156.txt\nLoaded cv287_17410.txt\nLoaded cv288_20212.txt\nLoaded cv289_6239.txt\nLoaded cv290_11981.txt\nLoaded cv291_26844.txt\nLoaded cv292_7804.txt\nLoaded cv293_29731.txt\nLoaded cv294_12695.txt\nLoaded cv295_17060.txt\nLoaded cv296_13146.txt\nLoaded cv297_10104.txt\nLoaded cv298_24487.txt\nLoaded cv299_17950.txt\nLoaded cv300_23302.txt\nLoaded cv301_13010.txt\nLoaded cv302_26481.txt\nLoaded cv303_27366.txt\nLoaded cv304_28489.txt\nLoaded cv305_9937.txt\nLoaded cv306_10859.txt\nLoaded cv307_26382.txt\nLoaded cv308_5079.txt\nLoaded cv309_23737.txt\nLoaded cv310_14568.txt\nLoaded cv311_17708.txt\nLoaded cv312_29308.txt\nLoaded cv313_19337.txt\nLoaded cv314_16095.txt\nLoaded cv315_12638.txt\nLoaded cv316_5972.txt\nLoaded cv317_25111.txt\nLoaded cv318_11146.txt\nLoaded cv319_16459.txt\nLoaded cv320_9693.txt\nLoaded cv321_14191.txt\nLoaded cv322_21820.txt\nLoaded cv323_29633.txt\nLoaded cv324_7502.txt\nLoaded cv325_18330.txt\nLoaded cv326_14777.txt\nLoaded cv327_21743.txt\nLoaded cv328_10908.txt\nLoaded cv329_29293.txt\nLoaded cv330_29675.txt\nLoaded cv331_8656.txt\nLoaded cv332_17997.txt\nLoaded cv333_9443.txt\nLoaded cv334_0074.txt\nLoaded cv335_16299.txt\nLoaded cv336_10363.txt\nLoaded cv337_29061.txt\nLoaded cv338_9183.txt\nLoaded cv339_22452.txt\nLoaded cv340_14776.txt\nLoaded cv341_25667.txt\nLoaded cv342_20917.txt\nLoaded cv343_10906.txt\nLoaded cv344_5376.txt\nLoaded cv345_9966.txt\nLoaded cv346_19198.txt\nLoaded cv347_14722.txt\nLoaded cv348_19207.txt\nLoaded cv349_15032.txt\nLoaded cv350_22139.txt\nLoaded cv351_17029.txt\nLoaded cv352_5414.txt\nLoaded cv353_19197.txt\nLoaded cv354_8573.txt\nLoaded cv355_18174.txt\nLoaded cv356_26170.txt\nLoaded cv357_14710.txt\nLoaded cv358_11557.txt\nLoaded cv359_6751.txt\nLoaded cv360_8927.txt\nLoaded cv361_28738.txt\nLoaded cv362_16985.txt\nLoaded cv363_29273.txt\nLoaded cv364_14254.txt\nLoaded cv365_12442.txt\nLoaded cv366_10709.txt\nLoaded cv367_24065.txt\nLoaded cv368_11090.txt\nLoaded cv369_14245.txt\nLoaded cv370_5338.txt\nLoaded cv371_8197.txt\nLoaded cv372_6654.txt\nLoaded cv373_21872.txt\nLoaded cv374_26455.txt\nLoaded cv375_9932.txt\nLoaded cv376_20883.txt\nLoaded cv377_8440.txt\nLoaded cv378_21982.txt\nLoaded cv379_23167.txt\nLoaded cv380_8164.txt\nLoaded cv381_21673.txt\nLoaded cv382_8393.txt\nLoaded cv383_14662.txt\nLoaded cv384_18536.txt\nLoaded cv385_29621.txt\nLoaded cv386_10229.txt\nLoaded cv387_12391.txt\nLoaded cv388_12810.txt\nLoaded cv389_9611.txt\nLoaded cv390_12187.txt\nLoaded cv391_11615.txt\nLoaded cv392_12238.txt\nLoaded cv393_29234.txt\nLoaded cv394_5311.txt\nLoaded cv395_11761.txt\nLoaded cv396_19127.txt\nLoaded cv397_28890.txt\nLoaded cv398_17047.txt\nLoaded cv399_28593.txt\nLoaded cv400_20631.txt\nLoaded cv401_13758.txt\nLoaded cv402_16097.txt\nLoaded cv403_6721.txt\nLoaded cv404_21805.txt\nLoaded cv405_21868.txt\nLoaded cv406_22199.txt\nLoaded cv407_23928.txt\nLoaded cv408_5367.txt\nLoaded cv409_29625.txt\nLoaded cv410_25624.txt\nLoaded cv411_16799.txt\nLoaded cv412_25254.txt\nLoaded cv413_7893.txt\nLoaded cv414_11161.txt\nLoaded cv415_23674.txt\nLoaded cv416_12048.txt\nLoaded cv417_14653.txt\nLoaded cv418_16562.txt\nLoaded cv419_14799.txt\nLoaded cv420_28631.txt\nLoaded cv421_9752.txt\nLoaded cv422_9632.txt\nLoaded cv423_12089.txt\nLoaded cv424_9268.txt\nLoaded cv425_8603.txt\nLoaded cv426_10976.txt\nLoaded cv427_11693.txt\nLoaded cv428_12202.txt\nLoaded cv429_7937.txt\nLoaded cv430_18662.txt\nLoaded cv431_7538.txt\nLoaded cv432_15873.txt\nLoaded cv433_10443.txt\nLoaded cv434_5641.txt\nLoaded cv435_24355.txt\nLoaded cv436_20564.txt\nLoaded cv437_24070.txt\nLoaded cv438_8500.txt\nLoaded cv439_17633.txt\nLoaded cv440_16891.txt\nLoaded cv441_15276.txt\nLoaded cv442_15499.txt\nLoaded cv443_22367.txt\nLoaded cv444_9975.txt\nLoaded cv445_26683.txt\nLoaded cv446_12209.txt\nLoaded cv447_27334.txt\nLoaded cv448_16409.txt\nLoaded cv449_9126.txt\nLoaded cv450_8319.txt\nLoaded cv451_11502.txt\nLoaded cv452_5179.txt\nLoaded cv453_10911.txt\nLoaded cv454_21961.txt\nLoaded cv455_28866.txt\nLoaded cv456_20370.txt\nLoaded cv457_19546.txt\nLoaded cv458_9000.txt\nLoaded cv459_21834.txt\nLoaded cv460_11723.txt\nLoaded cv461_21124.txt\nLoaded cv462_20788.txt\nLoaded cv463_10846.txt\nLoaded cv464_17076.txt\nLoaded cv465_23401.txt\nLoaded cv466_20092.txt\nLoaded cv467_26610.txt\nLoaded cv468_16844.txt\nLoaded cv469_21998.txt\nLoaded cv470_17444.txt\nLoaded cv471_18405.txt\nLoaded cv472_29140.txt\nLoaded cv473_7869.txt\nLoaded cv474_10682.txt\nLoaded cv475_22978.txt\nLoaded cv476_18402.txt\nLoaded cv477_23530.txt\nLoaded cv478_15921.txt\nLoaded cv479_5450.txt\nLoaded cv480_21195.txt\nLoaded cv481_7930.txt\nLoaded cv482_11233.txt\nLoaded cv483_18103.txt\nLoaded cv484_26169.txt\nLoaded cv485_26879.txt\nLoaded cv486_9788.txt\nLoaded cv487_11058.txt\nLoaded cv488_21453.txt\nLoaded cv489_19046.txt\nLoaded cv490_18986.txt\nLoaded cv491_12992.txt\nLoaded cv492_19370.txt\nLoaded cv493_14135.txt\nLoaded cv494_18689.txt\nLoaded cv495_16121.txt\nLoaded cv496_11185.txt\nLoaded cv497_27086.txt\nLoaded cv498_9288.txt\nLoaded cv499_11407.txt\nLoaded cv500_10722.txt\nLoaded cv501_12675.txt\nLoaded cv502_10970.txt\nLoaded cv503_11196.txt\nLoaded cv504_29120.txt\nLoaded cv505_12926.txt\nLoaded cv506_17521.txt\nLoaded cv507_9509.txt\nLoaded cv508_17742.txt\nLoaded cv509_17354.txt\nLoaded cv510_24758.txt\nLoaded cv511_10360.txt\nLoaded cv512_17618.txt\nLoaded cv513_7236.txt\nLoaded cv514_12173.txt\nLoaded cv515_18484.txt\nLoaded cv516_12117.txt\nLoaded cv517_20616.txt\nLoaded cv518_14798.txt\nLoaded cv519_16239.txt\nLoaded cv520_13297.txt\nLoaded cv521_1730.txt\nLoaded cv522_5418.txt\nLoaded cv523_18285.txt\nLoaded cv524_24885.txt\nLoaded cv525_17930.txt\nLoaded cv526_12868.txt\nLoaded cv527_10338.txt\nLoaded cv528_11669.txt\nLoaded cv529_10972.txt\nLoaded cv530_17949.txt\nLoaded cv531_26838.txt\nLoaded cv532_6495.txt\nLoaded cv533_9843.txt\nLoaded cv534_15683.txt\nLoaded cv535_21183.txt\nLoaded cv536_27221.txt\nLoaded cv537_13516.txt\nLoaded cv538_28485.txt\nLoaded cv539_21865.txt\nLoaded cv540_3092.txt\nLoaded cv541_28683.txt\nLoaded cv542_20359.txt\nLoaded cv543_5107.txt\nLoaded cv544_5301.txt\nLoaded cv545_12848.txt\nLoaded cv546_12723.txt\nLoaded cv547_18043.txt\nLoaded cv548_18944.txt\nLoaded cv549_22771.txt\nLoaded cv550_23226.txt\nLoaded cv551_11214.txt\nLoaded cv552_0150.txt\nLoaded cv553_26965.txt\nLoaded cv554_14678.txt\nLoaded cv555_25047.txt\nLoaded cv556_16563.txt\nLoaded cv557_12237.txt\nLoaded cv558_29376.txt\nLoaded cv559_0057.txt\nLoaded cv560_18608.txt\nLoaded cv561_9484.txt\nLoaded cv562_10847.txt\nLoaded cv563_18610.txt\nLoaded cv564_12011.txt\nLoaded cv565_29403.txt\nLoaded cv566_8967.txt\nLoaded cv567_29420.txt\nLoaded cv568_17065.txt\nLoaded cv569_26750.txt\nLoaded cv570_28960.txt\nLoaded cv571_29292.txt\nLoaded cv572_20053.txt\nLoaded cv573_29384.txt\nLoaded cv574_23191.txt\nLoaded cv575_22598.txt\nLoaded cv576_15688.txt\nLoaded cv577_28220.txt\nLoaded cv578_16825.txt\nLoaded cv579_12542.txt\nLoaded cv580_15681.txt\nLoaded cv581_20790.txt\nLoaded cv582_6678.txt\nLoaded cv583_29465.txt\nLoaded cv584_29549.txt\nLoaded cv585_23576.txt\nLoaded cv586_8048.txt\nLoaded cv587_20532.txt\nLoaded cv588_14467.txt\nLoaded cv589_12853.txt\nLoaded cv590_20712.txt\nLoaded cv591_24887.txt\nLoaded cv592_23391.txt\nLoaded cv593_11931.txt\nLoaded cv594_11945.txt\nLoaded cv595_26420.txt\nLoaded cv596_4367.txt\nLoaded cv597_26744.txt\nLoaded cv598_18184.txt\nLoaded cv599_22197.txt\nLoaded cv600_25043.txt\nLoaded cv601_24759.txt\nLoaded cv602_8830.txt\nLoaded cv603_18885.txt\nLoaded cv604_23339.txt\nLoaded cv605_12730.txt\nLoaded cv606_17672.txt\nLoaded cv607_8235.txt\nLoaded cv608_24647.txt\nLoaded cv609_25038.txt\nLoaded cv610_24153.txt\nLoaded cv611_2253.txt\nLoaded cv612_5396.txt\nLoaded cv613_23104.txt\nLoaded cv614_11320.txt\nLoaded cv615_15734.txt\nLoaded cv616_29187.txt\nLoaded cv617_9561.txt\nLoaded cv618_9469.txt\nLoaded cv619_13677.txt\nLoaded cv620_2556.txt\nLoaded cv621_15984.txt\nLoaded cv622_8583.txt\nLoaded cv623_16988.txt\nLoaded cv624_11601.txt\nLoaded cv625_13518.txt\nLoaded cv626_7907.txt\nLoaded cv627_12603.txt\nLoaded cv628_20758.txt\nLoaded cv629_16604.txt\nLoaded cv630_10152.txt\nLoaded cv631_4782.txt\nLoaded cv632_9704.txt\nLoaded cv633_29730.txt\nLoaded cv634_11989.txt\nLoaded cv635_0984.txt\nLoaded cv636_16954.txt\nLoaded cv637_13682.txt\nLoaded cv638_29394.txt\nLoaded cv639_10797.txt\nLoaded cv640_5380.txt\nLoaded cv641_13412.txt\nLoaded cv642_29788.txt\nLoaded cv643_29282.txt\nLoaded cv644_18551.txt\nLoaded cv645_17078.txt\nLoaded cv646_16817.txt\nLoaded cv647_15275.txt\nLoaded cv648_17277.txt\nLoaded cv649_13947.txt\nLoaded cv650_15974.txt\nLoaded cv651_11120.txt\nLoaded cv652_15653.txt\nLoaded cv653_2107.txt\nLoaded cv654_19345.txt\nLoaded cv655_12055.txt\nLoaded cv656_25395.txt\nLoaded cv657_25835.txt\nLoaded cv658_11186.txt\nLoaded cv659_21483.txt\nLoaded cv660_23140.txt\nLoaded cv661_25780.txt\nLoaded cv662_14791.txt\nLoaded cv663_14484.txt\nLoaded cv664_4264.txt\nLoaded cv665_29386.txt\nLoaded cv666_20301.txt\nLoaded cv667_19672.txt\nLoaded cv668_18848.txt\nLoaded cv669_24318.txt\nLoaded cv670_2666.txt\nLoaded cv671_5164.txt\nLoaded cv672_27988.txt\nLoaded cv673_25874.txt\nLoaded cv674_11593.txt\nLoaded cv675_22871.txt\nLoaded cv676_22202.txt\nLoaded cv677_18938.txt\nLoaded cv678_14887.txt\nLoaded cv679_28221.txt\nLoaded cv680_10533.txt\nLoaded cv681_9744.txt\nLoaded cv682_17947.txt\nLoaded cv683_13047.txt\nLoaded cv684_12727.txt\nLoaded cv685_5710.txt\nLoaded cv686_15553.txt\nLoaded cv687_22207.txt\nLoaded cv688_7884.txt\nLoaded cv689_13701.txt\nLoaded cv690_5425.txt\nLoaded cv691_5090.txt\nLoaded cv692_17026.txt\nLoaded cv693_19147.txt\nLoaded cv694_4526.txt\nLoaded cv695_22268.txt\nLoaded cv696_29619.txt\nLoaded cv697_12106.txt\nLoaded cv698_16930.txt\nLoaded cv699_7773.txt\nLoaded cv700_23163.txt\nLoaded cv701_15880.txt\nLoaded cv702_12371.txt\nLoaded cv703_17948.txt\nLoaded cv704_17622.txt\nLoaded cv705_11973.txt\nLoaded cv706_25883.txt\nLoaded cv707_11421.txt\nLoaded cv708_28539.txt\nLoaded cv709_11173.txt\nLoaded cv710_23745.txt\nLoaded cv711_12687.txt\nLoaded cv712_24217.txt\nLoaded cv713_29002.txt\nLoaded cv714_19704.txt\nLoaded cv715_19246.txt\nLoaded cv716_11153.txt\nLoaded cv717_17472.txt\nLoaded cv718_12227.txt\nLoaded cv719_5581.txt\nLoaded cv720_5383.txt\nLoaded cv721_28993.txt\nLoaded cv722_7571.txt\nLoaded cv723_9002.txt\nLoaded cv724_15265.txt\nLoaded cv725_10266.txt\nLoaded cv726_4365.txt\nLoaded cv727_5006.txt\nLoaded cv728_17931.txt\nLoaded cv729_10475.txt\nLoaded cv730_10729.txt\nLoaded cv731_3968.txt\nLoaded cv732_13092.txt\nLoaded cv733_9891.txt\nLoaded cv734_22821.txt\nLoaded cv735_20218.txt\nLoaded cv736_24947.txt\nLoaded cv737_28733.txt\nLoaded cv738_10287.txt\nLoaded cv739_12179.txt\nLoaded cv740_13643.txt\nLoaded cv741_12765.txt\nLoaded cv742_8279.txt\nLoaded cv743_17023.txt\nLoaded cv744_10091.txt\nLoaded cv745_14009.txt\nLoaded cv746_10471.txt\nLoaded cv747_18189.txt\nLoaded cv748_14044.txt\nLoaded cv749_18960.txt\nLoaded cv750_10606.txt\nLoaded cv751_17208.txt\nLoaded cv752_25330.txt\nLoaded cv753_11812.txt\nLoaded cv754_7709.txt\nLoaded cv755_24881.txt\nLoaded cv756_23676.txt\nLoaded cv757_10668.txt\nLoaded cv758_9740.txt\nLoaded cv759_15091.txt\nLoaded cv760_8977.txt\nLoaded cv761_13769.txt\nLoaded cv762_15604.txt\nLoaded cv763_16486.txt\nLoaded cv764_12701.txt\nLoaded cv765_20429.txt\nLoaded cv766_7983.txt\nLoaded cv767_15673.txt\nLoaded cv768_12709.txt\nLoaded cv769_8565.txt\nLoaded cv770_11061.txt\nLoaded cv771_28466.txt\nLoaded cv772_12971.txt\nLoaded cv773_20264.txt\nLoaded cv774_15488.txt\nLoaded cv775_17966.txt\nLoaded cv776_21934.txt\nLoaded cv777_10247.txt\nLoaded cv778_18629.txt\nLoaded cv779_18989.txt\nLoaded cv780_8467.txt\nLoaded cv781_5358.txt\nLoaded cv782_21078.txt\nLoaded cv783_14724.txt\nLoaded cv784_16077.txt\nLoaded cv785_23748.txt\nLoaded cv786_23608.txt\nLoaded cv787_15277.txt\nLoaded cv788_26409.txt\nLoaded cv789_12991.txt\nLoaded cv790_16202.txt\nLoaded cv791_17995.txt\nLoaded cv792_3257.txt\nLoaded cv793_15235.txt\nLoaded cv794_17353.txt\nLoaded cv795_10291.txt\nLoaded cv796_17243.txt\nLoaded cv797_7245.txt\nLoaded cv798_24779.txt\nLoaded cv799_19812.txt\nLoaded cv800_13494.txt\nLoaded cv801_26335.txt\nLoaded cv802_28381.txt\nLoaded cv803_8584.txt\nLoaded cv804_11763.txt\nLoaded cv805_21128.txt\nLoaded cv806_9405.txt\nLoaded cv807_23024.txt\nLoaded cv808_13773.txt\nLoaded cv809_5012.txt\nLoaded cv810_13660.txt\nLoaded cv811_22646.txt\nLoaded cv812_19051.txt\nLoaded cv813_6649.txt\nLoaded cv814_20316.txt\nLoaded cv815_23466.txt\nLoaded cv816_15257.txt\nLoaded cv817_3675.txt\nLoaded cv818_10698.txt\nLoaded cv819_9567.txt\nLoaded cv820_24157.txt\nLoaded cv821_29283.txt\nLoaded cv822_21545.txt\nLoaded cv823_17055.txt\nLoaded cv824_9335.txt\nLoaded cv825_5168.txt\nLoaded cv826_12761.txt\nLoaded cv827_19479.txt\nLoaded cv828_21392.txt\nLoaded cv829_21725.txt\nLoaded cv830_5778.txt\nLoaded cv831_16325.txt\nLoaded cv832_24713.txt\nLoaded cv833_11961.txt\nLoaded cv834_23192.txt\nLoaded cv835_20531.txt\nLoaded cv836_14311.txt\nLoaded cv837_27232.txt\nLoaded cv838_25886.txt\nLoaded cv839_22807.txt\nLoaded cv840_18033.txt\nLoaded cv841_3367.txt\nLoaded cv842_5702.txt\nLoaded cv843_17054.txt\nLoaded cv844_13890.txt\nLoaded cv845_15886.txt\nLoaded cv846_29359.txt\nLoaded cv847_20855.txt\nLoaded cv848_10061.txt\nLoaded cv849_17215.txt\nLoaded cv850_18185.txt\nLoaded cv851_21895.txt\nLoaded cv852_27512.txt\nLoaded cv853_29119.txt\nLoaded cv854_18955.txt\nLoaded cv855_22134.txt\nLoaded cv856_28882.txt\nLoaded cv857_17527.txt\nLoaded cv858_20266.txt\nLoaded cv859_15689.txt\nLoaded cv860_15520.txt\nLoaded cv861_12809.txt\nLoaded cv862_15924.txt\nLoaded cv863_7912.txt\nLoaded cv864_3087.txt\nLoaded cv865_28796.txt\nLoaded cv866_29447.txt\nLoaded cv867_18362.txt\nLoaded cv868_12799.txt\nLoaded cv869_24782.txt\nLoaded cv870_18090.txt\nLoaded cv871_25971.txt\nLoaded cv872_13710.txt\nLoaded cv873_19937.txt\nLoaded cv874_12182.txt\nLoaded cv875_5622.txt\nLoaded cv876_9633.txt\nLoaded cv877_29132.txt\nLoaded cv878_17204.txt\nLoaded cv879_16585.txt\nLoaded cv880_29629.txt\nLoaded cv881_14767.txt\nLoaded cv882_10042.txt\nLoaded cv883_27621.txt\nLoaded cv884_15230.txt\nLoaded cv885_13390.txt\nLoaded cv886_19210.txt\nLoaded cv887_5306.txt\nLoaded cv888_25678.txt\nLoaded cv889_22670.txt\nLoaded cv890_3515.txt\nLoaded cv891_6035.txt\nLoaded cv892_18788.txt\nLoaded cv893_26731.txt\nLoaded cv894_22140.txt\nLoaded cv895_22200.txt\nLoaded cv896_17819.txt\nLoaded cv897_11703.txt\nLoaded cv898_1576.txt\nLoaded cv899_17812.txt\nLoaded cv900_10800.txt\nLoaded cv901_11934.txt\nLoaded cv902_13217.txt\nLoaded cv903_18981.txt\nLoaded cv904_25663.txt\nLoaded cv905_28965.txt\nLoaded cv906_12332.txt\nLoaded cv907_3193.txt\nLoaded cv908_17779.txt\nLoaded cv909_9973.txt\nLoaded cv910_21930.txt\nLoaded cv911_21695.txt\nLoaded cv912_5562.txt\nLoaded cv913_29127.txt\nLoaded cv914_2856.txt\nLoaded cv915_9342.txt\nLoaded cv916_17034.txt\nLoaded cv917_29484.txt\nLoaded cv918_27080.txt\nLoaded cv919_18155.txt\nLoaded cv920_29423.txt\nLoaded cv921_13988.txt\nLoaded cv922_10185.txt\nLoaded cv923_11951.txt\nLoaded cv924_29397.txt\nLoaded cv925_9459.txt\nLoaded cv926_18471.txt\nLoaded cv927_11471.txt\nLoaded cv928_9478.txt\nLoaded cv929_1841.txt\nLoaded cv930_14949.txt\nLoaded cv931_18783.txt\nLoaded cv932_14854.txt\nLoaded cv933_24953.txt\nLoaded cv934_20426.txt\nLoaded cv935_24977.txt\nLoaded cv936_17473.txt\nLoaded cv937_9816.txt\nLoaded cv938_10706.txt\nLoaded cv939_11247.txt\nLoaded cv940_18935.txt\nLoaded cv941_10718.txt\nLoaded cv942_18509.txt\nLoaded cv943_23547.txt\nLoaded cv944_15042.txt\nLoaded cv945_13012.txt\nLoaded cv946_20084.txt\nLoaded cv947_11316.txt\nLoaded cv948_25870.txt\nLoaded cv949_21565.txt\nLoaded cv950_13478.txt\nLoaded cv951_11816.txt\nLoaded cv952_26375.txt\nLoaded cv953_7078.txt\nLoaded cv954_19932.txt\nLoaded cv955_26154.txt\nLoaded cv956_12547.txt\nLoaded cv957_9059.txt\nLoaded cv958_13020.txt\nLoaded cv959_16218.txt\nLoaded cv960_28877.txt\nLoaded cv961_5578.txt\nLoaded cv962_9813.txt\nLoaded cv963_7208.txt\nLoaded cv964_5794.txt\nLoaded cv965_26688.txt\nLoaded cv966_28671.txt\nLoaded cv967_5626.txt\nLoaded cv968_25413.txt\nLoaded cv969_14760.txt\nLoaded cv970_19532.txt\nLoaded cv971_11790.txt\nLoaded cv972_26837.txt\nLoaded cv973_10171.txt\nLoaded cv974_24303.txt\nLoaded cv975_11920.txt\nLoaded cv976_10724.txt\nLoaded cv977_4776.txt\nLoaded cv978_22192.txt\nLoaded cv979_2029.txt\nLoaded cv980_11851.txt\nLoaded cv981_16679.txt\nLoaded cv982_22209.txt\nLoaded cv983_24219.txt\nLoaded cv984_14006.txt\nLoaded cv985_5964.txt\nLoaded cv986_15092.txt\nLoaded cv987_7394.txt\nLoaded cv988_20168.txt\nLoaded cv989_17297.txt\nLoaded cv990_12443.txt\nLoaded cv991_19973.txt\nLoaded cv992_12806.txt\nLoaded cv993_29565.txt\nLoaded cv994_13229.txt\nLoaded cv995_23113.txt\nLoaded cv996_12447.txt\nLoaded cv997_5152.txt\nLoaded cv998_15691.txt\nLoaded cv999_14636.txt\n"
    }
   ],
   "source": [
    "from os import listdir\n",
    "# load doc into memory\n",
    "def load_doc(filename):\n",
    "    # open the file as read only\n",
    "    file = open(filename, 'r')\n",
    "    # read all text\n",
    "    text = file.read()\n",
    "    # close the file\n",
    "    file.close()\n",
    "    return text\n",
    "\n",
    "# load all docs in a directory\n",
    "def process_docs(directory):\n",
    "    # walk through all files in the folder\n",
    "    for filename in listdir(directory):\n",
    "        # skip files that do not have the right extension\n",
    "        if not filename.endswith(\".txt\"):\n",
    "            next\n",
    "        # create the full path of the file to open\n",
    "        path = directory + '/' + filename\n",
    "        # load document\n",
    "        doc = load_doc(path)\n",
    "        print('Loaded %s' % filename)\n",
    "\n",
    "# specify directory to load\n",
    "directory = './data/txt_sentoken/neg'\n",
    "process_docs(directory)"
   ]
  },
  {
   "cell_type": "markdown",
   "metadata": {},
   "source": [
    "## Clean Text Data\n",
    "### Split into Tokens"
   ]
  },
  {
   "cell_type": "code",
   "execution_count": 37,
   "metadata": {},
   "outputs": [
    {
     "output_type": "stream",
     "name": "stdout",
     "text": "['plot', ':', 'two', 'teen', 'couples', 'go', 'to', 'a', 'church', 'party', ',', 'drink', 'and', 'then', 'drive', '.', 'they', 'get', 'into', 'an', 'accident', '.', 'one', 'of', 'the', 'guys', 'dies', ',', 'but', 'his', 'girlfriend', 'continues', 'to', 'see', 'him', 'in', 'her', 'life', ',', 'and', 'has', 'nightmares', '.', \"what's\", 'the', 'deal', '?', 'watch', 'the', 'movie', 'and', '\"', 'sorta', '\"', 'find', 'out', '.', '.', '.', 'critique', ':', 'a', 'mind-fuck', 'movie', 'for', 'the', 'teen', 'generation', 'that', 'touches', 'on', 'a', 'very', 'cool', 'idea', ',', 'but', 'presents', 'it', 'in', 'a', 'very', 'bad', 'package', '.', 'which', 'is', 'what', 'makes', 'this', 'review', 'an', 'even', 'harder', 'one', 'to', 'write', ',', 'since', 'i', 'generally', 'applaud', 'films', 'which', 'attempt', 'to', 'break', 'the', 'mold', ',', 'mess', 'with', 'your', 'head', 'and', 'such', '(', 'lost', 'highway', '&', 'memento', ')', ',', 'but', 'there', 'are', 'good', 'and', 'bad', 'ways', 'of', 'making', 'all', 'types', 'of', 'films', ',', 'and', 'these', 'folks', 'just', \"didn't\", 'snag', 'this', 'one', 'correctly', '.', 'they', 'seem', 'to', 'have', 'taken', 'this', 'pretty', 'neat', 'concept', ',', 'but', 'executed', 'it', 'terribly', '.', 'so', 'what', 'are', 'the', 'problems', 'with', 'the', 'movie', '?', 'well', ',', 'its', 'main', 'problem', 'is', 'that', \"it's\", 'simply', 'too', 'jumbled', '.', 'it', 'starts', 'off', '\"', 'normal', '\"', 'but', 'then', 'downshifts', 'into', 'this', '\"', 'fantasy', '\"', 'world', 'in', 'which', 'you', ',', 'as', 'an', 'audience', 'member', ',', 'have', 'no', 'idea', \"what's\", 'going', 'on', '.', 'there', 'are', 'dreams', ',', 'there', 'are', 'characters', 'coming', 'back', 'from', 'the', 'dead', ',', 'there', 'are', 'others', 'who', 'look', 'like', 'the', 'dead', ',', 'there', 'are', 'strange', 'apparitions', ',', 'there', 'are', 'disappearances', ',', 'there', 'are', 'a', 'looooot', 'of', 'chase', 'scenes', ',', 'there', 'are', 'tons', 'of', 'weird', 'things', 'that', 'happen', ',', 'and', 'most', 'of', 'it', 'is', 'simply', 'not', 'explained', '.', 'now', 'i', 'personally', \"don't\", 'mind', 'trying', 'to', 'unravel', 'a', 'film', 'every', 'now', 'and', 'then', ',', 'but', 'when', 'all', 'it', 'does', 'is', 'give', 'me', 'the', 'same', 'clue', 'over', 'and', 'over', 'again', ',', 'i', 'get', 'kind', 'of', 'fed', 'up', 'after', 'a', 'while', ',', 'which', 'is', 'this', \"film's\", 'biggest', 'problem', '.', \"it's\", 'obviously', 'got', 'this', 'big', 'secret', 'to', 'hide', ',', 'but', 'it', 'seems', 'to', 'want', 'to', 'hide', 'it', 'completely', 'until', 'its', 'final', 'five', 'minutes', '.', 'and', 'do', 'they', 'make', 'things', 'entertaining', ',', 'thrilling', 'or', 'even', 'engaging', ',', 'in', 'the', 'meantime', '?', 'not', 'really', '.', 'the', 'sad', 'part', 'is', 'that', 'the', 'arrow', 'and', 'i', 'both', 'dig', 'on', 'flicks', 'like', 'this', ',', 'so', 'we', 'actually', 'figured', 'most', 'of', 'it', 'out', 'by', 'the', 'half-way', 'point', ',', 'so', 'all', 'of', 'the', 'strangeness', 'after', 'that', 'did', 'start', 'to', 'make', 'a', 'little', 'bit', 'of', 'sense', ',', 'but', 'it', 'still', \"didn't\", 'the', 'make', 'the', 'film', 'all', 'that', 'more', 'entertaining', '.', 'i', 'guess', 'the', 'bottom', 'line', 'with', 'movies', 'like', 'this', 'is', 'that', 'you', 'should', 'always', 'make', 'sure', 'that', 'the', 'audience', 'is', '\"', 'into', 'it', '\"', 'even', 'before', 'they', 'are', 'given', 'the', 'secret', 'password', 'to', 'enter', 'your', 'world', 'of', 'understanding', '.', 'i', 'mean', ',', 'showing', 'melissa', 'sagemiller', 'running', 'away', 'from', 'visions', 'for', 'about', '20', 'minutes', 'throughout', 'the', 'movie', 'is', 'just', 'plain', 'lazy', '!', '!', 'okay', ',', 'we', 'get', 'it', '.', '.', '.', 'there', 'are', 'people', 'chasing', 'her', 'and', 'we', \"don't\", 'know', 'who', 'they', 'are', '.', 'do', 'we', 'really', 'need', 'to', 'see', 'it', 'over', 'and', 'over', 'again', '?', 'how', 'about', 'giving', 'us', 'different', 'scenes', 'offering', 'further', 'insight', 'into', 'all', 'of', 'the', 'strangeness', 'going', 'down', 'in', 'the', 'movie', '?', 'apparently', ',', 'the', 'studio', 'took', 'this', 'film', 'away', 'from', 'its', 'director', 'and', 'chopped', 'it', 'up', 'themselves', ',', 'and', 'it', 'shows', '.', 'there', \"might've\", 'been', 'a', 'pretty', 'decent', 'teen', 'mind-fuck', 'movie', 'in', 'here', 'somewhere', ',', 'but', 'i', 'guess', '\"', 'the', 'suits', '\"', 'decided', 'that', 'turning', 'it', 'into', 'a', 'music', 'video', 'with', 'little', 'edge', ',', 'would', 'make', 'more', 'sense', '.', 'the', 'actors', 'are', 'pretty', 'good', 'for', 'the', 'most', 'part', ',', 'although', 'wes', 'bentley', 'just', 'seemed', 'to', 'be', 'playing', 'the', 'exact', 'same', 'character', 'that', 'he', 'did', 'in', 'american', 'beauty', ',', 'only', 'in', 'a', 'new', 'neighborhood', '.', 'but', 'my', 'biggest', 'kudos', 'go', 'out', 'to', 'sagemiller', ',', 'who', 'holds', 'her', 'own', 'throughout', 'the', 'entire', 'film', ',', 'and', 'actually', 'has', 'you', 'feeling', 'her', \"character's\", 'unraveling', '.', 'overall', ',', 'the', 'film', \"doesn't\", 'stick', 'because', 'it', \"doesn't\", 'entertain', ',', \"it's\", 'confusing', ',', 'it', 'rarely', 'excites', 'and', 'it', 'feels', 'pretty', 'redundant', 'for', 'most', 'of', 'its', 'runtime', ',', 'despite', 'a', 'pretty', 'cool', 'ending', 'and', 'explanation', 'to', 'all', 'of', 'the', 'craziness', 'that', 'came', 'before', 'it', '.', 'oh', ',', 'and', 'by', 'the', 'way', ',', 'this', 'is', 'not', 'a', 'horror', 'or', 'teen', 'slasher', 'flick', '.', '.', '.', \"it's\", 'just', 'packaged', 'to', 'look', 'that', 'way', 'because', 'someone', 'is', 'apparently', 'assuming', 'that', 'the', 'genre', 'is', 'still', 'hot', 'with', 'the', 'kids', '.', 'it', 'also', 'wrapped', 'production', 'two', 'years', 'ago', 'and', 'has', 'been', 'sitting', 'on', 'the', 'shelves', 'ever', 'since', '.', 'whatever', '.', '.', '.', 'skip', 'it', '!', \"where's\", 'joblo', 'coming', 'from', '?', 'a', 'nightmare', 'of', 'elm', 'street', '3', '(', '7/10', ')', '-', 'blair', 'witch', '2', '(', '7/10', ')', '-', 'the', 'crow', '(', '9/10', ')', '-', 'the', 'crow', ':', 'salvation', '(', '4/10', ')', '-', 'lost', 'highway', '(', '10/10', ')', '-', 'memento', '(', '10/10', ')', '-', 'the', 'others', '(', '9/10', ')', '-', 'stir', 'of', 'echoes', '(', '8/10', ')']\n"
    }
   ],
   "source": [
    "# load doc into memory\n",
    "def load_doc(filename):\n",
    "    # open the file as read only\n",
    "    file = open(filename, 'r')\n",
    "    # read all text\n",
    "    text = file.read()\n",
    "    # close the file\n",
    "    file.close()\n",
    "    return text\n",
    "\n",
    "# load the document\n",
    "filename = './data/txt_sentoken/neg/cv000_29416.txt'\n",
    "text = load_doc(filename)\n",
    "# split into tokens by white space\n",
    "tokens = text.split()\n",
    "print(tokens)"
   ]
  },
  {
   "cell_type": "markdown",
   "metadata": {},
   "source": [
    "Just looking at the raw tokens can give us a lot of ideas of things to try, such as:\n",
    "* Remove punctuation from words (e.g. `what's').\n",
    "* Removing tokens that are just punctuation (e.g. `-').\n",
    "* Removing tokens that contain numbers (e.g. `10/10').\n",
    "* Remove tokens that have one character (e.g. `a').\n",
    "* Remove tokens that don't have much meaning (e.g. `and')."
   ]
  },
  {
   "cell_type": "markdown",
   "metadata": {},
   "source": [
    "Some ideas:\n",
    "* We can fi\flter out punctuation from tokens using regular expressions.\n",
    "* We can remove tokens that are just punctuation or contain numbers by using an isalpha()\n",
    "check on each token.\n",
    "* We can remove English stop words using the list loaded using NLTK.\n",
    "* We can \flter out short tokens by checking their length."
   ]
  },
  {
   "cell_type": "code",
   "execution_count": 39,
   "metadata": {},
   "outputs": [
    {
     "output_type": "execute_result",
     "data": {
      "text/plain": "'hola'"
     },
     "metadata": {},
     "execution_count": 39
    }
   ],
   "source": [
    "# Mi ejemplo con regex package:\n",
    "import re\n",
    "\n",
    "re_punc = re.compile('[%s]' % re.escape(string.punctuation))\n",
    "re_punc.sub('', 'hol.a')\n"
   ]
  },
  {
   "cell_type": "code",
   "execution_count": 42,
   "metadata": {},
   "outputs": [
    {
     "output_type": "stream",
     "name": "stdout",
     "text": "['plot', 'two', 'teen', 'couples', 'go', 'church', 'party', 'drink', 'drive', 'get', 'accident', 'one', 'guys', 'dies', 'girlfriend', 'continues', 'see', 'life', 'nightmares', 'whats', 'deal', 'watch', 'movie', 'sorta', 'find', 'critique', 'mindfuck', 'movie', 'teen', 'generation', 'touches', 'cool', 'idea', 'presents', 'bad', 'package', 'makes', 'review', 'even', 'harder', 'one', 'write', 'since', 'generally', 'applaud', 'films', 'attempt', 'break', 'mold', 'mess', 'head', 'lost', 'highway', 'memento', 'good', 'bad', 'ways', 'making', 'types', 'films', 'folks', 'didnt', 'snag', 'one', 'correctly', 'seem', 'taken', 'pretty', 'neat', 'concept', 'executed', 'terribly', 'problems', 'movie', 'well', 'main', 'problem', 'simply', 'jumbled', 'starts', 'normal', 'downshifts', 'fantasy', 'world', 'audience', 'member', 'idea', 'whats', 'going', 'dreams', 'characters', 'coming', 'back', 'dead', 'others', 'look', 'like', 'dead', 'strange', 'apparitions', 'disappearances', 'looooot', 'chase', 'scenes', 'tons', 'weird', 'things', 'happen', 'simply', 'explained', 'personally', 'dont', 'mind', 'trying', 'unravel', 'film', 'every', 'give', 'clue', 'get', 'kind', 'fed', 'films', 'biggest', 'problem', 'obviously', 'got', 'big', 'secret', 'hide', 'seems', 'want', 'hide', 'completely', 'final', 'five', 'minutes', 'make', 'things', 'entertaining', 'thrilling', 'even', 'engaging', 'meantime', 'really', 'sad', 'part', 'arrow', 'dig', 'flicks', 'like', 'actually', 'figured', 'halfway', 'point', 'strangeness', 'start', 'make', 'little', 'bit', 'sense', 'still', 'didnt', 'make', 'film', 'entertaining', 'guess', 'bottom', 'line', 'movies', 'like', 'always', 'make', 'sure', 'audience', 'even', 'given', 'secret', 'password', 'enter', 'world', 'understanding', 'mean', 'showing', 'melissa', 'sagemiller', 'running', 'away', 'visions', 'minutes', 'throughout', 'movie', 'plain', 'lazy', 'okay', 'get', 'people', 'chasing', 'dont', 'know', 'really', 'need', 'see', 'giving', 'us', 'different', 'scenes', 'offering', 'insight', 'strangeness', 'going', 'movie', 'apparently', 'studio', 'took', 'film', 'away', 'director', 'chopped', 'shows', 'mightve', 'pretty', 'decent', 'teen', 'mindfuck', 'movie', 'somewhere', 'guess', 'suits', 'decided', 'turning', 'music', 'video', 'little', 'edge', 'would', 'make', 'sense', 'actors', 'pretty', 'good', 'part', 'although', 'wes', 'bentley', 'seemed', 'playing', 'exact', 'character', 'american', 'beauty', 'new', 'neighborhood', 'biggest', 'kudos', 'go', 'sagemiller', 'holds', 'throughout', 'entire', 'film', 'actually', 'feeling', 'characters', 'unraveling', 'overall', 'film', 'doesnt', 'stick', 'doesnt', 'entertain', 'confusing', 'rarely', 'excites', 'feels', 'pretty', 'redundant', 'runtime', 'despite', 'pretty', 'cool', 'ending', 'explanation', 'craziness', 'came', 'oh', 'way', 'horror', 'teen', 'slasher', 'flick', 'packaged', 'look', 'way', 'someone', 'apparently', 'assuming', 'genre', 'still', 'hot', 'kids', 'also', 'wrapped', 'production', 'two', 'years', 'ago', 'sitting', 'shelves', 'ever', 'since', 'whatever', 'skip', 'wheres', 'joblo', 'coming', 'nightmare', 'elm', 'street', 'blair', 'witch', 'crow', 'crow', 'salvation', 'lost', 'highway', 'memento', 'others', 'stir', 'echoes']\n"
    }
   ],
   "source": [
    "from nltk.corpus import stopwords\n",
    "import string\n",
    "import re\n",
    "\n",
    "# load doc into memory\n",
    "def load_doc(filename):\n",
    "    # open the file as read only\n",
    "    file = open(filename, 'r')\n",
    "    # read all text\n",
    "    text = file.read()\n",
    "    # close the file\n",
    "    file.close()\n",
    "    return text\n",
    "\n",
    "# load the document\n",
    "filename = './data/txt_sentoken/neg/cv000_29416.txt'\n",
    "text = load_doc(filename)\n",
    "# split into tokens by white space\n",
    "tokens = text.split()\n",
    "# prepare regex for char filtering  # REVISAR EL MÓDULO DE REGEX\n",
    "re_punc = re.compile('[%s]' % re.escape(string.punctuation))\n",
    "# remove punctuation from each word\n",
    "tokens = [re_punc.sub('', w) for w in tokens]\n",
    "# remove remaining tokens that are not alphabetic\n",
    "tokens = [word for word in tokens if word.isalpha()]\n",
    "# filter out stop words\n",
    "stop_words = set(stopwords.words('english'))\n",
    "tokens = [w for w in tokens if not w in stop_words]\n",
    "# filter out short tokens\n",
    "tokens = [word for word in tokens if len(word) > 1]\n",
    "print(tokens)"
   ]
  },
  {
   "cell_type": "code",
   "execution_count": null,
   "metadata": {},
   "outputs": [],
   "source": []
  },
  {
   "cell_type": "code",
   "execution_count": 1,
   "metadata": {},
   "outputs": [],
   "source": [
    "from nltk.metrics.distance import edit_distance"
   ]
  },
  {
   "cell_type": "code",
   "execution_count": 2,
   "metadata": {},
   "outputs": [],
   "source": [
    "ey_master = 'ERNEST & YOUNG SL'\n",
    "ey_text_2 = 'ERNST & YOUNG SA'\n",
    "ey_text_3 = 'ERNST &YOUNG SL'\n",
    "ey_text_4 = 'ERNST&YOUNG SL'\n",
    "ey_text_5 = 'ERNTS & YOUNG SL'\n",
    "\n",
    "minsait_text = 'MINSAIT by INDRA'\n",
    "\n",
    "ey_tests_list = [ey_text_2, ey_text_3, ey_text_4, ey_text_5, minsait_text]"
   ]
  },
  {
   "cell_type": "code",
   "execution_count": 3,
   "metadata": {},
   "outputs": [],
   "source": [
    "# COMPROBAMOS QUE LA DISTANCIA DE LA CADENA CORRECTA CONSIGO MISMA ES NULA:\n",
    "if edit_distance(ey_master, ey_master)!=0:\n",
    "    print('edit_distance function not validated')"
   ]
  },
  {
   "cell_type": "code",
   "execution_count": 4,
   "metadata": {},
   "outputs": [
    {
     "output_type": "stream",
     "name": "stdout",
     "text": "distancia entre ERNEST & YOUNG SL y ERNST & YOUNG SA: 2\ndistancia entre ERNEST & YOUNG SL y ERNST &YOUNG SL: 2\ndistancia entre ERNEST & YOUNG SL y ERNST&YOUNG SL: 3\ndistancia entre ERNEST & YOUNG SL y ERNTS & YOUNG SL: 2\ndistancia entre ERNEST & YOUNG SL y MINSAIT by INDRA: 14\n"
    }
   ],
   "source": [
    "for ey_text in ey_tests_list:\n",
    "    dist_from_master = edit_distance(ey_text, ey_master)\n",
    "    print('distancia entre {} y {}: {}'.format(ey_master, ey_text, dist_from_master)) "
   ]
  },
  {
   "cell_type": "code",
   "execution_count": 14,
   "metadata": {},
   "outputs": [
    {
     "output_type": "stream",
     "name": "stdout",
     "text": "ERNST & YOUNG SA-->ERNST&YOUNGSA\nERNST &YOUNG SL-->ERNST&YOUNGSL\n"
    }
   ],
   "source": [
    "ey_text_2_r = ey_text_2.replace(' ', '')\n",
    "ey_text_3_r = ey_text_3.replace(' ', '')\n",
    "\n",
    "print('{}-->{}'.format(ey_text_2, ey_text_2_r))\n",
    "print('{}-->{}'.format(ey_text_3, ey_text_3_r))"
   ]
  },
  {
   "cell_type": "code",
   "execution_count": 15,
   "metadata": {},
   "outputs": [
    {
     "output_type": "stream",
     "name": "stdout",
     "text": "distancia entre ERNST&YOUNGSA y ERNEST & YOUNG SL: 5\ndistancia entre ERNST&YOUNGSL y ERNEST & YOUNG SL: 4\n"
    }
   ],
   "source": [
    "dist_2r_from_master = edit_distance(ey_text_2_r, ey_master)\n",
    "dist_3r_from_master = edit_distance(ey_text_3_r, ey_master)\n",
    "\n",
    "print('distancia entre {} y {}: {}'.format(ey_text_2_r, ey_master, dist_2r_from_master))\n",
    "print('distancia entre {} y {}: {}'.format(ey_text_3_r, ey_master, dist_3r_from_master)) "
   ]
  },
  {
   "cell_type": "code",
   "execution_count": null,
   "metadata": {},
   "outputs": [],
   "source": []
  }
 ],
 "metadata": {
  "language_info": {
   "codemirror_mode": {
    "name": "ipython",
    "version": 3
   },
   "file_extension": ".py",
   "mimetype": "text/x-python",
   "name": "python",
   "nbconvert_exporter": "python",
   "pygments_lexer": "ipython3",
   "version": "3.7.4-final"
  },
  "orig_nbformat": 2,
  "kernelspec": {
   "name": "python37464bitbaseconda00f4e431a8b84e6585d67bb0d002ca0e",
   "display_name": "Python 3.7.4 64-bit ('base': conda)"
  }
 },
 "nbformat": 4,
 "nbformat_minor": 2
}